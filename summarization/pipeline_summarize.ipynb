{
 "cells": [
  {
   "cell_type": "code",
   "execution_count": 1,
   "id": "initial_id",
   "metadata": {
    "ExecuteTime": {
     "end_time": "2024-10-29T21:44:53.920228Z",
     "start_time": "2024-10-29T21:44:50.299674Z"
    },
    "colab": {
     "base_uri": "https://localhost:8080/"
    },
    "id": "initial_id",
    "outputId": "876ac71e-26b3-4c9a-dec4-e5637e3c647a"
   },
   "outputs": [
    {
     "name": "stdout",
     "output_type": "stream",
     "text": [
      "Exception reporting mode: Plain\n"
     ]
    },
    {
     "data": {
      "application/vnd.jupyter.widget-view+json": {
       "model_id": "88832fe2dfe14b8f91d0269965285b18",
       "version_major": 2,
       "version_minor": 0
      },
      "text/plain": [
       "Downloading builder script:   0%|          | 0.00/6.27k [00:00<?, ?B/s]"
      ]
     },
     "metadata": {},
     "output_type": "display_data"
    }
   ],
   "source": [
    "%load_ext autoreload\n",
    "%autoreload 2\n",
    "%xmode Plain\n",
    "\n",
    "from precompiled import *"
   ]
  },
  {
   "cell_type": "code",
   "execution_count": 2,
   "id": "54363f2f3c853ca3",
   "metadata": {
    "ExecuteTime": {
     "end_time": "2024-10-29T21:44:55.023772Z",
     "start_time": "2024-10-29T21:44:53.921317Z"
    },
    "colab": {
     "base_uri": "https://localhost:8080/",
     "height": 257,
     "referenced_widgets": [
      "5e0f54dc94074467bf029272bcc57f09",
      "d3c151b5e7774fe1b84e810d1bdd9692",
      "8bde7c8f05b941e98bd70553dcea51a7",
      "c19b525ef02448dd95ee88dc7955b0dd",
      "bb5ac4a7ec3d4f88901a0315533a9cae",
      "833ecec58d7b449da977f0936e7d6b92",
      "6cc31c72309548acb651f0f1c7f0dac1",
      "cd6a43dd319b4dce804bb8f2ec349528",
      "6ae8a0f71965432caff1e1c0c9b32ae4",
      "ee9960fc1cd7468391dc41f783e086ea",
      "66f05378e3aa472ba136e04ae542025e"
     ]
    },
    "id": "54363f2f3c853ca3",
    "outputId": "04f81190-06b2-4ccc-d00b-9afc7b3157d8"
   },
   "outputs": [
    {
     "data": {
      "application/vnd.jupyter.widget-view+json": {
       "model_id": "b27e49f5ded74a87a3f8ac687a2b743b",
       "version_major": 2,
       "version_minor": 0
      },
      "text/plain": [
       "Running tokenizer on train dataset:   0%|          | 0/2204 [00:00<?, ? examples/s]"
      ]
     },
     "metadata": {},
     "output_type": "display_data"
    },
    {
     "data": {
      "text/plain": [
       "(Dataset({\n",
       "     features: ['input_ids', 'attention_mask', 'labels'],\n",
       "     num_rows: 1763\n",
       " }),\n",
       " Dataset({\n",
       "     features: ['input_ids', 'attention_mask', 'labels'],\n",
       "     num_rows: 220\n",
       " }),\n",
       " Dataset({\n",
       "     features: ['input_ids', 'attention_mask', 'labels'],\n",
       "     num_rows: 221\n",
       " }))"
      ]
     },
     "execution_count": 2,
     "metadata": {},
     "output_type": "execute_result"
    }
   ],
   "source": [
    "from data import *\n",
    "\n",
    "train_dataset, val_dataset, test_dataset"
   ]
  },
  {
   "cell_type": "code",
   "execution_count": 11,
   "id": "65cee9f12aec6595",
   "metadata": {
    "ExecuteTime": {
     "end_time": "2024-10-29T21:44:56.865986Z",
     "start_time": "2024-10-29T21:44:55.024519Z"
    },
    "id": "65cee9f12aec6595"
   },
   "outputs": [],
   "source": [
    "fine_tuned = BartForConditionalGeneration.from_pretrained(model_name)  # type: BartForConditionalGeneration  # Just for comparsion of performance"
   ]
  },
  {
   "cell_type": "code",
   "execution_count": 12,
   "id": "622a77eb5114d815",
   "metadata": {
    "collapsed": false
   },
   "outputs": [
    {
     "name": "stderr",
     "output_type": "stream",
     "text": [
      "Using the `WANDB_DISABLED` environment variable is deprecated and will be removed in v5. Use the --report_to flag to control the integrations used for logging result (for instance --report_to none).\n"
     ]
    },
    {
     "name": "stdout",
     "output_type": "stream",
     "text": [
      "last checkpoint: None\n"
     ]
    },
    {
     "data": {
      "text/html": [
       "\n",
       "    <div>\n",
       "      \n",
       "      <progress value='420' max='420' style='width:300px; height:20px; vertical-align: middle;'></progress>\n",
       "      [420/420 15:01, Epoch 30/30]\n",
       "    </div>\n",
       "    <table border=\"1\" class=\"dataframe\">\n",
       "  <thead>\n",
       " <tr style=\"text-align: left;\">\n",
       "      <th>Step</th>\n",
       "      <th>Training Loss</th>\n",
       "      <th>Validation Loss</th>\n",
       "      <th>Rouge1</th>\n",
       "      <th>Rouge2</th>\n",
       "      <th>Rougel</th>\n",
       "      <th>Rougelsum</th>\n",
       "    </tr>\n",
       "  </thead>\n",
       "  <tbody>\n",
       "    <tr>\n",
       "      <td>100</td>\n",
       "      <td>2.967900</td>\n",
       "      <td>0.397921</td>\n",
       "      <td>0.560842</td>\n",
       "      <td>0.445290</td>\n",
       "      <td>0.422189</td>\n",
       "      <td>0.455366</td>\n",
       "    </tr>\n",
       "    <tr>\n",
       "      <td>200</td>\n",
       "      <td>0.873400</td>\n",
       "      <td>0.406849</td>\n",
       "      <td>0.660067</td>\n",
       "      <td>0.558261</td>\n",
       "      <td>0.499630</td>\n",
       "      <td>0.539249</td>\n",
       "    </tr>\n",
       "    <tr>\n",
       "      <td>300</td>\n",
       "      <td>0.280900</td>\n",
       "      <td>0.536534</td>\n",
       "      <td>0.694941</td>\n",
       "      <td>0.597733</td>\n",
       "      <td>0.521298</td>\n",
       "      <td>0.568439</td>\n",
       "    </tr>\n",
       "    <tr>\n",
       "      <td>400</td>\n",
       "      <td>0.096100</td>\n",
       "      <td>0.583816</td>\n",
       "      <td>0.693688</td>\n",
       "      <td>0.592221</td>\n",
       "      <td>0.520139</td>\n",
       "      <td>0.584070</td>\n",
       "    </tr>\n",
       "  </tbody>\n",
       "</table><p>"
      ],
      "text/plain": [
       "<IPython.core.display.HTML object>"
      ]
     },
     "metadata": {},
     "output_type": "display_data"
    },
    {
     "name": "stderr",
     "output_type": "stream",
     "text": [
      "Trainer.tokenizer is now deprecated. You should use Trainer.processing_class instead.\n",
      "Trainer.tokenizer is now deprecated. You should use Trainer.processing_class instead.\n",
      "Trainer.tokenizer is now deprecated. You should use Trainer.processing_class instead.\n",
      "Trainer.tokenizer is now deprecated. You should use Trainer.processing_class instead.\n",
      "Trainer.tokenizer is now deprecated. You should use Trainer.processing_class instead.\n",
      "Trainer.tokenizer is now deprecated. You should use Trainer.processing_class instead.\n",
      "Trainer.tokenizer is now deprecated. You should use Trainer.processing_class instead.\n",
      "Trainer.tokenizer is now deprecated. You should use Trainer.processing_class instead.\n",
      "Trainer.tokenizer is now deprecated. You should use Trainer.processing_class instead.\n",
      "Trainer.tokenizer is now deprecated. You should use Trainer.processing_class instead.\n",
      "Trainer.tokenizer is now deprecated. You should use Trainer.processing_class instead.\n",
      "Trainer.tokenizer is now deprecated. You should use Trainer.processing_class instead.\n",
      "Trainer.tokenizer is now deprecated. You should use Trainer.processing_class instead.\n",
      "Trainer.tokenizer is now deprecated. You should use Trainer.processing_class instead.\n",
      "Trainer.tokenizer is now deprecated. You should use Trainer.processing_class instead.\n",
      "Trainer.tokenizer is now deprecated. You should use Trainer.processing_class instead.\n",
      "Trainer.tokenizer is now deprecated. You should use Trainer.processing_class instead.\n",
      "Trainer.tokenizer is now deprecated. You should use Trainer.processing_class instead.\n",
      "Trainer.tokenizer is now deprecated. You should use Trainer.processing_class instead.\n",
      "Trainer.tokenizer is now deprecated. You should use Trainer.processing_class instead.\n",
      "Trainer.tokenizer is now deprecated. You should use Trainer.processing_class instead.\n",
      "Trainer.tokenizer is now deprecated. You should use Trainer.processing_class instead.\n",
      "Trainer.tokenizer is now deprecated. You should use Trainer.processing_class instead.\n",
      "Trainer.tokenizer is now deprecated. You should use Trainer.processing_class instead.\n",
      "Trainer.tokenizer is now deprecated. You should use Trainer.processing_class instead.\n",
      "Trainer.tokenizer is now deprecated. You should use Trainer.processing_class instead.\n",
      "Trainer.tokenizer is now deprecated. You should use Trainer.processing_class instead.\n",
      "Trainer.tokenizer is now deprecated. You should use Trainer.processing_class instead.\n",
      "Trainer.tokenizer is now deprecated. You should use Trainer.processing_class instead.\n"
     ]
    },
    {
     "data": {
      "text/html": [],
      "text/plain": [
       "<IPython.core.display.HTML object>"
      ]
     },
     "metadata": {},
     "output_type": "display_data"
    },
    {
     "name": "stderr",
     "output_type": "stream",
     "text": [
      "Trainer.tokenizer is now deprecated. You should use Trainer.processing_class instead.\n",
      "Trainer.tokenizer is now deprecated. You should use Trainer.processing_class instead.\n",
      "Trainer.tokenizer is now deprecated. You should use Trainer.processing_class instead.\n",
      "Trainer.tokenizer is now deprecated. You should use Trainer.processing_class instead.\n",
      "Trainer.tokenizer is now deprecated. You should use Trainer.processing_class instead.\n",
      "Trainer.tokenizer is now deprecated. You should use Trainer.processing_class instead.\n",
      "Trainer.tokenizer is now deprecated. You should use Trainer.processing_class instead.\n"
     ]
    },
    {
     "name": "stdout",
     "output_type": "stream",
     "text": [
      "{'test_loss': 0.4620197117328644, 'test_rouge1': 0.7178428456302859, 'test_rouge2': 0.6174638919793287, 'test_rougeL': 0.5417299771160848, 'test_rougeLsum': 0.5994859702177436, 'test_runtime': 59.2504, 'test_samples_per_second': 3.73, 'test_steps_per_second': 0.118}\n"
     ]
    }
   ],
   "source": [
    "# Fine-Tuning\n",
    "\n",
    "data_collator = DataCollatorForSeq2Seq(tokenizer, model=fine_tuned)\n",
    "\n",
    "DIR_FINETUNE = create_work_dir(\"tmp/smz/fine-tuning/\")\n",
    "last_checkpoint = get_last_checkpoint(DIR_FINETUNE)\n",
    "print(f\"last checkpoint: {last_checkpoint}\")\n",
    "training_args = Seq2SeqTrainingArguments(\n",
    "    output_dir=DIR_FINETUNE,\n",
    "    overwrite_output_dir=True,\n",
    "    num_train_epochs=30,  # if more, will overfit.\n",
    "    per_device_train_batch_size=32,\n",
    "    per_device_eval_batch_size=32,\n",
    "    eval_strategy=\"steps\",\n",
    "    save_strategy='steps',\n",
    "    save_steps=1000,\n",
    "    save_total_limit=2,\n",
    "    logging_dir=DIR_FINETUNE,\n",
    "    logging_first_step=True,\n",
    "    logging_strategy=\"steps\",\n",
    "    logging_steps=100,\n",
    "    log_level=\"warning\",\n",
    "    fp16=torch.cuda.is_available(),\n",
    "    gradient_accumulation_steps=4,\n",
    "    weight_decay=0.01,\n",
    "    warmup_steps=500,\n",
    "    # prediction_loss_only=True,predict_with_generate\n",
    "    predict_with_generate=True,\n",
    "\n",
    "    # max_steps=2,  # TODO\n",
    ")\n",
    "\n",
    "trainer = Seq2SeqTrainer(\n",
    "    model=fine_tuned,\n",
    "    args=training_args,\n",
    "    data_collator=data_collator,\n",
    "    train_dataset=train_dataset,\n",
    "    eval_dataset=val_dataset,\n",
    "    compute_metrics=compute_metrics,\n",
    ")\n",
    "\n",
    "trainer.train(resume_from_checkpoint=last_checkpoint)\n",
    "\n",
    "print_rouge_score(trainer, test_dataset)\n",
    "\n",
    "# save\n",
    "fine_tuned.save_pretrained(DIR_FINETUNE)"
   ]
  },
  {
   "cell_type": "code",
   "execution_count": 13,
   "id": "d2f3e11dd53d19f6",
   "metadata": {
    "ExecuteTime": {
     "end_time": "2024-10-29T21:45:31.128484Z",
     "start_time": "2024-10-29T21:44:56.866945Z"
    },
    "colab": {
     "base_uri": "https://localhost:8080/",
     "height": 165
    },
    "id": "d2f3e11dd53d19f6",
    "outputId": "38d81d29-7b50-401a-ad96-8ea05b7cf5c0"
   },
   "outputs": [
    {
     "name": "stderr",
     "output_type": "stream",
     "text": [
      "Using the `WANDB_DISABLED` environment variable is deprecated and will be removed in v5. Use the --report_to flag to control the integrations used for logging result (for instance --report_to none).\n"
     ]
    },
    {
     "name": "stdout",
     "output_type": "stream",
     "text": [
      "Model size: 0.86 GB\n"
     ]
    },
    {
     "data": {
      "text/html": [
       "\n",
       "    <div>\n",
       "      \n",
       "      <progress value='1400' max='1400' style='width:300px; height:20px; vertical-align: middle;'></progress>\n",
       "      [1400/1400 48:04, Epoch 100/100]\n",
       "    </div>\n",
       "    <table border=\"1\" class=\"dataframe\">\n",
       "  <thead>\n",
       " <tr style=\"text-align: left;\">\n",
       "      <th>Step</th>\n",
       "      <th>Training Loss</th>\n",
       "      <th>Validation Loss</th>\n",
       "    </tr>\n",
       "  </thead>\n",
       "  <tbody>\n",
       "    <tr>\n",
       "      <td>200</td>\n",
       "      <td>75.775200</td>\n",
       "      <td>8.986676</td>\n",
       "    </tr>\n",
       "    <tr>\n",
       "      <td>400</td>\n",
       "      <td>40.023000</td>\n",
       "      <td>6.746188</td>\n",
       "    </tr>\n",
       "    <tr>\n",
       "      <td>600</td>\n",
       "      <td>32.022000</td>\n",
       "      <td>5.794469</td>\n",
       "    </tr>\n",
       "    <tr>\n",
       "      <td>800</td>\n",
       "      <td>28.536100</td>\n",
       "      <td>5.373487</td>\n",
       "    </tr>\n",
       "    <tr>\n",
       "      <td>1000</td>\n",
       "      <td>26.767300</td>\n",
       "      <td>5.145839</td>\n",
       "    </tr>\n",
       "    <tr>\n",
       "      <td>1200</td>\n",
       "      <td>25.767200</td>\n",
       "      <td>5.021893</td>\n",
       "    </tr>\n",
       "    <tr>\n",
       "      <td>1400</td>\n",
       "      <td>25.281800</td>\n",
       "      <td>4.975522</td>\n",
       "    </tr>\n",
       "  </tbody>\n",
       "</table><p>"
      ],
      "text/plain": [
       "<IPython.core.display.HTML object>"
      ]
     },
     "metadata": {},
     "output_type": "display_data"
    },
    {
     "name": "stderr",
     "output_type": "stream",
     "text": [
      "Using the `WANDB_DISABLED` environment variable is deprecated and will be removed in v5. Use the --report_to flag to control the integrations used for logging result (for instance --report_to none).\n",
      "Trainer.tokenizer is now deprecated. You should use Trainer.processing_class instead.\n",
      "Trainer.tokenizer is now deprecated. You should use Trainer.processing_class instead.\n"
     ]
    },
    {
     "data": {
      "text/html": [],
      "text/plain": [
       "<IPython.core.display.HTML object>"
      ]
     },
     "metadata": {},
     "output_type": "display_data"
    },
    {
     "name": "stderr",
     "output_type": "stream",
     "text": [
      "Trainer.tokenizer is now deprecated. You should use Trainer.processing_class instead.\n",
      "Trainer.tokenizer is now deprecated. You should use Trainer.processing_class instead.\n",
      "Trainer.tokenizer is now deprecated. You should use Trainer.processing_class instead.\n",
      "Trainer.tokenizer is now deprecated. You should use Trainer.processing_class instead.\n",
      "Trainer.tokenizer is now deprecated. You should use Trainer.processing_class instead.\n",
      "Trainer.tokenizer is now deprecated. You should use Trainer.processing_class instead.\n",
      "Trainer.tokenizer is now deprecated. You should use Trainer.processing_class instead.\n",
      "Trainer.tokenizer is now deprecated. You should use Trainer.processing_class instead.\n",
      "Trainer.tokenizer is now deprecated. You should use Trainer.processing_class instead.\n",
      "Trainer.tokenizer is now deprecated. You should use Trainer.processing_class instead.\n",
      "Trainer.tokenizer is now deprecated. You should use Trainer.processing_class instead.\n"
     ]
    },
    {
     "name": "stdout",
     "output_type": "stream",
     "text": [
      "{'test_loss': 1.1748368740081787, 'test_model_preparation_time': 0.0024, 'test_rouge1': 0.7165056423822127, 'test_rouge2': 0.617316267408287, 'test_rougeL': 0.5512152425752284, 'test_rougeLsum': 0.6045522744541821, 'test_runtime': 43.4277, 'test_samples_per_second': 5.089, 'test_steps_per_second': 0.161}\n"
     ]
    }
   ],
   "source": [
    "# Distillation\n",
    "\n",
    "from distillation import *\n",
    "\n",
    "DIR_DISTIL = create_work_dir(\"tmp/smz/distillation/\")\n",
    "last_checkpoint = get_last_checkpoint(DIR_DISTIL)\n",
    "\n",
    "teacher = BartForConditionalGeneration.from_pretrained(DIR_FINETUNE)  # type: BartForConditionalGeneration\n",
    "# teacher has no need to update itself\n",
    "teacher.requires_grad_(False)\n",
    "teacher.eval()\n",
    "\n",
    "student = create_student(teacher)\n",
    "print_size(student)\n",
    "\n",
    "distiller_model = Distiller(teacher=teacher, student=student)\n",
    "\n",
    "training_args = TrainingArguments(\n",
    "    output_dir=DIR_DISTIL,\n",
    "    num_train_epochs=100,\n",
    "    per_device_train_batch_size=32,\n",
    "    per_device_eval_batch_size=32,\n",
    "    gradient_accumulation_steps=4,\n",
    "    warmup_steps=500,\n",
    "    eval_strategy=\"steps\",\n",
    "    save_strategy=\"steps\",\n",
    "    save_steps=1000,\n",
    "    save_total_limit=2,\n",
    "    learning_rate=5e-5,\n",
    "    logging_dir=DIR_DISTIL,\n",
    "    logging_steps=200,\n",
    "    logging_first_step=True,\n",
    "    log_level=\"warning\",\n",
    "    save_safetensors=False,\n",
    "    fp16=torch.cuda.is_available(),\n",
    "\n",
    "    # max_steps=2,  # TODO\n",
    ")\n",
    "\n",
    "trainer = Trainer(\n",
    "    model=distiller_model,\n",
    "    args=training_args,\n",
    "    train_dataset=train_dataset,\n",
    "    eval_dataset=val_dataset,\n",
    ")\n",
    "\n",
    "trainer.train(resume_from_checkpoint=last_checkpoint)\n",
    "\n",
    "print_rouge_score_2(student, test_dataset)"
   ]
  },
  {
   "cell_type": "code",
   "execution_count": 14,
   "id": "af788dafd24d8b8",
   "metadata": {
    "ExecuteTime": {
     "end_time": "2024-10-29T21:45:44.037305Z",
     "start_time": "2024-10-29T21:45:31.130261Z"
    },
    "colab": {
     "base_uri": "https://localhost:8080/",
     "height": 1000,
     "referenced_widgets": [
      "7812ca193de74396bfe6fddd504cf8dd",
      "a5149f97983c46bc833ebfadd8403af3"
     ]
    },
    "id": "af788dafd24d8b8",
    "outputId": "1cfcc976-2620-4486-f683-ce74ed46d92e",
    "scrolled": true
   },
   "outputs": [
    {
     "name": "stderr",
     "output_type": "stream",
     "text": [
      "Using the `WANDB_DISABLED` environment variable is deprecated and will be removed in v5. Use the --report_to flag to control the integrations used for logging result (for instance --report_to none).\n"
     ]
    },
    {
     "name": "stdout",
     "output_type": "stream",
     "text": [
      "last checkpoint: None\n"
     ]
    },
    {
     "data": {
      "application/vnd.jupyter.widget-view+json": {
       "model_id": "e6fd58b89ab84ae193f6d5b31696d2b6",
       "version_major": 2,
       "version_minor": 0
      },
      "text/plain": [
       "Output()"
      ]
     },
     "metadata": {},
     "output_type": "display_data"
    },
    {
     "data": {
      "text/html": [
       "\n",
       "    <div>\n",
       "      \n",
       "      <progress value='448' max='448' style='width:300px; height:20px; vertical-align: middle;'></progress>\n",
       "      [448/448 06:58, Epoch 32/32]\n",
       "    </div>\n",
       "    <table border=\"1\" class=\"dataframe\">\n",
       "  <thead>\n",
       " <tr style=\"text-align: left;\">\n",
       "      <th>Step</th>\n",
       "      <th>Training Loss</th>\n",
       "      <th>Validation Loss</th>\n",
       "    </tr>\n",
       "  </thead>\n",
       "  <tbody>\n",
       "    <tr>\n",
       "      <td>100</td>\n",
       "      <td>1.559300</td>\n",
       "      <td>0.622390</td>\n",
       "    </tr>\n",
       "    <tr>\n",
       "      <td>200</td>\n",
       "      <td>1.400200</td>\n",
       "      <td>0.658832</td>\n",
       "    </tr>\n",
       "    <tr>\n",
       "      <td>300</td>\n",
       "      <td>1.011200</td>\n",
       "      <td>0.733224</td>\n",
       "    </tr>\n",
       "    <tr>\n",
       "      <td>400</td>\n",
       "      <td>0.460400</td>\n",
       "      <td>0.797249</td>\n",
       "    </tr>\n",
       "  </tbody>\n",
       "</table><p>"
      ],
      "text/plain": [
       "<IPython.core.display.HTML object>"
      ]
     },
     "metadata": {},
     "output_type": "display_data"
    },
    {
     "data": {
      "image/png": "[encoded data removed]",
      "text/plain": [
       "<Figure size 640x480 with 1 Axes>"
      ]
     },
     "metadata": {},
     "output_type": "display_data"
    },
    {
     "data": {
      "image/png": "[encoded data removed]",
      "text/plain": [
       "<Figure size 640x480 with 1 Axes>"
      ]
     },
     "metadata": {},
     "output_type": "display_data"
    },
    {
     "data": {
      "image/png": "[encoded data removed]",
      "text/plain": [
       "<Figure size 640x480 with 1 Axes>"
      ]
     },
     "metadata": {},
     "output_type": "display_data"
    },
    {
     "data": {
      "image/png": "[encoded data removed]",
      "text/plain": [
       "<Figure size 640x480 with 1 Axes>"
      ]
     },
     "metadata": {},
     "output_type": "display_data"
    },
    {
     "data": {
      "image/png": "[encoded data removed]",
      "text/plain": [
       "<Figure size 640x480 with 1 Axes>"
      ]
     },
     "metadata": {},
     "output_type": "display_data"
    },
    {
     "data": {
      "image/png": "[encoded data removed]",
      "text/plain": [
       "<Figure size 640x480 with 1 Axes>"
      ]
     },
     "metadata": {},
     "output_type": "display_data"
    },
    {
     "data": {
      "image/png": "[encoded data removed]",
      "text/plain": [
       "<Figure size 640x480 with 1 Axes>"
      ]
     },
     "metadata": {},
     "output_type": "display_data"
    },
    {
     "data": {
      "image/png": "[encoded data removed]",
      "text/plain": [
       "<Figure size 640x480 with 1 Axes>"
      ]
     },
     "metadata": {},
     "output_type": "display_data"
    },
    {
     "data": {
      "image/png": "[encoded data removed]",
      "text/plain": [
       "<Figure size 640x480 with 1 Axes>"
      ]
     },
     "metadata": {},
     "output_type": "display_data"
    },
    {
     "data": {
      "image/png": "[encoded data removed]",
      "text/plain": [
       "<Figure size 640x480 with 1 Axes>"
      ]
     },
     "metadata": {},
     "output_type": "display_data"
    },
    {
     "name": "stdout",
     "output_type": "stream",
     "text": [
      "model.encoder.layers.0.self_attn.k_proj: row density: 1.0; col density: 1.0\n",
      "model.encoder.layers.0.self_attn.v_proj: row density: 1.0; col density: 1.0\n",
      "model.encoder.layers.0.self_attn.q_proj: row density: 1.0; col density: 1.0\n",
      "model.encoder.layers.0.self_attn.out_proj: row density: 1.0; col density: 1.0\n",
      "model.encoder.layers.0.fc1: row density: 0.4; col density: 1.0\n",
      "model.encoder.layers.0.fc2: row density: 1.0; col density: 0.4\n",
      "model.encoder.layers.1.self_attn.k_proj: row density: 1.0; col density: 1.0\n",
      "model.encoder.layers.1.self_attn.v_proj: row density: 1.0; col density: 1.0\n",
      "model.encoder.layers.1.self_attn.q_proj: row density: 1.0; col density: 1.0\n",
      "model.encoder.layers.1.self_attn.out_proj: row density: 1.0; col density: 1.0\n",
      "model.encoder.layers.1.fc1: row density: 0.4; col density: 1.0\n",
      "model.encoder.layers.1.fc2: row density: 1.0; col density: 0.4\n",
      "model.encoder.layers.2.self_attn.k_proj: row density: 1.0; col density: 1.0\n",
      "model.encoder.layers.2.self_attn.v_proj: row density: 1.0; col density: 1.0\n",
      "model.encoder.layers.2.self_attn.q_proj: row density: 1.0; col density: 1.0\n",
      "model.encoder.layers.2.self_attn.out_proj: row density: 1.0; col density: 1.0\n",
      "model.encoder.layers.2.fc1: row density: 0.4; col density: 1.0\n",
      "model.encoder.layers.2.fc2: row density: 1.0; col density: 0.4\n",
      "model.encoder.layers.3.self_attn.k_proj: row density: 1.0; col density: 1.0\n",
      "model.encoder.layers.3.self_attn.v_proj: row density: 1.0; col density: 1.0\n",
      "model.encoder.layers.3.self_attn.q_proj: row density: 1.0; col density: 1.0\n",
      "model.encoder.layers.3.self_attn.out_proj: row density: 1.0; col density: 1.0\n",
      "model.encoder.layers.3.fc1: row density: 0.4; col density: 1.0\n",
      "model.encoder.layers.3.fc2: row density: 1.0; col density: 0.4\n",
      "model.encoder.layers.4.self_attn.k_proj: row density: 1.0; col density: 1.0\n",
      "model.encoder.layers.4.self_attn.v_proj: row density: 1.0; col density: 1.0\n",
      "model.encoder.layers.4.self_attn.q_proj: row density: 1.0; col density: 1.0\n",
      "model.encoder.layers.4.self_attn.out_proj: row density: 1.0; col density: 1.0\n",
      "model.encoder.layers.4.fc1: row density: 0.4; col density: 1.0\n",
      "model.encoder.layers.4.fc2: row density: 1.0; col density: 0.4\n",
      "model.encoder.layers.5.self_attn.k_proj: row density: 1.0; col density: 1.0\n",
      "model.encoder.layers.5.self_attn.v_proj: row density: 1.0; col density: 1.0\n",
      "model.encoder.layers.5.self_attn.q_proj: row density: 1.0; col density: 1.0\n",
      "model.encoder.layers.5.self_attn.out_proj: row density: 1.0; col density: 1.0\n",
      "model.encoder.layers.5.fc1: row density: 0.4; col density: 1.0\n",
      "model.encoder.layers.5.fc2: row density: 1.0; col density: 0.4\n",
      "model.decoder.layers.0.self_attn.k_proj: row density: 1.0; col density: 1.0\n",
      "model.decoder.layers.0.self_attn.v_proj: row density: 1.0; col density: 1.0\n",
      "model.decoder.layers.0.self_attn.q_proj: row density: 1.0; col density: 1.0\n",
      "model.decoder.layers.0.self_attn.out_proj: row density: 1.0; col density: 1.0\n",
      "model.decoder.layers.0.encoder_attn.k_proj: row density: 1.0; col density: 1.0\n",
      "model.decoder.layers.0.encoder_attn.v_proj: row density: 1.0; col density: 1.0\n",
      "model.decoder.layers.0.encoder_attn.q_proj: row density: 1.0; col density: 1.0\n",
      "model.decoder.layers.0.encoder_attn.out_proj: row density: 1.0; col density: 1.0\n",
      "model.decoder.layers.0.fc1: row density: 0.4; col density: 1.0\n",
      "model.decoder.layers.0.fc2: row density: 1.0; col density: 0.4\n",
      "model.decoder.layers.1.self_attn.k_proj: row density: 1.0; col density: 1.0\n",
      "model.decoder.layers.1.self_attn.v_proj: row density: 1.0; col density: 1.0\n",
      "model.decoder.layers.1.self_attn.q_proj: row density: 1.0; col density: 1.0\n",
      "model.decoder.layers.1.self_attn.out_proj: row density: 1.0; col density: 1.0\n",
      "model.decoder.layers.1.encoder_attn.k_proj: row density: 1.0; col density: 1.0\n",
      "model.decoder.layers.1.encoder_attn.v_proj: row density: 1.0; col density: 1.0\n",
      "model.decoder.layers.1.encoder_attn.q_proj: row density: 1.0; col density: 1.0\n",
      "model.decoder.layers.1.encoder_attn.out_proj: row density: 1.0; col density: 1.0\n",
      "model.decoder.layers.1.fc1: row density: 0.4; col density: 1.0\n",
      "model.decoder.layers.1.fc2: row density: 1.0; col density: 0.4\n",
      "model.decoder.layers.2.self_attn.k_proj: row density: 1.0; col density: 1.0\n",
      "model.decoder.layers.2.self_attn.v_proj: row density: 1.0; col density: 1.0\n",
      "model.decoder.layers.2.self_attn.q_proj: row density: 1.0; col density: 1.0\n",
      "model.decoder.layers.2.self_attn.out_proj: row density: 1.0; col density: 1.0\n",
      "model.decoder.layers.2.encoder_attn.k_proj: row density: 1.0; col density: 1.0\n",
      "model.decoder.layers.2.encoder_attn.v_proj: row density: 1.0; col density: 1.0\n",
      "model.decoder.layers.2.encoder_attn.q_proj: row density: 1.0; col density: 1.0\n",
      "model.decoder.layers.2.encoder_attn.out_proj: row density: 1.0; col density: 1.0\n",
      "model.decoder.layers.2.fc1: row density: 0.4; col density: 1.0\n",
      "model.decoder.layers.2.fc2: row density: 1.0; col density: 0.4\n",
      "model.decoder.layers.3.self_attn.k_proj: row density: 1.0; col density: 1.0\n",
      "model.decoder.layers.3.self_attn.v_proj: row density: 1.0; col density: 1.0\n",
      "model.decoder.layers.3.self_attn.q_proj: row density: 1.0; col density: 1.0\n",
      "model.decoder.layers.3.self_attn.out_proj: row density: 1.0; col density: 1.0\n",
      "model.decoder.layers.3.encoder_attn.k_proj: row density: 1.0; col density: 1.0\n",
      "model.decoder.layers.3.encoder_attn.v_proj: row density: 1.0; col density: 1.0\n",
      "model.decoder.layers.3.encoder_attn.q_proj: row density: 1.0; col density: 1.0\n",
      "model.decoder.layers.3.encoder_attn.out_proj: row density: 1.0; col density: 1.0\n",
      "model.decoder.layers.3.fc1: row density: 0.4; col density: 1.0\n",
      "model.decoder.layers.3.fc2: row density: 1.0; col density: 0.4\n",
      "model.decoder.layers.4.self_attn.k_proj: row density: 1.0; col density: 1.0\n",
      "model.decoder.layers.4.self_attn.v_proj: row density: 1.0; col density: 1.0\n",
      "model.decoder.layers.4.self_attn.q_proj: row density: 1.0; col density: 1.0\n",
      "model.decoder.layers.4.self_attn.out_proj: row density: 1.0; col density: 1.0\n",
      "model.decoder.layers.4.encoder_attn.k_proj: row density: 1.0; col density: 1.0\n",
      "model.decoder.layers.4.encoder_attn.v_proj: row density: 1.0; col density: 1.0\n",
      "model.decoder.layers.4.encoder_attn.q_proj: row density: 1.0; col density: 1.0\n",
      "model.decoder.layers.4.encoder_attn.out_proj: row density: 1.0; col density: 1.0\n",
      "model.decoder.layers.4.fc1: row density: 0.4; col density: 1.0\n",
      "model.decoder.layers.4.fc2: row density: 1.0; col density: 0.4\n",
      "model.decoder.layers.5.self_attn.k_proj: row density: 1.0; col density: 1.0\n",
      "model.decoder.layers.5.self_attn.v_proj: row density: 1.0; col density: 1.0\n",
      "model.decoder.layers.5.self_attn.q_proj: row density: 1.0; col density: 1.0\n",
      "model.decoder.layers.5.self_attn.out_proj: row density: 1.0; col density: 1.0\n",
      "model.decoder.layers.5.encoder_attn.k_proj: row density: 1.0; col density: 1.0\n",
      "model.decoder.layers.5.encoder_attn.v_proj: row density: 1.0; col density: 1.0\n",
      "model.decoder.layers.5.encoder_attn.q_proj: row density: 1.0; col density: 1.0\n",
      "model.decoder.layers.5.encoder_attn.out_proj: row density: 1.0; col density: 1.0\n",
      "model.decoder.layers.5.fc1: row density: 0.4; col density: 1.0\n",
      "model.decoder.layers.5.fc2: row density: 1.0; col density: 0.4\n",
      "lm_head: row density: 1.0; col density: 1.0\n",
      "model.encoder.layers.0.self_attn: useless_heads: [4, 7, 8, 9]\n",
      "model.encoder.layers.1.self_attn: useless_heads: [1, 2, 11, 12]\n",
      "model.encoder.layers.2.self_attn: useless_heads: [0, 1, 8, 13]\n",
      "model.encoder.layers.3.self_attn: useless_heads: [0, 3, 6, 15]\n",
      "model.encoder.layers.4.self_attn: useless_heads: [1, 2, 12, 15]\n",
      "model.encoder.layers.5.self_attn: useless_heads: [4, 11, 12, 14]\n",
      "model.decoder.layers.0.self_attn: useless_heads: [0, 4, 11, 13]\n",
      "model.decoder.layers.0.encoder_attn: useless_heads: [2, 7, 8, 11]\n",
      "model.decoder.layers.1.self_attn: useless_heads: [3, 5, 10, 12]\n",
      "model.decoder.layers.1.encoder_attn: useless_heads: [5, 6, 13, 15]\n",
      "model.decoder.layers.2.self_attn: useless_heads: [0, 4, 13, 15]\n",
      "model.decoder.layers.2.encoder_attn: useless_heads: [3, 6, 8, 15]\n",
      "model.decoder.layers.3.self_attn: useless_heads: [0, 10, 13, 15]\n",
      "model.decoder.layers.3.encoder_attn: useless_heads: [1, 5, 6, 10]\n",
      "model.decoder.layers.4.self_attn: useless_heads: [2, 6, 8, 13]\n",
      "model.decoder.layers.4.encoder_attn: useless_heads: [2, 6, 11, 15]\n",
      "model.decoder.layers.5.self_attn: useless_heads: [1, 2, 12, 14]\n",
      "model.decoder.layers.5.encoder_attn: useless_heads: [5, 8, 14, 15]\n",
      "Model size: 0.56 GB\n"
     ]
    },
    {
     "name": "stderr",
     "output_type": "stream",
     "text": [
      "Trainer.tokenizer is now deprecated. You should use Trainer.processing_class instead.\n",
      "Trainer.tokenizer is now deprecated. You should use Trainer.processing_class instead.\n"
     ]
    },
    {
     "data": {
      "text/html": [],
      "text/plain": [
       "<IPython.core.display.HTML object>"
      ]
     },
     "metadata": {},
     "output_type": "display_data"
    },
    {
     "name": "stderr",
     "output_type": "stream",
     "text": [
      "Trainer.tokenizer is now deprecated. You should use Trainer.processing_class instead.\n",
      "Trainer.tokenizer is now deprecated. You should use Trainer.processing_class instead.\n",
      "Trainer.tokenizer is now deprecated. You should use Trainer.processing_class instead.\n",
      "Trainer.tokenizer is now deprecated. You should use Trainer.processing_class instead.\n",
      "Trainer.tokenizer is now deprecated. You should use Trainer.processing_class instead.\n",
      "Trainer.tokenizer is now deprecated. You should use Trainer.processing_class instead.\n",
      "Trainer.tokenizer is now deprecated. You should use Trainer.processing_class instead.\n",
      "Trainer.tokenizer is now deprecated. You should use Trainer.processing_class instead.\n",
      "Trainer.tokenizer is now deprecated. You should use Trainer.processing_class instead.\n",
      "Trainer.tokenizer is now deprecated. You should use Trainer.processing_class instead.\n",
      "Trainer.tokenizer is now deprecated. You should use Trainer.processing_class instead.\n",
      "Trainer.tokenizer is now deprecated. You should use Trainer.processing_class instead.\n",
      "Trainer.tokenizer is now deprecated. You should use Trainer.processing_class instead.\n",
      "Trainer.tokenizer is now deprecated. You should use Trainer.processing_class instead.\n",
      "Trainer.tokenizer is now deprecated. You should use Trainer.processing_class instead.\n",
      "Trainer.tokenizer is now deprecated. You should use Trainer.processing_class instead.\n",
      "Trainer.tokenizer is now deprecated. You should use Trainer.processing_class instead.\n",
      "Trainer.tokenizer is now deprecated. You should use Trainer.processing_class instead.\n",
      "Trainer.tokenizer is now deprecated. You should use Trainer.processing_class instead.\n",
      "Trainer.tokenizer is now deprecated. You should use Trainer.processing_class instead.\n",
      "Trainer.tokenizer is now deprecated. You should use Trainer.processing_class instead.\n",
      "Trainer.tokenizer is now deprecated. You should use Trainer.processing_class instead.\n",
      "Trainer.tokenizer is now deprecated. You should use Trainer.processing_class instead.\n",
      "Trainer.tokenizer is now deprecated. You should use Trainer.processing_class instead.\n",
      "Trainer.tokenizer is now deprecated. You should use Trainer.processing_class instead.\n",
      "Trainer.tokenizer is now deprecated. You should use Trainer.processing_class instead.\n",
      "Trainer.tokenizer is now deprecated. You should use Trainer.processing_class instead.\n",
      "Trainer.tokenizer is now deprecated. You should use Trainer.processing_class instead.\n",
      "Trainer.tokenizer is now deprecated. You should use Trainer.processing_class instead.\n",
      "Trainer.tokenizer is now deprecated. You should use Trainer.processing_class instead.\n",
      "Trainer.tokenizer is now deprecated. You should use Trainer.processing_class instead.\n",
      "Trainer.tokenizer is now deprecated. You should use Trainer.processing_class instead.\n",
      "Trainer.tokenizer is now deprecated. You should use Trainer.processing_class instead.\n",
      "Trainer.tokenizer is now deprecated. You should use Trainer.processing_class instead.\n",
      "Trainer.tokenizer is now deprecated. You should use Trainer.processing_class instead.\n",
      "Trainer.tokenizer is now deprecated. You should use Trainer.processing_class instead.\n",
      "Trainer.tokenizer is now deprecated. You should use Trainer.processing_class instead.\n",
      "Trainer.tokenizer is now deprecated. You should use Trainer.processing_class instead.\n",
      "Trainer.tokenizer is now deprecated. You should use Trainer.processing_class instead.\n",
      "Trainer.tokenizer is now deprecated. You should use Trainer.processing_class instead.\n",
      "Trainer.tokenizer is now deprecated. You should use Trainer.processing_class instead.\n",
      "Trainer.tokenizer is now deprecated. You should use Trainer.processing_class instead.\n",
      "Trainer.tokenizer is now deprecated. You should use Trainer.processing_class instead.\n",
      "Trainer.tokenizer is now deprecated. You should use Trainer.processing_class instead.\n",
      "Trainer.tokenizer is now deprecated. You should use Trainer.processing_class instead.\n",
      "Trainer.tokenizer is now deprecated. You should use Trainer.processing_class instead.\n",
      "Trainer.tokenizer is now deprecated. You should use Trainer.processing_class instead.\n",
      "Trainer.tokenizer is now deprecated. You should use Trainer.processing_class instead.\n",
      "Trainer.tokenizer is now deprecated. You should use Trainer.processing_class instead.\n",
      "Trainer.tokenizer is now deprecated. You should use Trainer.processing_class instead.\n",
      "Trainer.tokenizer is now deprecated. You should use Trainer.processing_class instead.\n",
      "Trainer.tokenizer is now deprecated. You should use Trainer.processing_class instead.\n",
      "Trainer.tokenizer is now deprecated. You should use Trainer.processing_class instead.\n",
      "Trainer.tokenizer is now deprecated. You should use Trainer.processing_class instead.\n"
     ]
    },
    {
     "name": "stdout",
     "output_type": "stream",
     "text": [
      "{'test_loss': 0.5399028658866882, 'test_rouge1': 0.7124569537631569, 'test_rouge2': 0.6116857332883305, 'test_rougeL': 0.5286218888132945, 'test_rougeLsum': 0.5785588842797578, 'test_runtime': 43.449, 'test_samples_per_second': 5.086, 'test_steps_per_second': 0.644}\n"
     ]
    }
   ],
   "source": [
    "# pruning\n",
    "from pruning import *\n",
    "\n",
    "model = student\n",
    "to_prune = convert_model(model)\n",
    "\n",
    "# scheduler.progress = 1.0\n",
    "# scheduler.attn_threshold = scheduler.attn_final_threshold\n",
    "# scheduler.ffn_threshold = scheduler.ffn_final_threshold\n",
    "\n",
    "data_collator = DataCollatorForSeq2Seq(tokenizer, model=to_prune)\n",
    "\n",
    "DIR_PRUNE = create_work_dir(\"tmp/smz/pruning/\")\n",
    "last_checkpoint = get_last_checkpoint(DIR_PRUNE)\n",
    "print(f\"last checkpoint: {last_checkpoint}\")\n",
    "training_args = Seq2SeqTrainingArguments(\n",
    "    output_dir=DIR_PRUNE,\n",
    "    overwrite_output_dir=True,\n",
    "    num_train_epochs=p_train_config.epochs,\n",
    "    per_device_train_batch_size=p_train_config.batch_size,\n",
    "    eval_strategy=\"steps\",\n",
    "    save_strategy='steps',\n",
    "    save_steps=1000,\n",
    "    save_total_limit=2,\n",
    "    logging_dir=DIR_PRUNE,\n",
    "    logging_first_step=True,\n",
    "    logging_strategy=\"steps\",\n",
    "    logging_steps=100,   # predict_with_generate=True works only in evaluation phase\n",
    "    predict_with_generate=True,\n",
    "    log_level=\"warning\",\n",
    "    fp16=torch.cuda.is_available(),\n",
    "    gradient_accumulation_steps=p_train_config.gradient_accumulation_steps,\n",
    "    weight_decay=0.01,\n",
    "    warmup_steps=500,\n",
    "    save_safetensors=False,  # we share masked scores between K,Q,V and between fc1,fc2.\n",
    "    prediction_loss_only=True,\n",
    "\n",
    "    # max_steps=2,  # TODO\n",
    ")\n",
    "\n",
    "trainer = Seq2SeqTrainer(\n",
    "    model=to_prune,\n",
    "    args=training_args,\n",
    "    data_collator=data_collator,\n",
    "    train_dataset=train_dataset,\n",
    "    eval_dataset=val_dataset,\n",
    "    callbacks=[SchedulerUpdateCallback()],\n",
    ")\n",
    "\n",
    "trainer.train(resume_from_checkpoint=last_checkpoint)\n",
    "\n",
    "\n",
    "print_pruning_density(to_prune)\n",
    "FFN_freeze(to_prune)\n",
    "print_linear_density_all(to_prune)\n",
    "FFN_prune_zeros(to_prune)\n",
    "ATTN_prune_zeros(to_prune)\n",
    "print_size(to_prune)\n",
    "\n",
    "print_rouge_score(trainer, test_dataset)\n",
    "\n",
    "# print(to_prune)"
   ]
  },
  {
   "cell_type": "code",
   "execution_count": 15,
   "id": "20c34728fe73c241",
   "metadata": {
    "ExecuteTime": {
     "end_time": "2024-10-29T21:46:08.356284Z",
     "start_time": "2024-10-29T21:45:44.037982Z"
    },
    "colab": {
     "base_uri": "https://localhost:8080/",
     "height": 1000
    },
    "id": "20c34728fe73c241",
    "jupyter": {
     "source_hidden": true
    },
    "outputId": "f8760ced-5353-4414-b461-da55e187eda5"
   },
   "outputs": [
    {
     "name": "stderr",
     "output_type": "stream",
     "text": [
      "Using the `WANDB_DISABLED` environment variable is deprecated and will be removed in v5. Use the --report_to flag to control the integrations used for logging result (for instance --report_to none).\n"
     ]
    },
    {
     "name": "stdout",
     "output_type": "stream",
     "text": [
      "last checkpoint: None\n"
     ]
    },
    {
     "data": {
      "text/html": [
       "\n",
       "    <div>\n",
       "      \n",
       "      <progress value='280' max='280' style='width:300px; height:20px; vertical-align: middle;'></progress>\n",
       "      [280/280 05:16, Epoch 20/20]\n",
       "    </div>\n",
       "    <table border=\"1\" class=\"dataframe\">\n",
       "  <thead>\n",
       " <tr style=\"text-align: left;\">\n",
       "      <th>Step</th>\n",
       "      <th>Training Loss</th>\n",
       "      <th>Validation Loss</th>\n",
       "    </tr>\n",
       "  </thead>\n",
       "  <tbody>\n",
       "    <tr>\n",
       "      <td>100</td>\n",
       "      <td>0.213300</td>\n",
       "      <td>0.636715</td>\n",
       "    </tr>\n",
       "    <tr>\n",
       "      <td>200</td>\n",
       "      <td>0.146500</td>\n",
       "      <td>0.669147</td>\n",
       "    </tr>\n",
       "  </tbody>\n",
       "</table><p>"
      ],
      "text/plain": [
       "<IPython.core.display.HTML object>"
      ]
     },
     "metadata": {},
     "output_type": "display_data"
    },
    {
     "name": "stderr",
     "output_type": "stream",
     "text": [
      "Trainer.tokenizer is now deprecated. You should use Trainer.processing_class instead.\n",
      "Trainer.tokenizer is now deprecated. You should use Trainer.processing_class instead.\n"
     ]
    },
    {
     "data": {
      "text/html": [],
      "text/plain": [
       "<IPython.core.display.HTML object>"
      ]
     },
     "metadata": {},
     "output_type": "display_data"
    },
    {
     "name": "stderr",
     "output_type": "stream",
     "text": [
      "Trainer.tokenizer is now deprecated. You should use Trainer.processing_class instead.\n",
      "Trainer.tokenizer is now deprecated. You should use Trainer.processing_class instead.\n",
      "Trainer.tokenizer is now deprecated. You should use Trainer.processing_class instead.\n",
      "Trainer.tokenizer is now deprecated. You should use Trainer.processing_class instead.\n",
      "Trainer.tokenizer is now deprecated. You should use Trainer.processing_class instead.\n",
      "Trainer.tokenizer is now deprecated. You should use Trainer.processing_class instead.\n",
      "Trainer.tokenizer is now deprecated. You should use Trainer.processing_class instead.\n",
      "Trainer.tokenizer is now deprecated. You should use Trainer.processing_class instead.\n",
      "Trainer.tokenizer is now deprecated. You should use Trainer.processing_class instead.\n",
      "Trainer.tokenizer is now deprecated. You should use Trainer.processing_class instead.\n",
      "Trainer.tokenizer is now deprecated. You should use Trainer.processing_class instead.\n",
      "Trainer.tokenizer is now deprecated. You should use Trainer.processing_class instead.\n",
      "Trainer.tokenizer is now deprecated. You should use Trainer.processing_class instead.\n",
      "Trainer.tokenizer is now deprecated. You should use Trainer.processing_class instead.\n",
      "Trainer.tokenizer is now deprecated. You should use Trainer.processing_class instead.\n",
      "Trainer.tokenizer is now deprecated. You should use Trainer.processing_class instead.\n",
      "Trainer.tokenizer is now deprecated. You should use Trainer.processing_class instead.\n",
      "Trainer.tokenizer is now deprecated. You should use Trainer.processing_class instead.\n",
      "Trainer.tokenizer is now deprecated. You should use Trainer.processing_class instead.\n",
      "Trainer.tokenizer is now deprecated. You should use Trainer.processing_class instead.\n",
      "Trainer.tokenizer is now deprecated. You should use Trainer.processing_class instead.\n",
      "Trainer.tokenizer is now deprecated. You should use Trainer.processing_class instead.\n",
      "Trainer.tokenizer is now deprecated. You should use Trainer.processing_class instead.\n",
      "Trainer.tokenizer is now deprecated. You should use Trainer.processing_class instead.\n",
      "Trainer.tokenizer is now deprecated. You should use Trainer.processing_class instead.\n",
      "Trainer.tokenizer is now deprecated. You should use Trainer.processing_class instead.\n",
      "Trainer.tokenizer is now deprecated. You should use Trainer.processing_class instead.\n",
      "Trainer.tokenizer is now deprecated. You should use Trainer.processing_class instead.\n",
      "Trainer.tokenizer is now deprecated. You should use Trainer.processing_class instead.\n",
      "Trainer.tokenizer is now deprecated. You should use Trainer.processing_class instead.\n",
      "Trainer.tokenizer is now deprecated. You should use Trainer.processing_class instead.\n",
      "Trainer.tokenizer is now deprecated. You should use Trainer.processing_class instead.\n",
      "Trainer.tokenizer is now deprecated. You should use Trainer.processing_class instead.\n",
      "Trainer.tokenizer is now deprecated. You should use Trainer.processing_class instead.\n",
      "Trainer.tokenizer is now deprecated. You should use Trainer.processing_class instead.\n",
      "Trainer.tokenizer is now deprecated. You should use Trainer.processing_class instead.\n",
      "Trainer.tokenizer is now deprecated. You should use Trainer.processing_class instead.\n",
      "Trainer.tokenizer is now deprecated. You should use Trainer.processing_class instead.\n",
      "Trainer.tokenizer is now deprecated. You should use Trainer.processing_class instead.\n",
      "Trainer.tokenizer is now deprecated. You should use Trainer.processing_class instead.\n",
      "Trainer.tokenizer is now deprecated. You should use Trainer.processing_class instead.\n",
      "Trainer.tokenizer is now deprecated. You should use Trainer.processing_class instead.\n",
      "Trainer.tokenizer is now deprecated. You should use Trainer.processing_class instead.\n",
      "Trainer.tokenizer is now deprecated. You should use Trainer.processing_class instead.\n",
      "Trainer.tokenizer is now deprecated. You should use Trainer.processing_class instead.\n",
      "Trainer.tokenizer is now deprecated. You should use Trainer.processing_class instead.\n",
      "Trainer.tokenizer is now deprecated. You should use Trainer.processing_class instead.\n",
      "Trainer.tokenizer is now deprecated. You should use Trainer.processing_class instead.\n",
      "Trainer.tokenizer is now deprecated. You should use Trainer.processing_class instead.\n",
      "Trainer.tokenizer is now deprecated. You should use Trainer.processing_class instead.\n",
      "Trainer.tokenizer is now deprecated. You should use Trainer.processing_class instead.\n",
      "Trainer.tokenizer is now deprecated. You should use Trainer.processing_class instead.\n",
      "Trainer.tokenizer is now deprecated. You should use Trainer.processing_class instead.\n",
      "Trainer.tokenizer is now deprecated. You should use Trainer.processing_class instead.\n"
     ]
    },
    {
     "name": "stdout",
     "output_type": "stream",
     "text": [
      "{'test_loss': 0.5591731071472168, 'test_rouge1': 0.7079365533268913, 'test_rouge2': 0.6043373138997292, 'test_rougeL': 0.523560178331491, 'test_rougeLsum': 0.5794820210297275, 'test_runtime': 43.7582, 'test_samples_per_second': 5.05, 'test_steps_per_second': 0.64}\n",
      "Model size: 0.34 GB\n"
     ]
    }
   ],
   "source": [
    "# PTQ, QAT\n",
    "from quantization import *\n",
    "\n",
    "model = to_prune\n",
    "ptq = get_ptq_model(model)\n",
    "\n",
    "data_collator = DataCollatorForSeq2Seq(tokenizer, model=ptq)\n",
    "\n",
    "DIR_QUANTIZE = create_work_dir(\"tmp/smz/quantization/\")\n",
    "last_checkpoint = get_last_checkpoint(DIR_QUANTIZE)\n",
    "print(f\"last checkpoint: {last_checkpoint}\")\n",
    "training_args = Seq2SeqTrainingArguments(\n",
    "    output_dir=DIR_QUANTIZE,\n",
    "    overwrite_output_dir=True,\n",
    "    num_train_epochs=q_train_config.epochs,\n",
    "    per_device_train_batch_size=q_train_config.batch_size,\n",
    "    eval_strategy=\"steps\",\n",
    "    save_strategy='steps',\n",
    "    save_steps=1000,\n",
    "    save_total_limit=1,\n",
    "    logging_dir=DIR_QUANTIZE,\n",
    "    logging_first_step=True,\n",
    "    logging_strategy=\"steps\",\n",
    "    logging_steps=100,\n",
    "    log_level=\"warning\",\n",
    "    fp16=torch.cuda.is_available(),\n",
    "    gradient_accumulation_steps=q_train_config.gradient_accumulation_steps,\n",
    "    weight_decay=0.01,\n",
    "    warmup_steps=500,\n",
    "    prediction_loss_only=True,\n",
    "\n",
    "    # max_steps=2,  # TODO\n",
    ")\n",
    "\n",
    "trainer = Seq2SeqTrainer(\n",
    "    model=ptq,\n",
    "    args=training_args,\n",
    "    data_collator=data_collator,\n",
    "    train_dataset=train_dataset,\n",
    "    eval_dataset=val_dataset,\n",
    ")\n",
    "\n",
    "trainer.train(resume_from_checkpoint=last_checkpoint)\n",
    "\n",
    "print_rouge_score(trainer, test_dataset)\n",
    "\n",
    "freeze(ptq)\n",
    "print_size(ptq)\n",
    "\n",
    "FINAL_FILE = DIR_QUANTIZE + \"final.pth\"\n",
    "torch.save(ptq, FINAL_FILE)  # TODO: save state dict only and save the scale dict in json."
   ]
  },
  {
   "cell_type": "code",
   "execution_count": 16,
   "id": "6e2465f4c375eea0",
   "metadata": {
    "ExecuteTime": {
     "start_time": "2024-10-29T21:54:40.635810Z"
    },
    "colab": {
     "base_uri": "https://localhost:8080/"
    },
    "id": "6e2465f4c375eea0",
    "is_executing": true,
    "outputId": "9ffbbf45-cd8c-419b-de38-13969be01b48"
   },
   "outputs": [
    {
     "name": "stdout",
     "output_type": "stream",
     "text": [
      "=================== 163 =====================\n",
      ">>> origin\t: Generated Summary: [Pakistanis are now hoping that energy and telecoms, two of the strongest sectors in Pakistan, draw some of the Arab money to the KSE.Pakistani investors are expecting the Kse to repeat, if not improve on, its 2002 performance.In 2002, the K SE index rose 112% and was the world's best performing stock market, with the index rising 112%.\"Coupled with the 7% GDP growth expected by June this year, I am least surprised at the market's performance,\" says Mr Lakhani.The Karachi Stock Exchange (KSE) has recorded its largest single day gain, surging 3]\n",
      "{'rouge1': 0.68, 'rouge2': 0.5354, 'rougeL': 0.28, 'rougeLsum': 0.28}\n",
      "===========================\n",
      ">>> opt\t: Generated Summary: [Market analysts are inclined to agree with Mr Lakhani, arguing that there are a number of major factors behind the KSE's performance.The KSE index closed at 6709.93 - an overall gain of nearly 400 points in the first two trading days of the week.Pakistani investors are expecting the market has risen on the basis of solid economic growth and its current level rests on sound foundations.The Karachi Stock Exchange (KSE) has recorded its largest single day gain, surging 3.5% to a new high.\"Coupled with the 7% GDP growth expected by June this year, I am least surprised]\n",
      "{'rouge1': 0.6049, 'rouge2': 0.4236, 'rougeL': 0.4293, 'rougeLsum': 0.4293}\n",
      "\n",
      "=================== 28 =====================\n",
      ">>> origin\t: Generated Summary: [If Jailhouse Rock does reach number one on Sunday, it will be the 999th in the history of the UK pop charts.If the record does make the top spot, It will be Elvis' 19th UK number one.Chart analysts say Elvis could score the 1000th number one as well.The last time he topped the charts was with the remix of the little-known song A Little Less Conversation, which was number one in June 2002.Rock 'n' roll legend Elvis is set to top the UK singles chart on Sunday,. 27 years after his death.]\n",
      "{'rouge1': 0.8851, 'rouge2': 0.8605, 'rougeL': 0.7011, 'rougeLsum': 0.7011}\n",
      "===========================\n",
      ">>> opt\t: Generated Summary: [Rock 'n' roll legend Elvis is set to top the UK singles chart on Sunday, 27 years after his death.If the record does make the top spot, it will be Elvis' 19th UK number one.The song first topped the charts in 1958.If Jailhouse Rock does reach number one on Sunday.It has called it \"the most ambitious singles release campaign in the history of the UK record industry\".]\n",
      "{'rouge1': 0.5676, 'rouge2': 0.4247, 'rougeL': 0.4459, 'rougeLsum': 0.4459}\n",
      "\n",
      "=================== 6 =====================\n",
      ">>> origin\t: Generated Summary: [\"The transition to the new Turkish lira shows clearly that our economy has broken the vicious circle that it was imprisoned in for long years,\" said Sureyya Serdengecti, head of the Turkish Central Bank.The currency - officially to be known as the new lira - will be launched at midnight on 1 January.Turkey is to relaunch its currency on Saturday, knocking six zeros off the lira in the hope of boosting trade and powering its growing economy.The government hopes the change will be seen as a promise of growing economic stability as Turkey embarks on the long process of trying to join the]\n",
      "{'rouge1': 0.6957, 'rouge2': 0.6146, 'rougeL': 0.6184, 'rougeLsum': 0.6184}\n",
      "===========================\n",
      ">>> opt\t: Generated Summary: [Turkey is to relaunch its currency on Saturday, knocking six zeros off the lira in the hope of boosting trade and powering its growing economy.\"The transition to the new Turkish lira shows clearly that our economy has broken the vicious circle that it was imprisoned in for long years,\" said Sureyya Serdengecti, head of the Turkish Central Bank.\"The new lira has been like funny money,\" Tevfik Aksoy, chief Turkish economist for Deutsche Bank, told Associated Press.From that point, the one-million lira note will become the new one-lira coin.\"The currency]\n",
      "{'rouge1': 0.7172, 'rouge2': 0.6327, 'rougeL': 0.4343, 'rougeLsum': 0.4343}\n",
      "\n",
      "=================== 189 =====================\n",
      ">>> origin\t: Generated Summary: [Brennan, who last played for Ireland against Samoa in 2001, is held in high esteem by the former England coach.\"If you speak to the players there's a huge amount of respect for the guy,\" Woodward told the Sunday Independent.\"I've spoken to quite a few players, and they probably don't know what they're actually saying when we're having these conversations,\" he told the newspaper.Toulouse's former Irish international Trevor Brennan could be one of Clive Woodward's many surprises when the 44-man Lions tour squad is announced.]\n",
      "{'rouge1': 0.936, 'rouge2': 0.9154, 'rougeL': 0.5517, 'rougeLsum': 0.5517}\n",
      "===========================\n",
      ">>> opt\t: Generated Summary: [\"If you speak to the players there's a huge amount of respect for the guy,\" Woodward told the Sunday Independent.\"But you talk about certain players and they'll say if they think they're up to scratch or that they don't want them in their team.\"I've spoken to quite a few players, and they probably don't know what they're actually saying when we're having these conversations,\" he told the newspaper.\"Players tend to know better than most coaches.Toulouse's former Irish international Trevor Brennan could be one of Clive Woodward's many surprises when the 44-man Lions tour squad is announced.]\n",
      "{'rouge1': 0.7215, 'rouge2': 0.6636, 'rougeL': 0.4932, 'rougeLsum': 0.4932}\n",
      "\n",
      "=================== 70 =====================\n",
      ">>> origin\t: Generated Summary: [And when Neville delivered a cross in a carbon copy of City's best first-half chance, Rooney showed McManaman how to do it - even if he needed the help of Dunne's leg.On 75 minutes, he scored a horrible own goal when attempting to volley clear Rooney's cross and United seemed home and dry.But United could have a had a third late on when substitute Ryan Giggs hit the post.- Manchester City did fight back and Fowler missed another great chance from close range.Wayne Rooney met Gary Neville's cross to the near post with a]\n",
      "{'rouge1': 0.3548, 'rouge2': 0.1413, 'rougeL': 0.2258, 'rougeLsum': 0.2258}\n",
      "===========================\n",
      ">>> opt\t: Generated Summary: [And when Neville delivered a cross in a carbon copy of City's best first-half chance, Rooney showed McManaman how to do it - even if he needed the help of Dunne's leg.Wayne Rooney met Gary Neville's cross to the near post with a low shot, which went in via a deflection off Richard Dunne, to put United ahead.RoRo was being well marshalled by Dunne - but that was all about to change.Manchester United reduced Chelsea's Premiership lead to nine points after a scrappy victory over Manchester City.On 75 minutes, he scored a horrible own goal when attempting to]\n",
      "{'rouge1': 0.4421, 'rouge2': 0.2447, 'rougeL': 0.2211, 'rougeLsum': 0.2211}\n"
     ]
    }
   ],
   "source": [
    "model = torch.load(FINAL_FILE)\n",
    "thaw(model)\n",
    "\n",
    "def print_summary(summarizer, text, answer, name: str):\n",
    "    gen_summary = summarizer(text)[0][\"summary_text\"]\n",
    "    score = rouge_score.compute(predictions=[gen_summary], references=[answer])\n",
    "    scores = {k: round(v, 4) for k, v in score.items()}\n",
    "    print(f\">>> {name}\\t: Generated Summary: [{gen_summary}]\")\n",
    "    print(f\"{scores}\")\n",
    "\n",
    "fine_tuned.eval()\n",
    "summarize1 = pipeline(\n",
    "    'summarization',\n",
    "    model=fine_tuned,\n",
    "    tokenizer=tokenizer,\n",
    "    device=device_summary,\n",
    ")\n",
    "model.eval()\n",
    "summarize2 = pipeline(\n",
    "    'summarization',\n",
    "    model=model,\n",
    "    tokenizer=tokenizer,\n",
    "    device=device_summary,\n",
    ")\n",
    "random_samples = random.sample(range(len(test_dataset)), 5)\n",
    "for idx in random_samples:\n",
    "    text = tokenizer.decode(test_dataset[idx]['input_ids'], skip_special_tokens=True)\n",
    "    answer = tokenizer.decode(test_dataset[idx]['labels'], skip_special_tokens=True)\n",
    "    print(f\"=================== {idx} =====================\")\n",
    "    print_summary(summarize1, text, answer, \"origin\")\n",
    "    print(\"===========================\")\n",
    "    print_summary(summarize2, text, answer, \"opt\")\n",
    "    print()\n"
   ]
  },
  {
   "cell_type": "code",
   "execution_count": 18,
   "id": "3e9ccc9a-f008-4446-8452-3ed85b124483",
   "metadata": {},
   "outputs": [
    {
     "name": "stderr",
     "output_type": "stream",
     "text": [
      "Using the `WANDB_DISABLED` environment variable is deprecated and will be removed in v5. Use the --report_to flag to control the integrations used for logging result (for instance --report_to none).\n",
      "Trainer.tokenizer is now deprecated. You should use Trainer.processing_class instead.\n"
     ]
    },
    {
     "data": {
      "text/html": [],
      "text/plain": [
       "<IPython.core.display.HTML object>"
      ]
     },
     "metadata": {},
     "output_type": "display_data"
    },
    {
     "name": "stderr",
     "output_type": "stream",
     "text": [
      "Trainer.tokenizer is now deprecated. You should use Trainer.processing_class instead.\n",
      "Trainer.tokenizer is now deprecated. You should use Trainer.processing_class instead.\n",
      "Trainer.tokenizer is now deprecated. You should use Trainer.processing_class instead.\n",
      "Trainer.tokenizer is now deprecated. You should use Trainer.processing_class instead.\n",
      "Trainer.tokenizer is now deprecated. You should use Trainer.processing_class instead.\n",
      "Trainer.tokenizer is now deprecated. You should use Trainer.processing_class instead.\n",
      "Trainer.tokenizer is now deprecated. You should use Trainer.processing_class instead.\n",
      "Using the `WANDB_DISABLED` environment variable is deprecated and will be removed in v5. Use the --report_to flag to control the integrations used for logging result (for instance --report_to none).\n"
     ]
    },
    {
     "name": "stdout",
     "output_type": "stream",
     "text": [
      "{'test_loss': 0.4620197117328644, 'test_model_preparation_time': 0.0044, 'test_rouge1': 0.7178428456302859, 'test_rouge2': 0.6174638919793287, 'test_rougeL': 0.5417299771160848, 'test_rougeLsum': 0.5994859702177436, 'test_runtime': 59.0581, 'test_samples_per_second': 3.742, 'test_steps_per_second': 0.119}\n"
     ]
    },
    {
     "name": "stderr",
     "output_type": "stream",
     "text": [
      "Trainer.tokenizer is now deprecated. You should use Trainer.processing_class instead.\n",
      "Trainer.tokenizer is now deprecated. You should use Trainer.processing_class instead.\n"
     ]
    },
    {
     "data": {
      "text/html": [],
      "text/plain": [
       "<IPython.core.display.HTML object>"
      ]
     },
     "metadata": {},
     "output_type": "display_data"
    },
    {
     "name": "stderr",
     "output_type": "stream",
     "text": [
      "Trainer.tokenizer is now deprecated. You should use Trainer.processing_class instead.\n",
      "Trainer.tokenizer is now deprecated. You should use Trainer.processing_class instead.\n",
      "Trainer.tokenizer is now deprecated. You should use Trainer.processing_class instead.\n",
      "Trainer.tokenizer is now deprecated. You should use Trainer.processing_class instead.\n",
      "Trainer.tokenizer is now deprecated. You should use Trainer.processing_class instead.\n",
      "Trainer.tokenizer is now deprecated. You should use Trainer.processing_class instead.\n",
      "Trainer.tokenizer is now deprecated. You should use Trainer.processing_class instead.\n",
      "Trainer.tokenizer is now deprecated. You should use Trainer.processing_class instead.\n",
      "Trainer.tokenizer is now deprecated. You should use Trainer.processing_class instead.\n",
      "Trainer.tokenizer is now deprecated. You should use Trainer.processing_class instead.\n",
      "Trainer.tokenizer is now deprecated. You should use Trainer.processing_class instead.\n",
      "Trainer.tokenizer is now deprecated. You should use Trainer.processing_class instead.\n"
     ]
    },
    {
     "name": "stdout",
     "output_type": "stream",
     "text": [
      "{'test_loss': 0.5567031502723694, 'test_model_preparation_time': 0.0024, 'test_rouge1': 0.699763117846487, 'test_rouge2': 0.5926591506171733, 'test_rougeL': 0.5141747872052533, 'test_rougeLsum': 0.5685196222494486, 'test_runtime': 37.5316, 'test_samples_per_second': 5.888, 'test_steps_per_second': 0.187}\n"
     ]
    }
   ],
   "source": [
    "print_rouge_score_2(fine_tuned, test_dataset)\n",
    "print_rouge_score_2(model, test_dataset)"
   ]
  }
 ],
 "metadata": {
  "accelerator": "GPU",
  "colab": {
   "gpuType": "A100",
   "machine_shape": "hm",
   "provenance": []
  },
  "kernelspec": {
   "display_name": "Python 3 (ipykernel)",
   "language": "python",
   "name": "python3"
  },
  "language_info": {
   "codemirror_mode": {
    "name": "ipython",
    "version": 3
   },
   "file_extension": ".py",
   "mimetype": "text/x-python",
   "name": "python",
   "nbconvert_exporter": "python",
   "pygments_lexer": "ipython3",
   "version": "3.12.3"
  },
  "widgets": {
   "application/vnd.jupyter.widget-state+json": {
    "5e0f54dc94074467bf029272bcc57f09": {
     "model_module": "@jupyter-widgets/controls",
     "model_module_version": "1.5.0",
     "model_name": "HBoxModel",
     "state": {
      "_dom_classes": [],
      "_model_module": "@jupyter-widgets/controls",
      "_model_module_version": "1.5.0",
      "_model_name": "HBoxModel",
      "_view_count": null,
      "_view_module": "@jupyter-widgets/controls",
      "_view_module_version": "1.5.0",
      "_view_name": "HBoxView",
      "box_style": "",
      "children": [
       "IPY_MODEL_d3c151b5e7774fe1b84e810d1bdd9692",
       "IPY_MODEL_8bde7c8f05b941e98bd70553dcea51a7",
       "IPY_MODEL_c19b525ef02448dd95ee88dc7955b0dd"
      ],
      "layout": "IPY_MODEL_bb5ac4a7ec3d4f88901a0315533a9cae"
     }
    },
    "66f05378e3aa472ba136e04ae542025e": {
     "model_module": "@jupyter-widgets/controls",
     "model_module_version": "1.5.0",
     "model_name": "DescriptionStyleModel",
     "state": {
      "_model_module": "@jupyter-widgets/controls",
      "_model_module_version": "1.5.0",
      "_model_name": "DescriptionStyleModel",
      "_view_count": null,
      "_view_module": "@jupyter-widgets/base",
      "_view_module_version": "1.2.0",
      "_view_name": "StyleView",
      "description_width": ""
     }
    },
    "6ae8a0f71965432caff1e1c0c9b32ae4": {
     "model_module": "@jupyter-widgets/controls",
     "model_module_version": "1.5.0",
     "model_name": "ProgressStyleModel",
     "state": {
      "_model_module": "@jupyter-widgets/controls",
      "_model_module_version": "1.5.0",
      "_model_name": "ProgressStyleModel",
      "_view_count": null,
      "_view_module": "@jupyter-widgets/base",
      "_view_module_version": "1.2.0",
      "_view_name": "StyleView",
      "bar_color": null,
      "description_width": ""
     }
    },
    "6cc31c72309548acb651f0f1c7f0dac1": {
     "model_module": "@jupyter-widgets/controls",
     "model_module_version": "1.5.0",
     "model_name": "DescriptionStyleModel",
     "state": {
      "_model_module": "@jupyter-widgets/controls",
      "_model_module_version": "1.5.0",
      "_model_name": "DescriptionStyleModel",
      "_view_count": null,
      "_view_module": "@jupyter-widgets/base",
      "_view_module_version": "1.2.0",
      "_view_name": "StyleView",
      "description_width": ""
     }
    },
    "7812ca193de74396bfe6fddd504cf8dd": {
     "model_module": "@jupyter-widgets/output",
     "model_module_version": "1.0.0",
     "model_name": "OutputModel",
     "state": {
      "_dom_classes": [],
      "_model_module": "@jupyter-widgets/output",
      "_model_module_version": "1.0.0",
      "_model_name": "OutputModel",
      "_view_count": null,
      "_view_module": "@jupyter-widgets/output",
      "_view_module_version": "1.0.0",
      "_view_name": "OutputView",
      "layout": "IPY_MODEL_a5149f97983c46bc833ebfadd8403af3",
      "msg_id": "",
      "outputs": [
       {
        "data": {
         "application/vnd.google.colaboratory.intrinsic+json": {
          "summary": "{\n  \"name\": \"# print(to_prune)\",\n  \"rows\": 16,\n  \"fields\": [\n    {\n      \"column\": \"loss\",\n      \"properties\": {\n        \"dtype\": \"number\",\n        \"std\": 0.5806143173705883,\n        \"min\": 0.0068,\n        \"max\": 1.6988,\n        \"num_unique_values\": 8,\n        \"samples\": [\n          0.4714,\n          0.024,\n          1.6988\n        ],\n        \"semantic_type\": \"\",\n        \"description\": \"\"\n      }\n    },\n    {\n      \"column\": \"step\",\n      \"properties\": {\n        \"dtype\": \"number\",\n        \"std\": 1163,\n        \"min\": 1,\n        \"max\": 3520,\n        \"num_unique_values\": 9,\n        \"samples\": [\n          3500,\n          500,\n          2500\n        ],\n        \"semantic_type\": \"\",\n        \"description\": \"\"\n      }\n    },\n    {\n      \"column\": \"ffn_threshold\",\n      \"properties\": {\n        \"dtype\": \"number\",\n        \"std\": 0.1756259806934067,\n        \"min\": 0.0,\n        \"max\": 0.6,\n        \"num_unique_values\": 7,\n        \"samples\": [\n          0.0,\n          0.25291701941048134,\n          0.5973158471661345\n        ],\n        \"semantic_type\": \"\",\n        \"description\": \"\"\n      }\n    },\n    {\n      \"column\": \"attn_threshold\",\n      \"properties\": {\n        \"dtype\": \"number\",\n        \"std\": 0.08781299034670335,\n        \"min\": 0.0,\n        \"max\": 0.3,\n        \"num_unique_values\": 7,\n        \"samples\": [\n          0.0,\n          0.12645850970524067,\n          0.29865792358306725\n        ],\n        \"semantic_type\": \"\",\n        \"description\": \"\"\n      }\n    },\n    {\n      \"column\": \"progress\",\n      \"properties\": {\n        \"dtype\": \"number\",\n        \"std\": 0.3469896730681873,\n        \"min\": 0.0,\n        \"max\": 1.0,\n        \"num_unique_values\": 7,\n        \"samples\": [\n          0.0,\n          0.16677807486631016,\n          0.8352272727272727\n        ],\n        \"semantic_type\": \"\",\n        \"description\": \"\"\n      }\n    },\n    {\n      \"column\": \"eval_loss\",\n      \"properties\": {\n        \"dtype\": \"number\",\n        \"std\": 0.17607588100227,\n        \"min\": 0.36148977279663086,\n        \"max\": 0.8102437257766724,\n        \"num_unique_values\": 7,\n        \"samples\": [\n          0.36148977279663086,\n          0.4614448845386505,\n          0.7980955839157104\n        ],\n        \"semantic_type\": \"\",\n        \"description\": \"\"\n      }\n    },\n    {\n      \"column\": \"eval_runtime\",\n      \"properties\": {\n        \"dtype\": \"number\",\n        \"std\": 1.3607420738069989,\n        \"min\": 0.7738,\n        \"max\": 4.426,\n        \"num_unique_values\": 7,\n        \"samples\": [\n          4.426,\n          0.7738,\n          0.8135\n        ],\n        \"semantic_type\": \"\",\n        \"description\": \"\"\n      }\n    },\n    {\n      \"column\": \"eval_samples_per_second\",\n      \"properties\": {\n        \"dtype\": \"number\",\n        \"std\": 83.0920353219993,\n        \"min\": 49.706,\n        \"max\": 284.302,\n        \"num_unique_values\": 7,\n        \"samples\": [\n          49.706,\n          284.302,\n          270.426\n        ],\n        \"semantic_type\": \"\",\n        \"description\": \"\"\n      }\n    },\n    {\n      \"column\": \"eval_steps_per_second\",\n      \"properties\": {\n        \"dtype\": \"number\",\n        \"std\": 10.57547163644881,\n        \"min\": 6.326,\n        \"max\": 36.184,\n        \"num_unique_values\": 7,\n        \"samples\": [\n          6.326,\n          36.184,\n          34.418\n        ],\n        \"semantic_type\": \"\",\n        \"description\": \"\"\n      }\n    },\n    {\n      \"column\": \"train_runtime\",\n      \"properties\": {\n        \"dtype\": \"number\",\n        \"std\": null,\n        \"min\": 1668.5623,\n        \"max\": 1668.5623,\n        \"num_unique_values\": 1,\n        \"samples\": [\n          1668.5623\n        ],\n        \"semantic_type\": \"\",\n        \"description\": \"\"\n      }\n    },\n    {\n      \"column\": \"train_samples_per_second\",\n      \"properties\": {\n        \"dtype\": \"number\",\n        \"std\": null,\n        \"min\": 33.811,\n        \"max\": 33.811,\n        \"num_unique_values\": 1,\n        \"samples\": [\n          33.811\n        ],\n        \"semantic_type\": \"\",\n        \"description\": \"\"\n      }\n    },\n    {\n      \"column\": \"train_steps_per_second\",\n      \"properties\": {\n        \"dtype\": \"number\",\n        \"std\": null,\n        \"min\": 2.11,\n        \"max\": 2.11,\n        \"num_unique_values\": 1,\n        \"samples\": [\n          2.11\n        ],\n        \"semantic_type\": \"\",\n        \"description\": \"\"\n      }\n    },\n    {\n      \"column\": \"total_flos\",\n      \"properties\": {\n        \"dtype\": \"number\",\n        \"std\": null,\n        \"min\": 3.0504941032144896e+16,\n        \"max\": 3.0504941032144896e+16,\n        \"num_unique_values\": 1,\n        \"samples\": [\n          3.0504941032144896e+16\n        ],\n        \"semantic_type\": \"\",\n        \"description\": \"\"\n      }\n    },\n    {\n      \"column\": \"train_loss\",\n      \"properties\": {\n        \"dtype\": \"number\",\n        \"std\": null,\n        \"min\": 0.11470991089855405,\n        \"max\": 0.11470991089855405,\n        \"num_unique_values\": 1,\n        \"samples\": [\n          0.11470991089855405\n        ],\n        \"semantic_type\": \"\",\n        \"description\": \"\"\n      }\n    }\n  ]\n}",
          "type": "dataframe"
         },
         "text/html": "\n  <div id=\"df-35379e83-1a01-496e-a4d7-48cba6392d5f\" class=\"colab-df-container\">\n    <div>\n<style scoped>\n    .dataframe tbody tr th:only-of-type {\n        vertical-align: middle;\n    }\n\n    .dataframe tbody tr th {\n        vertical-align: top;\n    }\n\n    .dataframe thead th {\n        text-align: right;\n    }\n</style>\n<table border=\"1\" class=\"dataframe\">\n  <thead>\n    <tr style=\"text-align: right;\">\n      <th></th>\n      <th>loss</th>\n      <th>step</th>\n      <th>ffn_threshold</th>\n      <th>attn_threshold</th>\n      <th>progress</th>\n      <th>eval_loss</th>\n      <th>eval_runtime</th>\n      <th>eval_samples_per_second</th>\n      <th>eval_steps_per_second</th>\n      <th>train_runtime</th>\n      <th>train_samples_per_second</th>\n      <th>train_steps_per_second</th>\n      <th>total_flos</th>\n      <th>train_loss</th>\n    </tr>\n  </thead>\n  <tbody>\n    <tr>\n      <th>0</th>\n      <td>1.6988</td>\n      <td>1</td>\n      <td>0.000000</td>\n      <td>0.000000</td>\n      <td>0.000000</td>\n      <td>NaN</td>\n      <td>NaN</td>\n      <td>NaN</td>\n      <td>NaN</td>\n      <td>NaN</td>\n      <td>NaN</td>\n      <td>NaN</td>\n      <td>NaN</td>\n      <td>NaN</td>\n    </tr>\n    <tr>\n      <th>1</th>\n      <td>0.4714</td>\n      <td>500</td>\n      <td>0.252917</td>\n      <td>0.126459</td>\n      <td>0.166778</td>\n      <td>NaN</td>\n      <td>NaN</td>\n      <td>NaN</td>\n      <td>NaN</td>\n      <td>NaN</td>\n      <td>NaN</td>\n      <td>NaN</td>\n      <td>NaN</td>\n      <td>NaN</td>\n    </tr>\n    <tr>\n      <th>2</th>\n      <td>NaN</td>\n      <td>500</td>\n      <td>0.252917</td>\n      <td>0.126459</td>\n      <td>0.166778</td>\n      <td>0.361490</td>\n      <td>4.4260</td>\n      <td>49.706</td>\n      <td>6.326</td>\n      <td>NaN</td>\n      <td>NaN</td>\n      <td>NaN</td>\n      <td>NaN</td>\n      <td>NaN</td>\n    </tr>\n    <tr>\n      <th>3</th>\n      <td>0.1581</td>\n      <td>1000</td>\n      <td>0.422667</td>\n      <td>0.211334</td>\n      <td>0.333890</td>\n      <td>NaN</td>\n      <td>NaN</td>\n      <td>NaN</td>\n      <td>NaN</td>\n      <td>NaN</td>\n      <td>NaN</td>\n      <td>NaN</td>\n      <td>NaN</td>\n      <td>NaN</td>\n    </tr>\n    <tr>\n      <th>4</th>\n      <td>NaN</td>\n      <td>1000</td>\n      <td>0.422667</td>\n      <td>0.211334</td>\n      <td>0.333890</td>\n      <td>0.461445</td>\n      <td>0.7738</td>\n      <td>284.302</td>\n      <td>36.184</td>\n      <td>NaN</td>\n      <td>NaN</td>\n      <td>NaN</td>\n      <td>NaN</td>\n      <td>NaN</td>\n    </tr>\n    <tr>\n      <th>5</th>\n      <td>0.0845</td>\n      <td>1500</td>\n      <td>0.525450</td>\n      <td>0.262725</td>\n      <td>0.501003</td>\n      <td>NaN</td>\n      <td>NaN</td>\n      <td>NaN</td>\n      <td>NaN</td>\n      <td>NaN</td>\n      <td>NaN</td>\n      <td>NaN</td>\n      <td>NaN</td>\n      <td>NaN</td>\n    </tr>\n    <tr>\n      <th>6</th>\n      <td>NaN</td>\n      <td>1500</td>\n      <td>0.525450</td>\n      <td>0.262725</td>\n      <td>0.501003</td>\n      <td>0.585594</td>\n      <td>0.8997</td>\n      <td>244.527</td>\n      <td>31.122</td>\n      <td>NaN</td>\n      <td>NaN</td>\n      <td>NaN</td>\n      <td>NaN</td>\n      <td>NaN</td>\n    </tr>\n    <tr>\n      <th>7</th>\n      <td>0.0481</td>\n      <td>2000</td>\n      <td>0.578066</td>\n      <td>0.289033</td>\n      <td>0.668115</td>\n      <td>NaN</td>\n      <td>NaN</td>\n      <td>NaN</td>\n      <td>NaN</td>\n      <td>NaN</td>\n      <td>NaN</td>\n      <td>NaN</td>\n      <td>NaN</td>\n      <td>NaN</td>\n    </tr>\n    <tr>\n      <th>8</th>\n      <td>NaN</td>\n      <td>2000</td>\n      <td>0.578066</td>\n      <td>0.289033</td>\n      <td>0.668115</td>\n      <td>0.698158</td>\n      <td>0.7849</td>\n      <td>280.302</td>\n      <td>35.675</td>\n      <td>NaN</td>\n      <td>NaN</td>\n      <td>NaN</td>\n      <td>NaN</td>\n      <td>NaN</td>\n    </tr>\n    <tr>\n      <th>9</th>\n      <td>0.0240</td>\n      <td>2500</td>\n      <td>0.597316</td>\n      <td>0.298658</td>\n      <td>0.835227</td>\n      <td>NaN</td>\n      <td>NaN</td>\n      <td>NaN</td>\n      <td>NaN</td>\n      <td>NaN</td>\n      <td>NaN</td>\n      <td>NaN</td>\n      <td>NaN</td>\n      <td>NaN</td>\n    </tr>\n    <tr>\n      <th>10</th>\n      <td>NaN</td>\n      <td>2500</td>\n      <td>0.597316</td>\n      <td>0.298658</td>\n      <td>0.835227</td>\n      <td>0.767467</td>\n      <td>0.8603</td>\n      <td>255.719</td>\n      <td>32.546</td>\n      <td>NaN</td>\n      <td>NaN</td>\n      <td>NaN</td>\n      <td>NaN</td>\n      <td>NaN</td>\n    </tr>\n    <tr>\n      <th>11</th>\n      <td>0.0120</td>\n      <td>3000</td>\n      <td>0.600000</td>\n      <td>0.300000</td>\n      <td>1.000000</td>\n      <td>NaN</td>\n      <td>NaN</td>\n      <td>NaN</td>\n      <td>NaN</td>\n      <td>NaN</td>\n      <td>NaN</td>\n      <td>NaN</td>\n      <td>NaN</td>\n      <td>NaN</td>\n    </tr>\n    <tr>\n      <th>12</th>\n      <td>NaN</td>\n      <td>3000</td>\n      <td>0.600000</td>\n      <td>0.300000</td>\n      <td>1.000000</td>\n      <td>0.798096</td>\n      <td>0.8135</td>\n      <td>270.426</td>\n      <td>34.418</td>\n      <td>NaN</td>\n      <td>NaN</td>\n      <td>NaN</td>\n      <td>NaN</td>\n      <td>NaN</td>\n    </tr>\n    <tr>\n      <th>13</th>\n      <td>0.0068</td>\n      <td>3500</td>\n      <td>0.600000</td>\n      <td>0.300000</td>\n      <td>1.000000</td>\n      <td>NaN</td>\n      <td>NaN</td>\n      <td>NaN</td>\n      <td>NaN</td>\n      <td>NaN</td>\n      <td>NaN</td>\n      <td>NaN</td>\n      <td>NaN</td>\n      <td>NaN</td>\n    </tr>\n    <tr>\n      <th>14</th>\n      <td>NaN</td>\n      <td>3500</td>\n      <td>0.600000</td>\n      <td>0.300000</td>\n      <td>1.000000</td>\n      <td>0.810244</td>\n      <td>0.8336</td>\n      <td>263.914</td>\n      <td>33.589</td>\n      <td>NaN</td>\n      <td>NaN</td>\n      <td>NaN</td>\n      <td>NaN</td>\n      <td>NaN</td>\n    </tr>\n    <tr>\n      <th>15</th>\n      <td>NaN</td>\n      <td>3520</td>\n      <td>0.600000</td>\n      <td>0.300000</td>\n      <td>1.000000</td>\n      <td>NaN</td>\n      <td>NaN</td>\n      <td>NaN</td>\n      <td>NaN</td>\n      <td>1668.5623</td>\n      <td>33.811</td>\n      <td>2.11</td>\n      <td>3.050494e+16</td>\n      <td>0.11471</td>\n    </tr>\n  </tbody>\n</table>\n</div>\n    <div class=\"colab-df-buttons\">\n\n  <div class=\"colab-df-container\">\n    <button class=\"colab-df-convert\" onclick=\"convertToInteractive('df-35379e83-1a01-496e-a4d7-48cba6392d5f')\"\n            title=\"Convert this dataframe to an interactive table.\"\n            style=\"display:none;\">\n\n  <svg xmlns=\"http://www.w3.org/2000/svg\" height=\"24px\" viewBox=\"0 -960 960 960\">\n    <path d=\"M120-120v-720h720v720H120Zm60-500h600v-160H180v160Zm220 220h160v-160H400v160Zm0 220h160v-160H400v160ZM180-400h160v-160H180v160Zm440 0h160v-160H620v160ZM180-180h160v-160H180v160Zm440 0h160v-160H620v160Z\"/>\n  </svg>\n    </button>\n\n  <style>\n    .colab-df-container {\n      display:flex;\n      gap: 12px;\n    }\n\n    .colab-df-convert {\n      background-color: #E8F0FE;\n      border: none;\n      border-radius: 50%;\n      cursor: pointer;\n      display: none;\n      fill: #1967D2;\n      height: 32px;\n      padding: 0 0 0 0;\n      width: 32px;\n    }\n\n    .colab-df-convert:hover {\n      background-color: #E2EBFA;\n      box-shadow: 0px 1px 2px rgba(60, 64, 67, 0.3), 0px 1px 3px 1px rgba(60, 64, 67, 0.15);\n      fill: #174EA6;\n    }\n\n    .colab-df-buttons div {\n      margin-bottom: 4px;\n    }\n\n    [theme=dark] .colab-df-convert {\n      background-color: #3B4455;\n      fill: #D2E3FC;\n    }\n\n    [theme=dark] .colab-df-convert:hover {\n      background-color: #434B5C;\n      box-shadow: 0px 1px 3px 1px rgba(0, 0, 0, 0.15);\n      filter: drop-shadow(0px 1px 2px rgba(0, 0, 0, 0.3));\n      fill: #FFFFFF;\n    }\n  </style>\n\n    <script>\n      const buttonEl =\n        document.querySelector('#df-35379e83-1a01-496e-a4d7-48cba6392d5f button.colab-df-convert');\n      buttonEl.style.display =\n        google.colab.kernel.accessAllowed ? 'block' : 'none';\n\n      async function convertToInteractive(key) {\n        const element = document.querySelector('#df-35379e83-1a01-496e-a4d7-48cba6392d5f');\n        const dataTable =\n          await google.colab.kernel.invokeFunction('convertToInteractive',\n                                                    [key], {});\n        if (!dataTable) return;\n\n        const docLinkHtml = 'Like what you see? Visit the ' +\n          '<a target=\"_blank\" href=https://colab.research.google.com/notebooks/data_table.ipynb>data table notebook</a>'\n          + ' to learn more about interactive tables.';\n        element.innerHTML = '';\n        dataTable['output_type'] = 'display_data';\n        await google.colab.output.renderOutput(dataTable, element);\n        const docLink = document.createElement('div');\n        docLink.innerHTML = docLinkHtml;\n        element.appendChild(docLink);\n      }\n    </script>\n  </div>\n\n\n<div id=\"df-78397377-9f5d-4bb8-98e9-e976b60ae4f5\">\n  <button class=\"colab-df-quickchart\" onclick=\"quickchart('df-78397377-9f5d-4bb8-98e9-e976b60ae4f5')\"\n            title=\"Suggest charts\"\n            style=\"display:none;\">\n\n<svg xmlns=\"http://www.w3.org/2000/svg\" height=\"24px\"viewBox=\"0 0 24 24\"\n     width=\"24px\">\n    <g>\n        <path d=\"M19 3H5c-1.1 0-2 .9-2 2v14c0 1.1.9 2 2 2h14c1.1 0 2-.9 2-2V5c0-1.1-.9-2-2-2zM9 17H7v-7h2v7zm4 0h-2V7h2v10zm4 0h-2v-4h2v4z\"/>\n    </g>\n</svg>\n  </button>\n\n<style>\n  .colab-df-quickchart {\n      --bg-color: #E8F0FE;\n      --fill-color: #1967D2;\n      --hover-bg-color: #E2EBFA;\n      --hover-fill-color: #174EA6;\n      --disabled-fill-color: #AAA;\n      --disabled-bg-color: #DDD;\n  }\n\n  [theme=dark] .colab-df-quickchart {\n      --bg-color: #3B4455;\n      --fill-color: #D2E3FC;\n      --hover-bg-color: #434B5C;\n      --hover-fill-color: #FFFFFF;\n      --disabled-bg-color: #3B4455;\n      --disabled-fill-color: #666;\n  }\n\n  .colab-df-quickchart {\n    background-color: var(--bg-color);\n    border: none;\n    border-radius: 50%;\n    cursor: pointer;\n    display: none;\n    fill: var(--fill-color);\n    height: 32px;\n    padding: 0;\n    width: 32px;\n  }\n\n  .colab-df-quickchart:hover {\n    background-color: var(--hover-bg-color);\n    box-shadow: 0 1px 2px rgba(60, 64, 67, 0.3), 0 1px 3px 1px rgba(60, 64, 67, 0.15);\n    fill: var(--button-hover-fill-color);\n  }\n\n  .colab-df-quickchart-complete:disabled,\n  .colab-df-quickchart-complete:disabled:hover {\n    background-color: var(--disabled-bg-color);\n    fill: var(--disabled-fill-color);\n    box-shadow: none;\n  }\n\n  .colab-df-spinner {\n    border: 2px solid var(--fill-color);\n    border-color: transparent;\n    border-bottom-color: var(--fill-color);\n    animation:\n      spin 1s steps(1) infinite;\n  }\n\n  @keyframes spin {\n    0% {\n      border-color: transparent;\n      border-bottom-color: var(--fill-color);\n      border-left-color: var(--fill-color);\n    }\n    20% {\n      border-color: transparent;\n      border-left-color: var(--fill-color);\n      border-top-color: var(--fill-color);\n    }\n    30% {\n      border-color: transparent;\n      border-left-color: var(--fill-color);\n      border-top-color: var(--fill-color);\n      border-right-color: var(--fill-color);\n    }\n    40% {\n      border-color: transparent;\n      border-right-color: var(--fill-color);\n      border-top-color: var(--fill-color);\n    }\n    60% {\n      border-color: transparent;\n      border-right-color: var(--fill-color);\n    }\n    80% {\n      border-color: transparent;\n      border-right-color: var(--fill-color);\n      border-bottom-color: var(--fill-color);\n    }\n    90% {\n      border-color: transparent;\n      border-bottom-color: var(--fill-color);\n    }\n  }\n</style>\n\n  <script>\n    async function quickchart(key) {\n      const quickchartButtonEl =\n        document.querySelector('#' + key + ' button');\n      quickchartButtonEl.disabled = true;  // To prevent multiple clicks.\n      quickchartButtonEl.classList.add('colab-df-spinner');\n      try {\n        const charts = await google.colab.kernel.invokeFunction(\n            'suggestCharts', [key], {});\n      } catch (error) {\n        console.error('Error during call to suggestCharts:', error);\n      }\n      quickchartButtonEl.classList.remove('colab-df-spinner');\n      quickchartButtonEl.classList.add('colab-df-quickchart-complete');\n    }\n    (() => {\n      let quickchartButtonEl =\n        document.querySelector('#df-78397377-9f5d-4bb8-98e9-e976b60ae4f5 button');\n      quickchartButtonEl.style.display =\n        google.colab.kernel.accessAllowed ? 'block' : 'none';\n    })();\n  </script>\n</div>\n\n    </div>\n  </div>\n",
         "text/plain": "      loss  step  ffn_threshold  attn_threshold  progress  eval_loss  \\\n0   1.6988     1       0.000000        0.000000  0.000000        NaN   \n1   0.4714   500       0.252917        0.126459  0.166778        NaN   \n2      NaN   500       0.252917        0.126459  0.166778   0.361490   \n3   0.1581  1000       0.422667        0.211334  0.333890        NaN   \n4      NaN  1000       0.422667        0.211334  0.333890   0.461445   \n5   0.0845  1500       0.525450        0.262725  0.501003        NaN   \n6      NaN  1500       0.525450        0.262725  0.501003   0.585594   \n7   0.0481  2000       0.578066        0.289033  0.668115        NaN   \n8      NaN  2000       0.578066        0.289033  0.668115   0.698158   \n9   0.0240  2500       0.597316        0.298658  0.835227        NaN   \n10     NaN  2500       0.597316        0.298658  0.835227   0.767467   \n11  0.0120  3000       0.600000        0.300000  1.000000        NaN   \n12     NaN  3000       0.600000        0.300000  1.000000   0.798096   \n13  0.0068  3500       0.600000        0.300000  1.000000        NaN   \n14     NaN  3500       0.600000        0.300000  1.000000   0.810244   \n15     NaN  3520       0.600000        0.300000  1.000000        NaN   \n\n    eval_runtime  eval_samples_per_second  eval_steps_per_second  \\\n0            NaN                      NaN                    NaN   \n1            NaN                      NaN                    NaN   \n2         4.4260                   49.706                  6.326   \n3            NaN                      NaN                    NaN   \n4         0.7738                  284.302                 36.184   \n5            NaN                      NaN                    NaN   \n6         0.8997                  244.527                 31.122   \n7            NaN                      NaN                    NaN   \n8         0.7849                  280.302                 35.675   \n9            NaN                      NaN                    NaN   \n10        0.8603                  255.719                 32.546   \n11           NaN                      NaN                    NaN   \n12        0.8135                  270.426                 34.418   \n13           NaN                      NaN                    NaN   \n14        0.8336                  263.914                 33.589   \n15           NaN                      NaN                    NaN   \n\n    train_runtime  train_samples_per_second  train_steps_per_second  \\\n0             NaN                       NaN                     NaN   \n1             NaN                       NaN                     NaN   \n2             NaN                       NaN                     NaN   \n3             NaN                       NaN                     NaN   \n4             NaN                       NaN                     NaN   \n5             NaN                       NaN                     NaN   \n6             NaN                       NaN                     NaN   \n7             NaN                       NaN                     NaN   \n8             NaN                       NaN                     NaN   \n9             NaN                       NaN                     NaN   \n10            NaN                       NaN                     NaN   \n11            NaN                       NaN                     NaN   \n12            NaN                       NaN                     NaN   \n13            NaN                       NaN                     NaN   \n14            NaN                       NaN                     NaN   \n15      1668.5623                    33.811                    2.11   \n\n      total_flos  train_loss  \n0            NaN         NaN  \n1            NaN         NaN  \n2            NaN         NaN  \n3            NaN         NaN  \n4            NaN         NaN  \n5            NaN         NaN  \n6            NaN         NaN  \n7            NaN         NaN  \n8            NaN         NaN  \n9            NaN         NaN  \n10           NaN         NaN  \n11           NaN         NaN  \n12           NaN         NaN  \n13           NaN         NaN  \n14           NaN         NaN  \n15  3.050494e+16     0.11471  "
        },
        "metadata": {},
        "output_type": "display_data"
       }
      ]
     }
    },
    "833ecec58d7b449da977f0936e7d6b92": {
     "model_module": "@jupyter-widgets/base",
     "model_module_version": "1.2.0",
     "model_name": "LayoutModel",
     "state": {
      "_model_module": "@jupyter-widgets/base",
      "_model_module_version": "1.2.0",
      "_model_name": "LayoutModel",
      "_view_count": null,
      "_view_module": "@jupyter-widgets/base",
      "_view_module_version": "1.2.0",
      "_view_name": "LayoutView",
      "align_content": null,
      "align_items": null,
      "align_self": null,
      "border": null,
      "bottom": null,
      "display": null,
      "flex": null,
      "flex_flow": null,
      "grid_area": null,
      "grid_auto_columns": null,
      "grid_auto_flow": null,
      "grid_auto_rows": null,
      "grid_column": null,
      "grid_gap": null,
      "grid_row": null,
      "grid_template_areas": null,
      "grid_template_columns": null,
      "grid_template_rows": null,
      "height": null,
      "justify_content": null,
      "justify_items": null,
      "left": null,
      "margin": null,
      "max_height": null,
      "max_width": null,
      "min_height": null,
      "min_width": null,
      "object_fit": null,
      "object_position": null,
      "order": null,
      "overflow": null,
      "overflow_x": null,
      "overflow_y": null,
      "padding": null,
      "right": null,
      "top": null,
      "visibility": null,
      "width": null
     }
    },
    "8bde7c8f05b941e98bd70553dcea51a7": {
     "model_module": "@jupyter-widgets/controls",
     "model_module_version": "1.5.0",
     "model_name": "FloatProgressModel",
     "state": {
      "_dom_classes": [],
      "_model_module": "@jupyter-widgets/controls",
      "_model_module_version": "1.5.0",
      "_model_name": "FloatProgressModel",
      "_view_count": null,
      "_view_module": "@jupyter-widgets/controls",
      "_view_module_version": "1.5.0",
      "_view_name": "ProgressView",
      "bar_style": "success",
      "description": "",
      "description_tooltip": null,
      "layout": "IPY_MODEL_cd6a43dd319b4dce804bb8f2ec349528",
      "max": 2204,
      "min": 0,
      "orientation": "horizontal",
      "style": "IPY_MODEL_6ae8a0f71965432caff1e1c0c9b32ae4",
      "value": 2204
     }
    },
    "a5149f97983c46bc833ebfadd8403af3": {
     "model_module": "@jupyter-widgets/base",
     "model_module_version": "1.2.0",
     "model_name": "LayoutModel",
     "state": {
      "_model_module": "@jupyter-widgets/base",
      "_model_module_version": "1.2.0",
      "_model_name": "LayoutModel",
      "_view_count": null,
      "_view_module": "@jupyter-widgets/base",
      "_view_module_version": "1.2.0",
      "_view_name": "LayoutView",
      "align_content": null,
      "align_items": null,
      "align_self": null,
      "border": null,
      "bottom": null,
      "display": null,
      "flex": null,
      "flex_flow": null,
      "grid_area": null,
      "grid_auto_columns": null,
      "grid_auto_flow": null,
      "grid_auto_rows": null,
      "grid_column": null,
      "grid_gap": null,
      "grid_row": null,
      "grid_template_areas": null,
      "grid_template_columns": null,
      "grid_template_rows": null,
      "height": null,
      "justify_content": null,
      "justify_items": null,
      "left": null,
      "margin": null,
      "max_height": null,
      "max_width": null,
      "min_height": null,
      "min_width": null,
      "object_fit": null,
      "object_position": null,
      "order": null,
      "overflow": null,
      "overflow_x": null,
      "overflow_y": null,
      "padding": null,
      "right": null,
      "top": null,
      "visibility": null,
      "width": null
     }
    },
    "bb5ac4a7ec3d4f88901a0315533a9cae": {
     "model_module": "@jupyter-widgets/base",
     "model_module_version": "1.2.0",
     "model_name": "LayoutModel",
     "state": {
      "_model_module": "@jupyter-widgets/base",
      "_model_module_version": "1.2.0",
      "_model_name": "LayoutModel",
      "_view_count": null,
      "_view_module": "@jupyter-widgets/base",
      "_view_module_version": "1.2.0",
      "_view_name": "LayoutView",
      "align_content": null,
      "align_items": null,
      "align_self": null,
      "border": null,
      "bottom": null,
      "display": null,
      "flex": null,
      "flex_flow": null,
      "grid_area": null,
      "grid_auto_columns": null,
      "grid_auto_flow": null,
      "grid_auto_rows": null,
      "grid_column": null,
      "grid_gap": null,
      "grid_row": null,
      "grid_template_areas": null,
      "grid_template_columns": null,
      "grid_template_rows": null,
      "height": null,
      "justify_content": null,
      "justify_items": null,
      "left": null,
      "margin": null,
      "max_height": null,
      "max_width": null,
      "min_height": null,
      "min_width": null,
      "object_fit": null,
      "object_position": null,
      "order": null,
      "overflow": null,
      "overflow_x": null,
      "overflow_y": null,
      "padding": null,
      "right": null,
      "top": null,
      "visibility": null,
      "width": null
     }
    },
    "c19b525ef02448dd95ee88dc7955b0dd": {
     "model_module": "@jupyter-widgets/controls",
     "model_module_version": "1.5.0",
     "model_name": "HTMLModel",
     "state": {
      "_dom_classes": [],
      "_model_module": "@jupyter-widgets/controls",
      "_model_module_version": "1.5.0",
      "_model_name": "HTMLModel",
      "_view_count": null,
      "_view_module": "@jupyter-widgets/controls",
      "_view_module_version": "1.5.0",
      "_view_name": "HTMLView",
      "description": "",
      "description_tooltip": null,
      "layout": "IPY_MODEL_ee9960fc1cd7468391dc41f783e086ea",
      "placeholder": "​",
      "style": "IPY_MODEL_66f05378e3aa472ba136e04ae542025e",
      "value": " 2204/2204 [00:01&lt;00:00, 1420.75 examples/s]"
     }
    },
    "cd6a43dd319b4dce804bb8f2ec349528": {
     "model_module": "@jupyter-widgets/base",
     "model_module_version": "1.2.0",
     "model_name": "LayoutModel",
     "state": {
      "_model_module": "@jupyter-widgets/base",
      "_model_module_version": "1.2.0",
      "_model_name": "LayoutModel",
      "_view_count": null,
      "_view_module": "@jupyter-widgets/base",
      "_view_module_version": "1.2.0",
      "_view_name": "LayoutView",
      "align_content": null,
      "align_items": null,
      "align_self": null,
      "border": null,
      "bottom": null,
      "display": null,
      "flex": null,
      "flex_flow": null,
      "grid_area": null,
      "grid_auto_columns": null,
      "grid_auto_flow": null,
      "grid_auto_rows": null,
      "grid_column": null,
      "grid_gap": null,
      "grid_row": null,
      "grid_template_areas": null,
      "grid_template_columns": null,
      "grid_template_rows": null,
      "height": null,
      "justify_content": null,
      "justify_items": null,
      "left": null,
      "margin": null,
      "max_height": null,
      "max_width": null,
      "min_height": null,
      "min_width": null,
      "object_fit": null,
      "object_position": null,
      "order": null,
      "overflow": null,
      "overflow_x": null,
      "overflow_y": null,
      "padding": null,
      "right": null,
      "top": null,
      "visibility": null,
      "width": null
     }
    },
    "d3c151b5e7774fe1b84e810d1bdd9692": {
     "model_module": "@jupyter-widgets/controls",
     "model_module_version": "1.5.0",
     "model_name": "HTMLModel",
     "state": {
      "_dom_classes": [],
      "_model_module": "@jupyter-widgets/controls",
      "_model_module_version": "1.5.0",
      "_model_name": "HTMLModel",
      "_view_count": null,
      "_view_module": "@jupyter-widgets/controls",
      "_view_module_version": "1.5.0",
      "_view_name": "HTMLView",
      "description": "",
      "description_tooltip": null,
      "layout": "IPY_MODEL_833ecec58d7b449da977f0936e7d6b92",
      "placeholder": "​",
      "style": "IPY_MODEL_6cc31c72309548acb651f0f1c7f0dac1",
      "value": "Running tokenizer on train dataset: 100%"
     }
    },
    "ee9960fc1cd7468391dc41f783e086ea": {
     "model_module": "@jupyter-widgets/base",
     "model_module_version": "1.2.0",
     "model_name": "LayoutModel",
     "state": {
      "_model_module": "@jupyter-widgets/base",
      "_model_module_version": "1.2.0",
      "_model_name": "LayoutModel",
      "_view_count": null,
      "_view_module": "@jupyter-widgets/base",
      "_view_module_version": "1.2.0",
      "_view_name": "LayoutView",
      "align_content": null,
      "align_items": null,
      "align_self": null,
      "border": null,
      "bottom": null,
      "display": null,
      "flex": null,
      "flex_flow": null,
      "grid_area": null,
      "grid_auto_columns": null,
      "grid_auto_flow": null,
      "grid_auto_rows": null,
      "grid_column": null,
      "grid_gap": null,
      "grid_row": null,
      "grid_template_areas": null,
      "grid_template_columns": null,
      "grid_template_rows": null,
      "height": null,
      "justify_content": null,
      "justify_items": null,
      "left": null,
      "margin": null,
      "max_height": null,
      "max_width": null,
      "min_height": null,
      "min_width": null,
      "object_fit": null,
      "object_position": null,
      "order": null,
      "overflow": null,
      "overflow_x": null,
      "overflow_y": null,
      "padding": null,
      "right": null,
      "top": null,
      "visibility": null,
      "width": null
     }
    }
   }
  }
 },
 "nbformat": 4,
 "nbformat_minor": 5
}
