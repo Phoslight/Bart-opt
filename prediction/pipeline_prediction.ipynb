{
 "cells": [
  {
   "cell_type": "code",
   "execution_count": 1,
   "id": "initial_id",
   "metadata": {
    "colab": {
     "base_uri": "https://localhost:8080/"
    },
    "id": "initial_id",
    "outputId": "876ac71e-26b3-4c9a-dec4-e5637e3c647a"
   },
   "outputs": [
    {
     "name": "stdout",
     "output_type": "stream",
     "text": [
      "Exception reporting mode: Plain\n"
     ]
    }
   ],
   "source": [
    "%load_ext autoreload\n",
    "%autoreload 2\n",
    "%xmode Plain\n",
    "\n",
    "from precompiled import *"
   ]
  },
  {
   "cell_type": "code",
   "execution_count": 2,
   "id": "54363f2f3c853ca3",
   "metadata": {
    "colab": {
     "base_uri": "https://localhost:8080/",
     "height": 257,
     "referenced_widgets": [
      "5e0f54dc94074467bf029272bcc57f09",
      "d3c151b5e7774fe1b84e810d1bdd9692",
      "8bde7c8f05b941e98bd70553dcea51a7",
      "c19b525ef02448dd95ee88dc7955b0dd",
      "bb5ac4a7ec3d4f88901a0315533a9cae",
      "833ecec58d7b449da977f0936e7d6b92",
      "6cc31c72309548acb651f0f1c7f0dac1",
      "cd6a43dd319b4dce804bb8f2ec349528",
      "6ae8a0f71965432caff1e1c0c9b32ae4",
      "ee9960fc1cd7468391dc41f783e086ea",
      "66f05378e3aa472ba136e04ae542025e"
     ]
    },
    "id": "54363f2f3c853ca3",
    "outputId": "04f81190-06b2-4ccc-d00b-9afc7b3157d8"
   },
   "outputs": [
    {
     "data": {
      "application/vnd.jupyter.widget-view+json": {
       "model_id": "8560183ed79a4a7badfc26f7e752288a",
       "version_major": 2,
       "version_minor": 0
      },
      "text/plain": [
       "Running tokenizer on dataset:   0%|          | 0/2400 [00:00<?, ? examples/s]"
      ]
     },
     "metadata": {},
     "output_type": "display_data"
    },
    {
     "data": {
      "application/vnd.jupyter.widget-view+json": {
       "model_id": "26886a589bf846b18d627d1551bd2427",
       "version_major": 2,
       "version_minor": 0
      },
      "text/plain": [
       "Running tokenizer on dataset:   0%|          | 0/510 [00:00<?, ? examples/s]"
      ]
     },
     "metadata": {},
     "output_type": "display_data"
    },
    {
     "data": {
      "application/vnd.jupyter.widget-view+json": {
       "model_id": "da47b5cfc26e467cadb53b36b6820cc3",
       "version_major": 2,
       "version_minor": 0
      },
      "text/plain": [
       "Running tokenizer on dataset:   0%|          | 0/90 [00:00<?, ? examples/s]"
      ]
     },
     "metadata": {},
     "output_type": "display_data"
    },
    {
     "data": {
      "text/plain": [
       "(Dataset({\n",
       "     features: ['input_ids', 'attention_mask', 'labels'],\n",
       "     num_rows: 2400\n",
       " }),\n",
       " Dataset({\n",
       "     features: ['input_ids', 'attention_mask', 'labels'],\n",
       "     num_rows: 510\n",
       " }),\n",
       " Dataset({\n",
       "     features: ['input_ids', 'attention_mask', 'labels'],\n",
       "     num_rows: 90\n",
       " }),\n",
       " Dataset({\n",
       "     features: ['text'],\n",
       "     num_rows: 90\n",
       " }))"
      ]
     },
     "execution_count": 2,
     "metadata": {},
     "output_type": "execute_result"
    }
   ],
   "source": [
    "from data import *\n",
    "\n",
    "train_dataset, val_dataset, test_dataset, original_test_dataset"
   ]
  },
  {
   "cell_type": "code",
   "execution_count": 3,
   "id": "65cee9f12aec6595",
   "metadata": {
    "id": "65cee9f12aec6595"
   },
   "outputs": [],
   "source": [
    "fine_tuned = GPT2LMHeadModel.from_pretrained(model_name)"
   ]
  },
  {
   "cell_type": "code",
   "execution_count": 4,
   "id": "622a77eb5114d815",
   "metadata": {
    "collapsed": false
   },
   "outputs": [
    {
     "name": "stderr",
     "output_type": "stream",
     "text": [
      "Using the `WANDB_DISABLED` environment variable is deprecated and will be removed in v5. Use the --report_to flag to control the integrations used for logging result (for instance --report_to none).\n"
     ]
    },
    {
     "name": "stdout",
     "output_type": "stream",
     "text": [
      "last checkpoint: tmp/pred/fine-tuning/checkpoint-370\n"
     ]
    },
    {
     "name": "stderr",
     "output_type": "stream",
     "text": [
      "There were missing keys in the checkpoint model loaded: ['lm_head.weight'].\n"
     ]
    },
    {
     "data": {
      "text/html": [
       "\n",
       "    <div>\n",
       "      \n",
       "      <progress value='370' max='370' style='width:300px; height:20px; vertical-align: middle;'></progress>\n",
       "      [370/370 11:27, Epoch 9/10]\n",
       "    </div>\n",
       "    <table border=\"1\" class=\"dataframe\">\n",
       "  <thead>\n",
       " <tr style=\"text-align: left;\">\n",
       "      <th>Step</th>\n",
       "      <th>Training Loss</th>\n",
       "      <th>Validation Loss</th>\n",
       "    </tr>\n",
       "  </thead>\n",
       "  <tbody>\n",
       "    <tr>\n",
       "      <td>100</td>\n",
       "      <td>13.787400</td>\n",
       "      <td>2.082999</td>\n",
       "    </tr>\n",
       "    <tr>\n",
       "      <td>200</td>\n",
       "      <td>8.688500</td>\n",
       "      <td>2.051144</td>\n",
       "    </tr>\n",
       "    <tr>\n",
       "      <td>300</td>\n",
       "      <td>8.381500</td>\n",
       "      <td>2.043357</td>\n",
       "    </tr>\n",
       "  </tbody>\n",
       "</table><p>"
      ],
      "text/plain": [
       "<IPython.core.display.HTML object>"
      ]
     },
     "metadata": {},
     "output_type": "display_data"
    },
    {
     "name": "stderr",
     "output_type": "stream",
     "text": [
      "Using the `WANDB_DISABLED` environment variable is deprecated and will be removed in v5. Use the --report_to flag to control the integrations used for logging result (for instance --report_to none).\n"
     ]
    },
    {
     "data": {
      "text/html": [],
      "text/plain": [
       "<IPython.core.display.HTML object>"
      ]
     },
     "metadata": {},
     "output_type": "display_data"
    },
    {
     "name": "stdout",
     "output_type": "stream",
     "text": [
      "{'test_loss': 2.0115301609039307, 'test_model_preparation_time': 0.0017, 'test_rouge1': 0.5963481233414064, 'test_rouge2': 0.1947077085916068, 'test_rougeL': 0.39089284795055723, 'test_rougeLsum': 0.5781347713389784, 'test_runtime': 43.1867, 'test_samples_per_second': 2.084, 'test_steps_per_second': 0.533}\n"
     ]
    },
    {
     "name": "stderr",
     "output_type": "stream",
     "text": [
      "100%|██████████| 3/3 [00:01<00:00,  2.87it/s]\n"
     ]
    },
    {
     "name": "stdout",
     "output_type": "stream",
     "text": [
      "Perplexity (mean): 18.25\n"
     ]
    }
   ],
   "source": [
    "# Fine-Tuning\n",
    "\n",
    "data_collator = DataCollatorWithPadding(tokenizer)\n",
    "\n",
    "DIR_FINETUNE = create_work_dir(\"tmp/pred/fine-tuning/\")\n",
    "last_checkpoint = get_last_checkpoint(DIR_FINETUNE)\n",
    "print(f\"last checkpoint: {last_checkpoint}\")\n",
    "training_args = TrainingArguments(\n",
    "    output_dir=DIR_FINETUNE,\n",
    "    overwrite_output_dir=True,\n",
    "    num_train_epochs=10,  # if more, will overfit.\n",
    "    per_device_train_batch_size=16,\n",
    "    per_device_eval_batch_size=4,\n",
    "    eval_strategy=\"steps\",\n",
    "    save_strategy='steps',\n",
    "    save_steps=1000,\n",
    "    save_total_limit=2,\n",
    "    logging_dir=DIR_FINETUNE,\n",
    "    logging_first_step=True,\n",
    "    logging_strategy=\"steps\",\n",
    "    logging_steps=100,\n",
    "    log_level=\"warning\",\n",
    "    fp16=torch.cuda.is_available(),\n",
    "    gradient_accumulation_steps=4,\n",
    "    # eval_accumulation_steps=4,\n",
    "    weight_decay=0.01,\n",
    "    warmup_steps=500,\n",
    "    prediction_loss_only=True,\n",
    "\n",
    "    # max_steps=2,  # TODO\n",
    ")\n",
    "\n",
    "trainer = Trainer(\n",
    "    model=fine_tuned,\n",
    "    args=training_args,\n",
    "    data_collator=data_collator,\n",
    "    train_dataset=train_dataset,\n",
    "    eval_dataset=val_dataset,\n",
    ")\n",
    "\n",
    "trainer.train(resume_from_checkpoint=last_checkpoint)\n",
    "\n",
    "del trainer\n",
    "release()\n",
    "\n",
    "print_rouge_score_2(fine_tuned, test_dataset)\n",
    "print_perplexity(fine_tuned, tokenizer, original_test_dataset)\n",
    "\n",
    "# save\n",
    "fine_tuned.save_pretrained(DIR_FINETUNE)"
   ]
  },
  {
   "cell_type": "code",
   "execution_count": 5,
   "id": "d2f3e11dd53d19f6",
   "metadata": {
    "colab": {
     "base_uri": "https://localhost:8080/",
     "height": 165
    },
    "id": "d2f3e11dd53d19f6",
    "outputId": "38d81d29-7b50-401a-ad96-8ea05b7cf5c0"
   },
   "outputs": [
    {
     "name": "stderr",
     "output_type": "stream",
     "text": [
      "Using the `WANDB_DISABLED` environment variable is deprecated and will be removed in v5. Use the --report_to flag to control the integrations used for logging result (for instance --report_to none).\n"
     ]
    },
    {
     "name": "stdout",
     "output_type": "stream",
     "text": [
      "Model size: 0.31 GB\n"
     ]
    },
    {
     "data": {
      "text/html": [
       "\n",
       "    <div>\n",
       "      \n",
       "      <progress value='3700' max='3700' style='width:300px; height:20px; vertical-align: middle;'></progress>\n",
       "      [3700/3700 2:51:00, Epoch 98/100]\n",
       "    </div>\n",
       "    <table border=\"1\" class=\"dataframe\">\n",
       "  <thead>\n",
       " <tr style=\"text-align: left;\">\n",
       "      <th>Step</th>\n",
       "      <th>Training Loss</th>\n",
       "      <th>Validation Loss</th>\n",
       "    </tr>\n",
       "  </thead>\n",
       "  <tbody>\n",
       "    <tr>\n",
       "      <td>200</td>\n",
       "      <td>25.572600</td>\n",
       "      <td>2.739316</td>\n",
       "    </tr>\n",
       "    <tr>\n",
       "      <td>400</td>\n",
       "      <td>17.833000</td>\n",
       "      <td>2.309971</td>\n",
       "    </tr>\n",
       "    <tr>\n",
       "      <td>600</td>\n",
       "      <td>15.458100</td>\n",
       "      <td>2.133620</td>\n",
       "    </tr>\n",
       "    <tr>\n",
       "      <td>800</td>\n",
       "      <td>14.059800</td>\n",
       "      <td>1.994099</td>\n",
       "    </tr>\n",
       "    <tr>\n",
       "      <td>1000</td>\n",
       "      <td>13.306500</td>\n",
       "      <td>1.906371</td>\n",
       "    </tr>\n",
       "    <tr>\n",
       "      <td>1200</td>\n",
       "      <td>12.742800</td>\n",
       "      <td>1.851009</td>\n",
       "    </tr>\n",
       "    <tr>\n",
       "      <td>1400</td>\n",
       "      <td>12.322800</td>\n",
       "      <td>1.823377</td>\n",
       "    </tr>\n",
       "    <tr>\n",
       "      <td>1600</td>\n",
       "      <td>12.021800</td>\n",
       "      <td>1.786264</td>\n",
       "    </tr>\n",
       "    <tr>\n",
       "      <td>1800</td>\n",
       "      <td>11.671700</td>\n",
       "      <td>1.765524</td>\n",
       "    </tr>\n",
       "    <tr>\n",
       "      <td>2000</td>\n",
       "      <td>11.504800</td>\n",
       "      <td>1.736456</td>\n",
       "    </tr>\n",
       "    <tr>\n",
       "      <td>2200</td>\n",
       "      <td>11.271700</td>\n",
       "      <td>1.730188</td>\n",
       "    </tr>\n",
       "    <tr>\n",
       "      <td>2400</td>\n",
       "      <td>11.148700</td>\n",
       "      <td>1.710204</td>\n",
       "    </tr>\n",
       "    <tr>\n",
       "      <td>2600</td>\n",
       "      <td>11.072000</td>\n",
       "      <td>1.704183</td>\n",
       "    </tr>\n",
       "    <tr>\n",
       "      <td>2800</td>\n",
       "      <td>11.009600</td>\n",
       "      <td>1.697327</td>\n",
       "    </tr>\n",
       "    <tr>\n",
       "      <td>3000</td>\n",
       "      <td>10.837000</td>\n",
       "      <td>1.688812</td>\n",
       "    </tr>\n",
       "    <tr>\n",
       "      <td>3200</td>\n",
       "      <td>10.800300</td>\n",
       "      <td>1.675307</td>\n",
       "    </tr>\n",
       "    <tr>\n",
       "      <td>3400</td>\n",
       "      <td>10.779500</td>\n",
       "      <td>1.673330</td>\n",
       "    </tr>\n",
       "    <tr>\n",
       "      <td>3600</td>\n",
       "      <td>10.775200</td>\n",
       "      <td>1.674662</td>\n",
       "    </tr>\n",
       "  </tbody>\n",
       "</table><p>"
      ],
      "text/plain": [
       "<IPython.core.display.HTML object>"
      ]
     },
     "metadata": {},
     "output_type": "display_data"
    },
    {
     "name": "stderr",
     "output_type": "stream",
     "text": [
      "Using the `WANDB_DISABLED` environment variable is deprecated and will be removed in v5. Use the --report_to flag to control the integrations used for logging result (for instance --report_to none).\n"
     ]
    },
    {
     "data": {
      "text/html": [],
      "text/plain": [
       "<IPython.core.display.HTML object>"
      ]
     },
     "metadata": {},
     "output_type": "display_data"
    },
    {
     "name": "stdout",
     "output_type": "stream",
     "text": [
      "{'test_loss': 2.4396932125091553, 'test_model_preparation_time': 0.0009, 'test_rouge1': 0.5461419310261344, 'test_rouge2': 0.15002971656494976, 'test_rougeL': 0.3282063439953625, 'test_rougeLsum': 0.527172857574441, 'test_runtime': 34.9503, 'test_samples_per_second': 2.575, 'test_steps_per_second': 0.658}\n"
     ]
    },
    {
     "name": "stderr",
     "output_type": "stream",
     "text": [
      "100%|██████████| 3/3 [00:00<00:00,  4.05it/s]"
     ]
    },
    {
     "name": "stdout",
     "output_type": "stream",
     "text": [
      "Perplexity (mean): 31.98\n"
     ]
    },
    {
     "name": "stderr",
     "output_type": "stream",
     "text": [
      "\n"
     ]
    }
   ],
   "source": [
    "# Distillation\n",
    "\n",
    "from distillation import *\n",
    "\n",
    "DIR_DISTIL = create_work_dir(\"tmp/pred/distillation/\")\n",
    "last_checkpoint = get_last_checkpoint(DIR_DISTIL)\n",
    "\n",
    "teacher = fine_tuned\n",
    "# teacher has no need to update itself\n",
    "teacher.requires_grad_(False)\n",
    "teacher.eval()\n",
    "\n",
    "student = create_student(teacher)\n",
    "print_size(student)\n",
    "\n",
    "distiller_model = Distiller(teacher=teacher, student=student)\n",
    "\n",
    "training_args = TrainingArguments(\n",
    "    output_dir=DIR_DISTIL,\n",
    "    num_train_epochs=100,\n",
    "    per_device_train_batch_size=16,\n",
    "    per_device_eval_batch_size=4,\n",
    "    gradient_accumulation_steps=4,\n",
    "    # eval_accumulation_steps=1,\n",
    "    warmup_steps=500,\n",
    "    eval_strategy=\"steps\",\n",
    "    save_strategy=\"steps\",\n",
    "    save_steps=1000,\n",
    "    save_total_limit=2,\n",
    "    learning_rate=5e-5,\n",
    "    logging_dir=DIR_DISTIL,\n",
    "    logging_steps=200,\n",
    "    logging_first_step=True,\n",
    "    log_level=\"warning\",\n",
    "    save_safetensors=False,\n",
    "    fp16=torch.cuda.is_available(),\n",
    "\n",
    "    # max_steps=2,  # TODO\n",
    ")\n",
    "\n",
    "trainer = Trainer(\n",
    "    model=distiller_model,\n",
    "    args=training_args,\n",
    "    train_dataset=train_dataset,\n",
    "    eval_dataset=val_dataset,\n",
    ")\n",
    "\n",
    "trainer.train(resume_from_checkpoint=last_checkpoint)\n",
    "\n",
    "# release\n",
    "del trainer\n",
    "release()\n",
    "\n",
    "print_rouge_score_2(student, test_dataset)\n",
    "print_perplexity(student, tokenizer, original_test_dataset)"
   ]
  },
  {
   "cell_type": "code",
   "execution_count": 6,
   "id": "af788dafd24d8b8",
   "metadata": {
    "colab": {
     "base_uri": "https://localhost:8080/",
     "height": 1000,
     "referenced_widgets": [
      "7812ca193de74396bfe6fddd504cf8dd",
      "a5149f97983c46bc833ebfadd8403af3"
     ]
    },
    "id": "af788dafd24d8b8",
    "outputId": "1cfcc976-2620-4486-f683-ce74ed46d92e",
    "scrolled": true
   },
   "outputs": [
    {
     "name": "stderr",
     "output_type": "stream",
     "text": [
      "Using the `WANDB_DISABLED` environment variable is deprecated and will be removed in v5. Use the --report_to flag to control the integrations used for logging result (for instance --report_to none).\n"
     ]
    },
    {
     "name": "stdout",
     "output_type": "stream",
     "text": [
      "last checkpoint: None\n"
     ]
    },
    {
     "data": {
      "application/vnd.jupyter.widget-view+json": {
       "model_id": "2b22b080f0184c039dcb30c67f813c83",
       "version_major": 2,
       "version_minor": 0
      },
      "text/plain": [
       "Output()"
      ]
     },
     "metadata": {},
     "output_type": "display_data"
    },
    {
     "data": {
      "text/html": [
       "\n",
       "    <div>\n",
       "      \n",
       "      <progress value='4440' max='4440' style='width:300px; height:20px; vertical-align: middle;'></progress>\n",
       "      [4440/4440 1:28:32, Epoch 118/120]\n",
       "    </div>\n",
       "    <table border=\"1\" class=\"dataframe\">\n",
       "  <thead>\n",
       " <tr style=\"text-align: left;\">\n",
       "      <th>Step</th>\n",
       "      <th>Training Loss</th>\n",
       "      <th>Validation Loss</th>\n",
       "    </tr>\n",
       "  </thead>\n",
       "  <tbody>\n",
       "    <tr>\n",
       "      <td>100</td>\n",
       "      <td>10.069300</td>\n",
       "      <td>2.288450</td>\n",
       "    </tr>\n",
       "    <tr>\n",
       "      <td>200</td>\n",
       "      <td>10.128900</td>\n",
       "      <td>2.326391</td>\n",
       "    </tr>\n",
       "    <tr>\n",
       "      <td>300</td>\n",
       "      <td>10.238200</td>\n",
       "      <td>2.364873</td>\n",
       "    </tr>\n",
       "    <tr>\n",
       "      <td>400</td>\n",
       "      <td>10.322400</td>\n",
       "      <td>2.425534</td>\n",
       "    </tr>\n",
       "    <tr>\n",
       "      <td>500</td>\n",
       "      <td>10.498800</td>\n",
       "      <td>2.468225</td>\n",
       "    </tr>\n",
       "    <tr>\n",
       "      <td>600</td>\n",
       "      <td>10.514600</td>\n",
       "      <td>2.537802</td>\n",
       "    </tr>\n",
       "    <tr>\n",
       "      <td>700</td>\n",
       "      <td>10.430500</td>\n",
       "      <td>2.590955</td>\n",
       "    </tr>\n",
       "    <tr>\n",
       "      <td>800</td>\n",
       "      <td>10.390200</td>\n",
       "      <td>2.639328</td>\n",
       "    </tr>\n",
       "    <tr>\n",
       "      <td>900</td>\n",
       "      <td>10.558100</td>\n",
       "      <td>2.644592</td>\n",
       "    </tr>\n",
       "    <tr>\n",
       "      <td>1000</td>\n",
       "      <td>10.738800</td>\n",
       "      <td>2.694686</td>\n",
       "    </tr>\n",
       "    <tr>\n",
       "      <td>1100</td>\n",
       "      <td>10.652600</td>\n",
       "      <td>2.728488</td>\n",
       "    </tr>\n",
       "    <tr>\n",
       "      <td>1200</td>\n",
       "      <td>10.689800</td>\n",
       "      <td>2.807490</td>\n",
       "    </tr>\n",
       "    <tr>\n",
       "      <td>1300</td>\n",
       "      <td>10.633700</td>\n",
       "      <td>2.860496</td>\n",
       "    </tr>\n",
       "    <tr>\n",
       "      <td>1400</td>\n",
       "      <td>10.617400</td>\n",
       "      <td>2.900654</td>\n",
       "    </tr>\n",
       "    <tr>\n",
       "      <td>1500</td>\n",
       "      <td>10.622200</td>\n",
       "      <td>2.944755</td>\n",
       "    </tr>\n",
       "    <tr>\n",
       "      <td>1600</td>\n",
       "      <td>10.606000</td>\n",
       "      <td>2.968564</td>\n",
       "    </tr>\n",
       "    <tr>\n",
       "      <td>1700</td>\n",
       "      <td>10.561100</td>\n",
       "      <td>3.028640</td>\n",
       "    </tr>\n",
       "    <tr>\n",
       "      <td>1800</td>\n",
       "      <td>10.813700</td>\n",
       "      <td>3.083969</td>\n",
       "    </tr>\n",
       "    <tr>\n",
       "      <td>1900</td>\n",
       "      <td>10.723300</td>\n",
       "      <td>3.112877</td>\n",
       "    </tr>\n",
       "    <tr>\n",
       "      <td>2000</td>\n",
       "      <td>10.682400</td>\n",
       "      <td>3.153965</td>\n",
       "    </tr>\n",
       "    <tr>\n",
       "      <td>2100</td>\n",
       "      <td>10.623200</td>\n",
       "      <td>3.193617</td>\n",
       "    </tr>\n",
       "    <tr>\n",
       "      <td>2200</td>\n",
       "      <td>10.547000</td>\n",
       "      <td>3.224519</td>\n",
       "    </tr>\n",
       "    <tr>\n",
       "      <td>2300</td>\n",
       "      <td>10.590300</td>\n",
       "      <td>3.242919</td>\n",
       "    </tr>\n",
       "    <tr>\n",
       "      <td>2400</td>\n",
       "      <td>10.475800</td>\n",
       "      <td>3.257723</td>\n",
       "    </tr>\n",
       "    <tr>\n",
       "      <td>2500</td>\n",
       "      <td>10.441600</td>\n",
       "      <td>3.281343</td>\n",
       "    </tr>\n",
       "    <tr>\n",
       "      <td>2600</td>\n",
       "      <td>10.366600</td>\n",
       "      <td>3.305455</td>\n",
       "    </tr>\n",
       "    <tr>\n",
       "      <td>2700</td>\n",
       "      <td>10.337600</td>\n",
       "      <td>3.321354</td>\n",
       "    </tr>\n",
       "    <tr>\n",
       "      <td>2800</td>\n",
       "      <td>10.328300</td>\n",
       "      <td>3.335069</td>\n",
       "    </tr>\n",
       "    <tr>\n",
       "      <td>2900</td>\n",
       "      <td>10.270900</td>\n",
       "      <td>3.335844</td>\n",
       "    </tr>\n",
       "    <tr>\n",
       "      <td>3000</td>\n",
       "      <td>10.242000</td>\n",
       "      <td>3.349310</td>\n",
       "    </tr>\n",
       "    <tr>\n",
       "      <td>3100</td>\n",
       "      <td>10.191400</td>\n",
       "      <td>3.367867</td>\n",
       "    </tr>\n",
       "    <tr>\n",
       "      <td>3200</td>\n",
       "      <td>10.165500</td>\n",
       "      <td>3.379786</td>\n",
       "    </tr>\n",
       "    <tr>\n",
       "      <td>3300</td>\n",
       "      <td>10.105700</td>\n",
       "      <td>3.388456</td>\n",
       "    </tr>\n",
       "    <tr>\n",
       "      <td>3400</td>\n",
       "      <td>10.079800</td>\n",
       "      <td>3.396106</td>\n",
       "    </tr>\n",
       "    <tr>\n",
       "      <td>3500</td>\n",
       "      <td>10.012700</td>\n",
       "      <td>3.400534</td>\n",
       "    </tr>\n",
       "    <tr>\n",
       "      <td>3600</td>\n",
       "      <td>10.032400</td>\n",
       "      <td>3.401039</td>\n",
       "    </tr>\n",
       "    <tr>\n",
       "      <td>3700</td>\n",
       "      <td>9.994500</td>\n",
       "      <td>3.408659</td>\n",
       "    </tr>\n",
       "    <tr>\n",
       "      <td>3800</td>\n",
       "      <td>9.945700</td>\n",
       "      <td>3.411910</td>\n",
       "    </tr>\n",
       "    <tr>\n",
       "      <td>3900</td>\n",
       "      <td>9.900300</td>\n",
       "      <td>3.418357</td>\n",
       "    </tr>\n",
       "    <tr>\n",
       "      <td>4000</td>\n",
       "      <td>9.874200</td>\n",
       "      <td>3.418796</td>\n",
       "    </tr>\n",
       "    <tr>\n",
       "      <td>4100</td>\n",
       "      <td>9.924500</td>\n",
       "      <td>3.423938</td>\n",
       "    </tr>\n",
       "    <tr>\n",
       "      <td>4200</td>\n",
       "      <td>9.858400</td>\n",
       "      <td>3.423244</td>\n",
       "    </tr>\n",
       "    <tr>\n",
       "      <td>4300</td>\n",
       "      <td>9.866400</td>\n",
       "      <td>3.425667</td>\n",
       "    </tr>\n",
       "    <tr>\n",
       "      <td>4400</td>\n",
       "      <td>9.849100</td>\n",
       "      <td>3.426377</td>\n",
       "    </tr>\n",
       "  </tbody>\n",
       "</table><p>"
      ],
      "text/plain": [
       "<IPython.core.display.HTML object>"
      ]
     },
     "metadata": {},
     "output_type": "display_data"
    },
    {
     "data": {
      "image/png": "[encoded data removed]",
      "text/plain": [
       "<Figure size 640x480 with 1 Axes>"
      ]
     },
     "metadata": {},
     "output_type": "display_data"
    },
    {
     "data": {
      "image/png": "[encoded data removed]",
      "text/plain": [
       "<Figure size 640x480 with 1 Axes>"
      ]
     },
     "metadata": {},
     "output_type": "display_data"
    },
    {
     "data": {
      "image/png": "[encoded data removed]",
      "text/plain": [
       "<Figure size 640x480 with 1 Axes>"
      ]
     },
     "metadata": {},
     "output_type": "display_data"
    },
    {
     "data": {
      "image/png": "[encoded data removed]",
      "text/plain": [
       "<Figure size 640x480 with 1 Axes>"
      ]
     },
     "metadata": {},
     "output_type": "display_data"
    },
    {
     "data": {
      "image/png": "[encoded data removed]",
      "text/plain": [
       "<Figure size 640x480 with 1 Axes>"
      ]
     },
     "metadata": {},
     "output_type": "display_data"
    },
    {
     "data": {
      "image/png": "[encoded data removed]",
      "text/plain": [
       "<Figure size 640x480 with 1 Axes>"
      ]
     },
     "metadata": {},
     "output_type": "display_data"
    },
    {
     "data": {
      "image/png": "[encoded data removed]",
      "text/plain": [
       "<Figure size 640x480 with 1 Axes>"
      ]
     },
     "metadata": {},
     "output_type": "display_data"
    },
    {
     "data": {
      "image/png": "[encoded data removed]",
      "text/plain": [
       "<Figure size 640x480 with 1 Axes>"
      ]
     },
     "metadata": {},
     "output_type": "display_data"
    },
    {
     "data": {
      "image/png": "[encoded data removed]",
      "text/plain": [
       "<Figure size 640x480 with 1 Axes>"
      ]
     },
     "metadata": {},
     "output_type": "display_data"
    },
    {
     "data": {
      "image/png": "[encoded data removed]",
      "text/plain": [
       "<Figure size 640x480 with 1 Axes>"
      ]
     },
     "metadata": {},
     "output_type": "display_data"
    },
    {
     "name": "stdout",
     "output_type": "stream",
     "text": [
      "transformer.h.0.attn.c_attn: row density: 1.0; col density: 1.0\n",
      "transformer.h.0.attn.c_proj: row density: 1.0; col density: 1.0\n",
      "transformer.h.0.mlp.c_fc: row density: 1.0; col density: 0.4\n",
      "transformer.h.0.mlp.c_proj: row density: 0.4; col density: 1.0\n",
      "transformer.h.1.attn.c_attn: row density: 1.0; col density: 1.0\n",
      "transformer.h.1.attn.c_proj: row density: 1.0; col density: 1.0\n",
      "transformer.h.1.mlp.c_fc: row density: 1.0; col density: 0.4\n",
      "transformer.h.1.mlp.c_proj: row density: 0.4; col density: 1.0\n",
      "transformer.h.2.attn.c_attn: row density: 1.0; col density: 1.0\n",
      "transformer.h.2.attn.c_proj: row density: 1.0; col density: 1.0\n",
      "transformer.h.2.mlp.c_fc: row density: 1.0; col density: 0.4\n",
      "transformer.h.2.mlp.c_proj: row density: 0.4; col density: 1.0\n",
      "transformer.h.3.attn.c_attn: row density: 1.0; col density: 1.0\n",
      "transformer.h.3.attn.c_proj: row density: 1.0; col density: 1.0\n",
      "transformer.h.3.mlp.c_fc: row density: 1.0; col density: 0.4\n",
      "transformer.h.3.mlp.c_proj: row density: 0.4; col density: 1.0\n",
      "transformer.h.4.attn.c_attn: row density: 1.0; col density: 1.0\n",
      "transformer.h.4.attn.c_proj: row density: 1.0; col density: 1.0\n",
      "transformer.h.4.mlp.c_fc: row density: 1.0; col density: 0.4\n",
      "transformer.h.4.mlp.c_proj: row density: 0.4; col density: 1.0\n",
      "transformer.h.5.attn.c_attn: row density: 1.0; col density: 1.0\n",
      "transformer.h.5.attn.c_proj: row density: 1.0; col density: 1.0\n",
      "transformer.h.5.mlp.c_fc: row density: 1.0; col density: 0.4\n",
      "transformer.h.5.mlp.c_proj: row density: 0.4; col density: 1.0\n",
      "fc1: weight: torch.Size([768, 3072]) -> new_weight: torch.Size([768, 1229])\n",
      "fc2: weight: torch.Size([3072, 768]) -> new_weight: torch.Size([1229, 768])\n",
      "fc1: weight: torch.Size([768, 3072]) -> new_weight: torch.Size([768, 1229])\n",
      "fc2: weight: torch.Size([3072, 768]) -> new_weight: torch.Size([1229, 768])\n",
      "fc1: weight: torch.Size([768, 3072]) -> new_weight: torch.Size([768, 1229])\n",
      "fc2: weight: torch.Size([3072, 768]) -> new_weight: torch.Size([1229, 768])\n",
      "fc1: weight: torch.Size([768, 3072]) -> new_weight: torch.Size([768, 1229])\n",
      "fc2: weight: torch.Size([3072, 768]) -> new_weight: torch.Size([1229, 768])\n",
      "fc1: weight: torch.Size([768, 3072]) -> new_weight: torch.Size([768, 1229])\n",
      "fc2: weight: torch.Size([3072, 768]) -> new_weight: torch.Size([1229, 768])\n",
      "fc1: weight: torch.Size([768, 3072]) -> new_weight: torch.Size([768, 1229])\n",
      "fc2: weight: torch.Size([3072, 768]) -> new_weight: torch.Size([1229, 768])\n",
      "transformer.h.0.attn: useless_heads: [0, 4, 7, 12, 16, 19, 24, 28, 31]\n",
      "transformer.h.1.attn: useless_heads: [1, 4, 5, 13, 16, 17, 25, 28, 29]\n",
      "transformer.h.2.attn: useless_heads: [4, 9, 10, 16, 21, 22, 28, 33, 34]\n",
      "transformer.h.3.attn: useless_heads: [7, 8, 11, 19, 20, 23, 31, 32, 35]\n",
      "transformer.h.4.attn: useless_heads: [1, 5, 9, 13, 17, 21, 25, 29, 33]\n",
      "transformer.h.5.attn: useless_heads: [3, 5, 8, 15, 17, 20, 27, 29, 32]\n"
     ]
    },
    {
     "name": "stderr",
     "output_type": "stream",
     "text": [
      "Using the `WANDB_DISABLED` environment variable is deprecated and will be removed in v5. Use the --report_to flag to control the integrations used for logging result (for instance --report_to none).\n"
     ]
    },
    {
     "name": "stdout",
     "output_type": "stream",
     "text": [
      "Model size: 0.23 GB\n"
     ]
    },
    {
     "data": {
      "text/html": [],
      "text/plain": [
       "<IPython.core.display.HTML object>"
      ]
     },
     "metadata": {},
     "output_type": "display_data"
    },
    {
     "name": "stdout",
     "output_type": "stream",
     "text": [
      "{'test_loss': 2.935351610183716, 'test_model_preparation_time': 0.001, 'test_rouge1': 0.48713304665100426, 'test_rouge2': 0.10964006523577871, 'test_rougeL': 0.2721584813488309, 'test_rougeLsum': 0.4692395605691126, 'test_runtime': 34.6926, 'test_samples_per_second': 2.594, 'test_steps_per_second': 0.663}\n"
     ]
    },
    {
     "name": "stderr",
     "output_type": "stream",
     "text": [
      "100%|██████████| 3/3 [00:00<00:00,  4.98it/s]"
     ]
    },
    {
     "name": "stdout",
     "output_type": "stream",
     "text": [
      "Perplexity (mean): 68.27\n"
     ]
    },
    {
     "name": "stderr",
     "output_type": "stream",
     "text": [
      "\n"
     ]
    }
   ],
   "source": [
    "# pruning\n",
    "from pruning import *\n",
    "\n",
    "model = student\n",
    "to_prune = convert_model(model)\n",
    "\n",
    "# scheduler.progress = 1.0\n",
    "# scheduler.attn_threshold = scheduler.attn_final_threshold\n",
    "# scheduler.ffn_threshold = scheduler.ffn_final_threshold\n",
    "\n",
    "DIR_PRUNE = create_work_dir(\"tmp/pred/pruning/\")\n",
    "last_checkpoint = get_last_checkpoint(DIR_PRUNE)\n",
    "print(f\"last checkpoint: {last_checkpoint}\")\n",
    "training_args = TrainingArguments(\n",
    "    output_dir=DIR_PRUNE,\n",
    "    overwrite_output_dir=True,\n",
    "    num_train_epochs=p_train_config.epochs,\n",
    "    per_device_train_batch_size=p_train_config.batch_size,\n",
    "    eval_strategy=\"steps\",\n",
    "    save_strategy='steps',\n",
    "    save_steps=1000,\n",
    "    save_total_limit=2,\n",
    "    logging_dir=DIR_PRUNE,\n",
    "    logging_first_step=True,\n",
    "    logging_strategy=\"steps\",\n",
    "    logging_steps=100,   # predict_with_generate=True works only in evaluation phase\n",
    "    log_level=\"warning\",\n",
    "    fp16=torch.cuda.is_available(),\n",
    "    gradient_accumulation_steps=p_train_config.gradient_accumulation_steps,\n",
    "    weight_decay=0.01,\n",
    "    warmup_steps=500,\n",
    "    save_safetensors=False,  # we share masked scores between K,Q,V and between fc1,fc2.\n",
    "    prediction_loss_only=True,\n",
    "\n",
    "    # max_steps=2,  # TODO\n",
    ")\n",
    "\n",
    "trainer = Trainer(\n",
    "    model=to_prune,\n",
    "    args=training_args,\n",
    "    data_collator=data_collator,\n",
    "    train_dataset=train_dataset,\n",
    "    eval_dataset=val_dataset,\n",
    "    callbacks=[SchedulerUpdateCallback()],\n",
    ")\n",
    "\n",
    "trainer.train(resume_from_checkpoint=last_checkpoint)\n",
    "\n",
    "# release\n",
    "del trainer\n",
    "release()\n",
    "\n",
    "print_pruning_density(to_prune)\n",
    "FFN_freeze(to_prune)\n",
    "print_linear_density_all(to_prune)\n",
    "FFN_prune_zeros(to_prune)\n",
    "ATTN_prune_zeros(to_prune)\n",
    "print_size(to_prune)\n",
    "\n",
    "print_rouge_score_2(to_prune, test_dataset)\n",
    "print_perplexity(to_prune, tokenizer, original_test_dataset)\n",
    "\n",
    "# print(to_prune)"
   ]
  },
  {
   "cell_type": "code",
   "execution_count": 7,
   "id": "20c34728fe73c241",
   "metadata": {
    "colab": {
     "base_uri": "https://localhost:8080/",
     "height": 1000
    },
    "id": "20c34728fe73c241",
    "outputId": "f8760ced-5353-4414-b461-da55e187eda5"
   },
   "outputs": [
    {
     "name": "stderr",
     "output_type": "stream",
     "text": [
      "Using the `WANDB_DISABLED` environment variable is deprecated and will be removed in v5. Use the --report_to flag to control the integrations used for logging result (for instance --report_to none).\n"
     ]
    },
    {
     "name": "stdout",
     "output_type": "stream",
     "text": [
      "last checkpoint: None\n"
     ]
    },
    {
     "data": {
      "text/html": [
       "\n",
       "    <div>\n",
       "      \n",
       "      <progress value='740' max='740' style='width:300px; height:20px; vertical-align: middle;'></progress>\n",
       "      [740/740 12:33, Epoch 19/20]\n",
       "    </div>\n",
       "    <table border=\"1\" class=\"dataframe\">\n",
       "  <thead>\n",
       " <tr style=\"text-align: left;\">\n",
       "      <th>Step</th>\n",
       "      <th>Training Loss</th>\n",
       "      <th>Validation Loss</th>\n",
       "    </tr>\n",
       "  </thead>\n",
       "  <tbody>\n",
       "    <tr>\n",
       "      <td>100</td>\n",
       "      <td>9.993100</td>\n",
       "      <td>2.736084</td>\n",
       "    </tr>\n",
       "    <tr>\n",
       "      <td>200</td>\n",
       "      <td>9.839400</td>\n",
       "      <td>2.731814</td>\n",
       "    </tr>\n",
       "    <tr>\n",
       "      <td>300</td>\n",
       "      <td>9.828200</td>\n",
       "      <td>2.734849</td>\n",
       "    </tr>\n",
       "    <tr>\n",
       "      <td>400</td>\n",
       "      <td>9.750700</td>\n",
       "      <td>2.735830</td>\n",
       "    </tr>\n",
       "    <tr>\n",
       "      <td>500</td>\n",
       "      <td>9.590000</td>\n",
       "      <td>2.738337</td>\n",
       "    </tr>\n",
       "    <tr>\n",
       "      <td>600</td>\n",
       "      <td>9.560300</td>\n",
       "      <td>2.743417</td>\n",
       "    </tr>\n",
       "    <tr>\n",
       "      <td>700</td>\n",
       "      <td>9.457600</td>\n",
       "      <td>2.745441</td>\n",
       "    </tr>\n",
       "  </tbody>\n",
       "</table><p>"
      ],
      "text/plain": [
       "<IPython.core.display.HTML object>"
      ]
     },
     "metadata": {},
     "output_type": "display_data"
    },
    {
     "name": "stderr",
     "output_type": "stream",
     "text": [
      "Using the `WANDB_DISABLED` environment variable is deprecated and will be removed in v5. Use the --report_to flag to control the integrations used for logging result (for instance --report_to none).\n"
     ]
    },
    {
     "data": {
      "text/html": [],
      "text/plain": [
       "<IPython.core.display.HTML object>"
      ]
     },
     "metadata": {},
     "output_type": "display_data"
    },
    {
     "name": "stdout",
     "output_type": "stream",
     "text": [
      "{'test_loss': 2.9025278091430664, 'test_model_preparation_time': 0.0009, 'test_rouge1': 0.5020782403928756, 'test_rouge2': 0.11459371128039508, 'test_rougeL': 0.2783668831461792, 'test_rougeLsum': 0.48307838086304156, 'test_runtime': 33.9275, 'test_samples_per_second': 2.653, 'test_steps_per_second': 0.678}\n"
     ]
    },
    {
     "name": "stderr",
     "output_type": "stream",
     "text": [
      "100%|██████████| 3/3 [00:00<00:00,  4.97it/s]\n"
     ]
    },
    {
     "name": "stdout",
     "output_type": "stream",
     "text": [
      "Perplexity (mean): 65.66\n",
      "Model size: 0.17 GB\n"
     ]
    }
   ],
   "source": [
    "# PTQ, QAT\n",
    "from quantization import *\n",
    "\n",
    "model = to_prune\n",
    "ptq = get_ptq_model(model)\n",
    "\n",
    "DIR_QUANTIZE = create_work_dir(\"tmp/pred/quantization/\")\n",
    "last_checkpoint = get_last_checkpoint(DIR_QUANTIZE)\n",
    "print(f\"last checkpoint: {last_checkpoint}\")\n",
    "training_args = TrainingArguments(\n",
    "    output_dir=DIR_QUANTIZE,\n",
    "    overwrite_output_dir=True,\n",
    "    num_train_epochs=q_train_config.epochs,\n",
    "    per_device_train_batch_size=q_train_config.batch_size,\n",
    "    eval_strategy=\"steps\",\n",
    "    save_strategy='steps',\n",
    "    save_steps=1000,\n",
    "    save_total_limit=1,\n",
    "    logging_dir=DIR_QUANTIZE,\n",
    "    logging_first_step=True,\n",
    "    logging_strategy=\"steps\",\n",
    "    logging_steps=100,\n",
    "    log_level=\"warning\",\n",
    "    fp16=torch.cuda.is_available(),\n",
    "    gradient_accumulation_steps=q_train_config.gradient_accumulation_steps,\n",
    "    weight_decay=0.01,\n",
    "    warmup_steps=500,\n",
    "    prediction_loss_only=True,\n",
    "\n",
    "    # max_steps=2,  # TODO\n",
    ")\n",
    "\n",
    "trainer = Trainer(\n",
    "    model=ptq,\n",
    "    args=training_args,\n",
    "    data_collator=data_collator,\n",
    "    train_dataset=train_dataset,\n",
    "    eval_dataset=val_dataset,\n",
    ")\n",
    "\n",
    "trainer.train(resume_from_checkpoint=last_checkpoint)\n",
    "\n",
    "# release\n",
    "del trainer\n",
    "release()\n",
    "\n",
    "print_rouge_score_2(ptq, test_dataset)\n",
    "print_perplexity(ptq, tokenizer, original_test_dataset)\n",
    "\n",
    "freeze(ptq)\n",
    "print_size(ptq)\n",
    "\n",
    "FINAL_FILE = DIR_QUANTIZE + \"final.pth\"\n",
    "torch.save(ptq, FINAL_FILE)  # TODO: save state dict only and save the scale dict in json."
   ]
  },
  {
   "cell_type": "code",
   "execution_count": 8,
   "id": "6e2465f4c375eea0",
   "metadata": {
    "colab": {
     "base_uri": "https://localhost:8080/"
    },
    "id": "6e2465f4c375eea0",
    "outputId": "9ffbbf45-cd8c-419b-de38-13969be01b48"
   },
   "outputs": [
    {
     "name": "stderr",
     "output_type": "stream",
     "text": [
      "The attention mask and the pad token id were not set. As a consequence, you may observe unexpected behavior. Please pass your input's `attention_mask` to obtain reliable results.\n",
      "Setting `pad_token_id` to `eos_token_id`:None for open-end generation.\n",
      "The attention mask is not set and cannot be inferred from input because pad token is same as eos token. As a consequence, you may observe unexpected behavior. Please pass your input's `attention_mask` to obtain reliable results.\n"
     ]
    },
    {
     "name": "stdout",
     "output_type": "stream",
     "text": [
      "=================== 81 =====================\n"
     ]
    },
    {
     "name": "stderr",
     "output_type": "stream",
     "text": [
      "100%|██████████| 1/1 [00:00<00:00, 19.56it/s]\n",
      "The attention mask and the pad token id were not set. As a consequence, you may observe unexpected behavior. Please pass your input's `attention_mask` to obtain reliable results.\n",
      "Setting `pad_token_id` to `eos_token_id`:None for open-end generation.\n"
     ]
    },
    {
     "name": "stdout",
     "output_type": "stream",
     "text": [
      ">>> origin\t: Generated Text: [(CNN) When it comes to shocking developments in the winding probe into President Donald Trump's campaign, the 2016 election, the Russians, hacking, allegations of collusion, and who-knows-what-else, the revelation on Thursday that special counsel Robert Mueller had issued grand jury subpoenas somehow managed to feel like an anticlimax.\n",
      "\n",
      "Mueller's particular concern in this case appears to be Donald Trump Jr.'s meeting with a Russian lawyer, among others, at Trump Tower in June 2016. The meeting was reportedly arranged by the Trump campaign and the Russian government, according to a report by The New York Times. Mueller's office has not yet released the meeting, but it is believed that the lawyer was asked to provide Trump with information about the campaign's contacts with the Kremlin. Trump has denied any wrongdoing. He has also denied that he had any knowledge of the meetings. In addition, Mueller has subpoenaed the emails of a number of Trump associates, including former campaign chairman Paul Manafort, who was also subpoenanded to testify about his contacts. Manafort has pleaded not guilty to charges of lying to the FBI about contacts he made with Russian officials. And in a separate case, a federal grand juries investigation into the Clinton campaign was halted after it was discovered that a former Clinton aide had been paid $250,000 by a foreign government to help the Democratic National Committee.]\n",
      "{'rouge1': 0.3267, 'rouge2': 0.1764, 'rougeL': 0.2269, 'rougeLsum': 0.2813} {'perplexities': [24.7908935546875], 'mean_perplexity': 24.7908935546875}\n",
      "===========================\n"
     ]
    },
    {
     "name": "stderr",
     "output_type": "stream",
     "text": [
      "100%|██████████| 1/1 [00:00<00:00, 20.25it/s]\n",
      "The attention mask and the pad token id were not set. As a consequence, you may observe unexpected behavior. Please pass your input's `attention_mask` to obtain reliable results.\n",
      "Setting `pad_token_id` to `eos_token_id`:None for open-end generation.\n"
     ]
    },
    {
     "name": "stdout",
     "output_type": "stream",
     "text": [
      ">>> opt   \t: Generated Text: [(CNN) When it comes to shocking developments in the winding probe into President Donald Trump's campaign, the 2016 election, the Russians, hacking, allegations of collusion, and who-knows-what-else, the revelation on Thursday that special counsel Robert Mueller had issued grand jury subpoenas somehow managed to feel like an anticlimax.\n",
      "\n",
      "Mueller's particular concern in this case appears to be Donald Trump Jr.'s meeting with a Russian lawyer, among others, at Trump Tower in June. (AP)\n",
      "The meeting was held in Trump, but the Russian attorney, who was in office for the Trump campaign. Mueller's meeting, was not disclosed. The meeting ended up being held on Friday night, when the meeting took place. It was unclear whether Mueller was asked to discuss the matter. But the Kremlin's attorney said that the meetings were not discussed. \"The Russians were in meetings with the president and the media,\" the lawyer said.]\n",
      "{'rouge1': 0.2569, 'rouge2': 0.1788, 'rougeL': 0.2176, 'rougeLsum': 0.2471} {'perplexities': [94.49827575683594], 'mean_perplexity': 94.49827575683594}\n",
      "\n",
      "=================== 14 =====================\n"
     ]
    },
    {
     "name": "stderr",
     "output_type": "stream",
     "text": [
      "100%|██████████| 1/1 [00:00<00:00, 19.51it/s]\n",
      "The attention mask and the pad token id were not set. As a consequence, you may observe unexpected behavior. Please pass your input's `attention_mask` to obtain reliable results.\n",
      "Setting `pad_token_id` to `eos_token_id`:None for open-end generation.\n"
     ]
    },
    {
     "name": "stdout",
     "output_type": "stream",
     "text": [
      ">>> origin\t: Generated Text: [The ‘non-religious’ are the largest group in the State after Catholics, according to the last census. They range from active atheists lobbying for a secular Ireland to guilty non-believers who still observe religious rituals, writes RÓISÍN INGLE\n",
      "\n",
      "A FEW WEEKS ago Brian Whiteside of the Humanist Association of Ireland addressed a gathering that included Taoiseach Enda Kenny, Minister for Justice Alan Shatter as well as various religious leaders.\n",
      "‘Non-Christians are not the only ones who are concerned about the future of our country.” he said. “We are also concerned that the Irish Catholic Church is not being represented in government. We are worried that it is being used as a political tool to further the interests of religious groups. The Irish Church has been a powerful force in our society for many years. It is a very important part of society. I think that is why we are so concerned. There are a lot of people who think the Church should be represented. But I don‒t think it should. If you look at the history of religion, it has always been very much a part and a significant part. And I believe that we should not be afraid to be part in it. That is what we need to do. So I would like to see the Catholic church represented as much as possible. This is the first time that I have ever heard of a Catholic minister being asked to]\n",
      "{'rouge1': 0.2124, 'rouge2': 0.1133, 'rougeL': 0.1463, 'rougeLsum': 0.1934} {'perplexities': [19.672245025634766], 'mean_perplexity': 19.672245025634766}\n",
      "===========================\n"
     ]
    },
    {
     "name": "stderr",
     "output_type": "stream",
     "text": [
      "100%|██████████| 1/1 [00:00<00:00, 20.38it/s]\n",
      "The attention mask and the pad token id were not set. As a consequence, you may observe unexpected behavior. Please pass your input's `attention_mask` to obtain reliable results.\n",
      "Setting `pad_token_id` to `eos_token_id`:None for open-end generation.\n"
     ]
    },
    {
     "name": "stdout",
     "output_type": "stream",
     "text": [
      ">>> opt   \t: Generated Text: [The ‘non-religious’ are the largest group in the State after Catholics, according to the last census. They range from active atheists lobbying for a secular Ireland to guilty non-believers who still observe religious rituals, writes RÓISÍN INGLE\n",
      "\n",
      "A FEW WEEKS ago Brian Whiteside of the Humanist Association of Ireland addressed a gathering that included Taoiseach Enda Kenny, Minister for Justice Alan Shatter as well as various religious leaders.\n",
      "“The group‘s membership is a nonreligious organization,” he said. “It‒s a group that„s not just religious, but also a religious organization that is not religiously affiliated with the Catholic Church.—\n",
      "The groups have been active in recent years, including the National Register, which has been linked to a number of religious groups. The group has also been affiliated to Catholic organizations.]\n",
      "{'rouge1': 0.1241, 'rouge2': 0.0924, 'rougeL': 0.1125, 'rougeLsum': 0.121} {'perplexities': [68.39715576171875], 'mean_perplexity': 68.39715576171875}\n",
      "\n",
      "=================== 3 =====================\n"
     ]
    },
    {
     "name": "stderr",
     "output_type": "stream",
     "text": [
      "100%|██████████| 1/1 [00:00<00:00, 38.30it/s]\n",
      "The attention mask and the pad token id were not set. As a consequence, you may observe unexpected behavior. Please pass your input's `attention_mask` to obtain reliable results.\n",
      "Setting `pad_token_id` to `eos_token_id`:None for open-end generation.\n"
     ]
    },
    {
     "name": "stdout",
     "output_type": "stream",
     "text": [
      ">>> origin\t: Generated Text: [Ohio Gov. John Kasich is reportedly set to drop out of the presidential race, according to NBC News ' Andrea Mitchell.\n",
      "\n",
      "Multiple oulets confirmed that the governor will officially suspend his campaign later on Wednesday. Kasich's campaign scrapped a press conference planned for early Wednesday morning and instead announced the governor would make a statement in Columbus at 5 p.m. ET.\n",
      "\n",
      "The Kasich campaign didn't immediately respond to a request for comment from Business Insider.\n",
      "\n",
      "Presumptive Republican presidential nominee Donald Trump has been a strong supporter of Kasich, who has said he would not run for president. But Kasich has also been critical of Trump, saying he is \"not a great leader.\"\n",
      "“I don’t think he”s a leader,‘ Kasich said in a recent interview with The New York Times. “He�ll be a very tough guy. I don't think that‒s going to happen.‗\n",
      "]\n",
      "{'rouge1': 0.5571, 'rouge2': 0.4594, 'rougeL': 0.5181, 'rougeLsum': 0.5515} {'perplexities': [10.961395263671875], 'mean_perplexity': 10.961395263671875}\n",
      "===========================\n"
     ]
    },
    {
     "name": "stderr",
     "output_type": "stream",
     "text": [
      "100%|██████████| 1/1 [00:00<00:00, 43.59it/s]\n",
      "The attention mask and the pad token id were not set. As a consequence, you may observe unexpected behavior. Please pass your input's `attention_mask` to obtain reliable results.\n",
      "Setting `pad_token_id` to `eos_token_id`:None for open-end generation.\n"
     ]
    },
    {
     "name": "stdout",
     "output_type": "stream",
     "text": [
      ">>> opt   \t: Generated Text: [Ohio Gov. John Kasich is reportedly set to drop out of the presidential race, according to NBC News ' Andrea Mitchell.\n",
      "\n",
      "Multiple oulets confirmed that the governor will officially suspend his campaign later on Wednesday. Kasich's campaign scrapped a press conference planned for early Wednesday morning and instead announced the governor would make a statement in Columbus at 5 p.m. ET.\n",
      "\n",
      "The Kasich campaign didn't immediately respond to a request for comment from Business Insider.\n",
      "\n",
      "Presumptive Republican presidential nominee John McCain has been scheduled to appear in the upcoming presidential debate, but the timing of his announcement is unclear. The timing is likely to be a surprise. But the news outlet, who has previously reported that he will not announce his resignation. \"The timing will be an indication that John will continue to hold the campaign until the end of this week,\" the source told NBC.com.]\n",
      "{'rouge1': 0.5627, 'rouge2': 0.4594, 'rougeL': 0.5292, 'rougeLsum': 0.5571} {'perplexities': [35.218318939208984], 'mean_perplexity': 35.218318939208984}\n",
      "\n",
      "=================== 35 =====================\n"
     ]
    },
    {
     "name": "stderr",
     "output_type": "stream",
     "text": [
      "100%|██████████| 1/1 [00:00<00:00, 19.56it/s]\n",
      "The attention mask and the pad token id were not set. As a consequence, you may observe unexpected behavior. Please pass your input's `attention_mask` to obtain reliable results.\n",
      "Setting `pad_token_id` to `eos_token_id`:None for open-end generation.\n"
     ]
    },
    {
     "name": "stdout",
     "output_type": "stream",
     "text": [
      ">>> origin\t: Generated Text: [Richard Cordray has been rumored to be considering a run for governor of Ohio, but he gave no indication Wednesday of what his plans are. | Pete Marovich/Getty Images Cordray to resign from CFPB, clouding future of watchdog agency\n",
      "\n",
      "Richard Cordray, the embattled director of the Consumer Financial Protection Bureau, will resign his post at the end of the month, giving President Donald Trump the chance to reshape an agency that has drawn relentless attacks from businesses over its aggressive enforcement.\n",
      "Story Continued Below\n",
      "\n",
      "\n",
      "\n",
      "Cordray's departure comes as the agency is facing a barrage of criticism from business groups and consumer advocates over the bureau's handling of consumer complaints. The bureau has faced criticism for failing to adequately investigate and prosecute consumer fraud, and for not adequately investigating and prosecuting predatory lending practices. It has also faced scrutiny for its handling and handling by the Obama administration of a $1.6 billion settlement with lenders that was widely criticized as a failure to properly investigate predatory lenders. And it has received criticism over how it handled the financial crisis. CordRay has had a tumultuous career in the federal agency, which has overseen the nation’s largest mortgage lending program, including the largest foreclosure crisis in history. He has served as director for the C.E.O. of Citi, a mortgage lender that helped to rescue the troubled mortgage industry. In addition to his role as CFO, CordRAY has worked as an adviser to the president and as chief financial officer of]\n",
      "{'rouge1': 0.2245, 'rouge2': 0.1183, 'rougeL': 0.1689, 'rougeLsum': 0.2115} {'perplexities': [10.834208488464355], 'mean_perplexity': 10.834208488464355}\n",
      "===========================\n"
     ]
    },
    {
     "name": "stderr",
     "output_type": "stream",
     "text": [
      "100%|██████████| 1/1 [00:00<00:00, 20.39it/s]\n",
      "The attention mask and the pad token id were not set. As a consequence, you may observe unexpected behavior. Please pass your input's `attention_mask` to obtain reliable results.\n",
      "Setting `pad_token_id` to `eos_token_id`:None for open-end generation.\n"
     ]
    },
    {
     "name": "stdout",
     "output_type": "stream",
     "text": [
      ">>> opt   \t: Generated Text: [Richard Cordray has been rumored to be considering a run for governor of Ohio, but he gave no indication Wednesday of what his plans are. | Pete Marovich/Getty Images Cordray to resign from CFPB, clouding future of watchdog agency\n",
      "\n",
      "Richard Cordray, the embattled director of the Consumer Financial Protection Bureau, will resign his post at the end of the month, giving President Donald Trump the chance to reshape an agency that has drawn relentless attacks from businesses over its aggressive enforcement.\n",
      "“I’m not going to see the president of a company that is going on to take a stand at all,” Cordry said. “It‘s a big deal, and it‒s going through the very end.„I don‍t want to say anything about it. I—m just going forward to the presidency. It s not a good deal. That―s what I want. And I don't want it to do. But I think it is a deal that‗s the biggest deal I have ever seen. So I can‛t say it, I am not looking for it because I feel it would be a huge deal for me. If I wanted to stay in the position of this administration, it will be the big deals that I made. The deal is that the company will have to deal with the people I believe. There s no deal to go. We�]\n",
      "{'rouge1': 0.2151, 'rouge2': 0.1244, 'rougeL': 0.1613, 'rougeLsum': 0.1983} {'perplexities': [47.75885009765625], 'mean_perplexity': 47.75885009765625}\n",
      "\n",
      "=================== 31 =====================\n"
     ]
    },
    {
     "name": "stderr",
     "output_type": "stream",
     "text": [
      "100%|██████████| 1/1 [00:00<00:00, 35.10it/s]\n",
      "The attention mask and the pad token id were not set. As a consequence, you may observe unexpected behavior. Please pass your input's `attention_mask` to obtain reliable results.\n",
      "Setting `pad_token_id` to `eos_token_id`:None for open-end generation.\n"
     ]
    },
    {
     "name": "stdout",
     "output_type": "stream",
     "text": [
      ">>> origin\t: Generated Text: [Get the biggest daily stories by email Subscribe Thank you for subscribing We have more newsletters Show me See our privacy notice Could not subscribe, try again later Invalid Email\n",
      "\n",
      "A man was found dead in his home after having sex with a scarecrow that he had dressed up in a wig, lipstick and strap-on sex toy.\n",
      "\n",
      "The rotting remains of Jose Alberto were discovered in his home after neighbours reported a foul smell coming from the building.\n",
      "\n",
      "Police forced their way into the home in San Francisco on Wednesday night to find the body of the man, who was wearing a black wig and lipstick. He was pronounced dead at the scene. Police said the victim had been sexually assaulted. The man had a tattoo on his right hand. His body was later found in the kitchen.]\n",
      "{'rouge1': 0.624, 'rouge2': 0.5098, 'rougeL': 0.5738, 'rougeLsum': 0.6072} {'perplexities': [10.678180694580078], 'mean_perplexity': 10.678180694580078}\n",
      "===========================\n"
     ]
    },
    {
     "name": "stderr",
     "output_type": "stream",
     "text": [
      "100%|██████████| 1/1 [00:00<00:00, 39.27it/s]"
     ]
    },
    {
     "name": "stdout",
     "output_type": "stream",
     "text": [
      ">>> opt   \t: Generated Text: [Get the biggest daily stories by email Subscribe Thank you for subscribing We have more newsletters Show me See our privacy notice Could not subscribe, try again later Invalid Email\n",
      "\n",
      "A man was found dead in his home after having sex with a scarecrow that he had dressed up in a wig, lipstick and strap-on sex toy.\n",
      "\n",
      "The rotting remains of Jose Alberto were discovered in his home after neighbours reported a foul smell coming from the building.\n",
      "\n",
      "Police forced their way into the home in San Francisco to find a dead. They found the man in the house, and they were found in their bedroom. The man's bedroom was discovered, in an upstairs bedroom, with the blood and teeth. He was taken to the hospital and found a blood clot in him. A man who was in her room was arrested was ordered to take the following call.]\n",
      "{'rouge1': 0.5984, 'rouge2': 0.4878, 'rougeL': 0.5499, 'rougeLsum': 0.5876} {'perplexities': [27.698532104492188], 'mean_perplexity': 27.698532104492188}\n"
     ]
    },
    {
     "name": "stderr",
     "output_type": "stream",
     "text": [
      "\n"
     ]
    }
   ],
   "source": [
    "model = torch.load(FINAL_FILE)\n",
    "thaw(model)\n",
    "\n",
    "def print_prediction(model, text, name: str):\n",
    "    input_ids = tokenizer.encode(text, return_tensors=\"pt\", truncation=True, padding=True, max_length=model.config.n_positions)\n",
    "    input_ids = input_ids[0, :100].unsqueeze(0)\n",
    "    with torch.no_grad():\n",
    "        output = model.generate(\n",
    "            input_ids.to(device),\n",
    "            min_new_tokens=50,\n",
    "            max_new_tokens=200,\n",
    "            num_return_sequences=1,\n",
    "            no_repeat_ngram_size=2,\n",
    "            top_k=50,\n",
    "            top_p=0.95,\n",
    "            temperature=1.0,\n",
    "        )\n",
    "    gen_prediction = tokenizer.decode(output[0], skip_special_tokens=True)\n",
    "\n",
    "    score1 = rouge_score.compute(predictions=[gen_prediction], references=[text])\n",
    "    scores1 = {k: round(v, 4) for k, v in score1.items()}\n",
    "    score2 = Perplexity.compute([text], model, tokenizer, device=device,\n",
    "                                batch_size=1, max_length=model.config.n_positions)\n",
    "    print(f\">>> {name}\\t: Generated Text: [{gen_prediction}]\")\n",
    "    print(f\"{scores1} {score2}\")\n",
    "\n",
    "fine_tuned.eval()\n",
    "model.eval()\n",
    "\n",
    "random_samples = random.sample(range(len(original_test_dataset)), 5)\n",
    "for idx in random_samples:\n",
    "    text = original_test_dataset[idx]['text'][:-100]\n",
    "    print(f\"=================== {idx} =====================\")\n",
    "    print_prediction(fine_tuned, text, \"origin\")\n",
    "    print(\"===========================\")\n",
    "    print_prediction(model, text, \"opt   \")\n",
    "    print()\n",
    "\n"
   ]
  },
  {
   "cell_type": "code",
   "execution_count": 9,
   "id": "3e9ccc9a-f008-4446-8452-3ed85b124483",
   "metadata": {
    "collapsed": false
   },
   "outputs": [
    {
     "name": "stderr",
     "output_type": "stream",
     "text": [
      "Using the `WANDB_DISABLED` environment variable is deprecated and will be removed in v5. Use the --report_to flag to control the integrations used for logging result (for instance --report_to none).\n"
     ]
    },
    {
     "data": {
      "text/html": [],
      "text/plain": [
       "<IPython.core.display.HTML object>"
      ]
     },
     "metadata": {},
     "output_type": "display_data"
    },
    {
     "name": "stdout",
     "output_type": "stream",
     "text": [
      "{'test_loss': 2.0115301609039307, 'test_model_preparation_time': 0.0017, 'test_rouge1': 0.5963481233414064, 'test_rouge2': 0.1947077085916068, 'test_rougeL': 0.39089284795055723, 'test_rougeLsum': 0.5781347713389784, 'test_runtime': 34.8169, 'test_samples_per_second': 2.585, 'test_steps_per_second': 0.661}\n"
     ]
    },
    {
     "name": "stderr",
     "output_type": "stream",
     "text": [
      "Using the `WANDB_DISABLED` environment variable is deprecated and will be removed in v5. Use the --report_to flag to control the integrations used for logging result (for instance --report_to none).\n"
     ]
    },
    {
     "data": {
      "text/html": [],
      "text/plain": [
       "<IPython.core.display.HTML object>"
      ]
     },
     "metadata": {},
     "output_type": "display_data"
    },
    {
     "name": "stdout",
     "output_type": "stream",
     "text": [
      "{'test_loss': 2.9016966819763184, 'test_model_preparation_time': 0.001, 'test_rouge1': 0.5021639238080926, 'test_rouge2': 0.11516827233275936, 'test_rougeL': 0.2789747734234966, 'test_rougeLsum': 0.48315212881547076, 'test_runtime': 34.0337, 'test_samples_per_second': 2.644, 'test_steps_per_second': 0.676}\n"
     ]
    },
    {
     "name": "stderr",
     "output_type": "stream",
     "text": [
      "100%|██████████| 3/3 [00:01<00:00,  2.87it/s]\n"
     ]
    },
    {
     "name": "stdout",
     "output_type": "stream",
     "text": [
      "Perplexity (mean): 18.25\n"
     ]
    },
    {
     "name": "stderr",
     "output_type": "stream",
     "text": [
      "100%|██████████| 3/3 [00:00<00:00,  4.99it/s]"
     ]
    },
    {
     "name": "stdout",
     "output_type": "stream",
     "text": [
      "Perplexity (mean): 65.52\n"
     ]
    },
    {
     "name": "stderr",
     "output_type": "stream",
     "text": [
      "\n"
     ]
    }
   ],
   "source": [
    "print_rouge_score_2(fine_tuned, test_dataset)\n",
    "print_rouge_score_2(model, test_dataset)\n",
    "\n",
    "print_perplexity(fine_tuned, tokenizer, original_test_dataset)\n",
    "print_perplexity(model, tokenizer, original_test_dataset)"
   ]
  }
 ],
 "metadata": {
  "accelerator": "GPU",
  "colab": {
   "gpuType": "A100",
   "machine_shape": "hm",
   "provenance": []
  },
  "kernelspec": {
   "display_name": "Python 3 (ipykernel)",
   "language": "python",
   "name": "python3"
  },
  "language_info": {
   "codemirror_mode": {
    "name": "ipython",
    "version": 3
   },
   "file_extension": ".py",
   "mimetype": "text/x-python",
   "name": "python",
   "nbconvert_exporter": "python",
   "pygments_lexer": "ipython3",
   "version": "3.12.3"
  },
  "widgets": {
   "application/vnd.jupyter.widget-state+json": {
    "5e0f54dc94074467bf029272bcc57f09": {
     "model_module": "@jupyter-widgets/controls",
     "model_module_version": "1.5.0",
     "model_name": "HBoxModel",
     "state": {
      "_dom_classes": [],
      "_model_module": "@jupyter-widgets/controls",
      "_model_module_version": "1.5.0",
      "_model_name": "HBoxModel",
      "_view_count": null,
      "_view_module": "@jupyter-widgets/controls",
      "_view_module_version": "1.5.0",
      "_view_name": "HBoxView",
      "box_style": "",
      "children": [
       "IPY_MODEL_d3c151b5e7774fe1b84e810d1bdd9692",
       "IPY_MODEL_8bde7c8f05b941e98bd70553dcea51a7",
       "IPY_MODEL_c19b525ef02448dd95ee88dc7955b0dd"
      ],
      "layout": "IPY_MODEL_bb5ac4a7ec3d4f88901a0315533a9cae"
     }
    },
    "66f05378e3aa472ba136e04ae542025e": {
     "model_module": "@jupyter-widgets/controls",
     "model_module_version": "1.5.0",
     "model_name": "DescriptionStyleModel",
     "state": {
      "_model_module": "@jupyter-widgets/controls",
      "_model_module_version": "1.5.0",
      "_model_name": "DescriptionStyleModel",
      "_view_count": null,
      "_view_module": "@jupyter-widgets/base",
      "_view_module_version": "1.2.0",
      "_view_name": "StyleView",
      "description_width": ""
     }
    },
    "6ae8a0f71965432caff1e1c0c9b32ae4": {
     "model_module": "@jupyter-widgets/controls",
     "model_module_version": "1.5.0",
     "model_name": "ProgressStyleModel",
     "state": {
      "_model_module": "@jupyter-widgets/controls",
      "_model_module_version": "1.5.0",
      "_model_name": "ProgressStyleModel",
      "_view_count": null,
      "_view_module": "@jupyter-widgets/base",
      "_view_module_version": "1.2.0",
      "_view_name": "StyleView",
      "bar_color": null,
      "description_width": ""
     }
    },
    "6cc31c72309548acb651f0f1c7f0dac1": {
     "model_module": "@jupyter-widgets/controls",
     "model_module_version": "1.5.0",
     "model_name": "DescriptionStyleModel",
     "state": {
      "_model_module": "@jupyter-widgets/controls",
      "_model_module_version": "1.5.0",
      "_model_name": "DescriptionStyleModel",
      "_view_count": null,
      "_view_module": "@jupyter-widgets/base",
      "_view_module_version": "1.2.0",
      "_view_name": "StyleView",
      "description_width": ""
     }
    },
    "7812ca193de74396bfe6fddd504cf8dd": {
     "model_module": "@jupyter-widgets/output",
     "model_module_version": "1.0.0",
     "model_name": "OutputModel",
     "state": {
      "_dom_classes": [],
      "_model_module": "@jupyter-widgets/output",
      "_model_module_version": "1.0.0",
      "_model_name": "OutputModel",
      "_view_count": null,
      "_view_module": "@jupyter-widgets/output",
      "_view_module_version": "1.0.0",
      "_view_name": "OutputView",
      "layout": "IPY_MODEL_a5149f97983c46bc833ebfadd8403af3",
      "msg_id": "",
      "outputs": [
       {
        "data": {
         "application/vnd.google.colaboratory.intrinsic+json": {
          "summary": "{\n  \"name\": \"# print(to_prune)\",\n  \"rows\": 16,\n  \"fields\": [\n    {\n      \"column\": \"loss\",\n      \"properties\": {\n        \"dtype\": \"number\",\n        \"std\": 0.5806143173705883,\n        \"min\": 0.0068,\n        \"max\": 1.6988,\n        \"num_unique_values\": 8,\n        \"samples\": [\n          0.4714,\n          0.024,\n          1.6988\n        ],\n        \"semantic_type\": \"\",\n        \"description\": \"\"\n      }\n    },\n    {\n      \"column\": \"step\",\n      \"properties\": {\n        \"dtype\": \"number\",\n        \"std\": 1163,\n        \"min\": 1,\n        \"max\": 3520,\n        \"num_unique_values\": 9,\n        \"samples\": [\n          3500,\n          500,\n          2500\n        ],\n        \"semantic_type\": \"\",\n        \"description\": \"\"\n      }\n    },\n    {\n      \"column\": \"ffn_threshold\",\n      \"properties\": {\n        \"dtype\": \"number\",\n        \"std\": 0.1756259806934067,\n        \"min\": 0.0,\n        \"max\": 0.6,\n        \"num_unique_values\": 7,\n        \"samples\": [\n          0.0,\n          0.25291701941048134,\n          0.5973158471661345\n        ],\n        \"semantic_type\": \"\",\n        \"description\": \"\"\n      }\n    },\n    {\n      \"column\": \"attn_threshold\",\n      \"properties\": {\n        \"dtype\": \"number\",\n        \"std\": 0.08781299034670335,\n        \"min\": 0.0,\n        \"max\": 0.3,\n        \"num_unique_values\": 7,\n        \"samples\": [\n          0.0,\n          0.12645850970524067,\n          0.29865792358306725\n        ],\n        \"semantic_type\": \"\",\n        \"description\": \"\"\n      }\n    },\n    {\n      \"column\": \"progress\",\n      \"properties\": {\n        \"dtype\": \"number\",\n        \"std\": 0.3469896730681873,\n        \"min\": 0.0,\n        \"max\": 1.0,\n        \"num_unique_values\": 7,\n        \"samples\": [\n          0.0,\n          0.16677807486631016,\n          0.8352272727272727\n        ],\n        \"semantic_type\": \"\",\n        \"description\": \"\"\n      }\n    },\n    {\n      \"column\": \"eval_loss\",\n      \"properties\": {\n        \"dtype\": \"number\",\n        \"std\": 0.17607588100227,\n        \"min\": 0.36148977279663086,\n        \"max\": 0.8102437257766724,\n        \"num_unique_values\": 7,\n        \"samples\": [\n          0.36148977279663086,\n          0.4614448845386505,\n          0.7980955839157104\n        ],\n        \"semantic_type\": \"\",\n        \"description\": \"\"\n      }\n    },\n    {\n      \"column\": \"eval_runtime\",\n      \"properties\": {\n        \"dtype\": \"number\",\n        \"std\": 1.3607420738069989,\n        \"min\": 0.7738,\n        \"max\": 4.426,\n        \"num_unique_values\": 7,\n        \"samples\": [\n          4.426,\n          0.7738,\n          0.8135\n        ],\n        \"semantic_type\": \"\",\n        \"description\": \"\"\n      }\n    },\n    {\n      \"column\": \"eval_samples_per_second\",\n      \"properties\": {\n        \"dtype\": \"number\",\n        \"std\": 83.0920353219993,\n        \"min\": 49.706,\n        \"max\": 284.302,\n        \"num_unique_values\": 7,\n        \"samples\": [\n          49.706,\n          284.302,\n          270.426\n        ],\n        \"semantic_type\": \"\",\n        \"description\": \"\"\n      }\n    },\n    {\n      \"column\": \"eval_steps_per_second\",\n      \"properties\": {\n        \"dtype\": \"number\",\n        \"std\": 10.57547163644881,\n        \"min\": 6.326,\n        \"max\": 36.184,\n        \"num_unique_values\": 7,\n        \"samples\": [\n          6.326,\n          36.184,\n          34.418\n        ],\n        \"semantic_type\": \"\",\n        \"description\": \"\"\n      }\n    },\n    {\n      \"column\": \"train_runtime\",\n      \"properties\": {\n        \"dtype\": \"number\",\n        \"std\": null,\n        \"min\": 1668.5623,\n        \"max\": 1668.5623,\n        \"num_unique_values\": 1,\n        \"samples\": [\n          1668.5623\n        ],\n        \"semantic_type\": \"\",\n        \"description\": \"\"\n      }\n    },\n    {\n      \"column\": \"train_samples_per_second\",\n      \"properties\": {\n        \"dtype\": \"number\",\n        \"std\": null,\n        \"min\": 33.811,\n        \"max\": 33.811,\n        \"num_unique_values\": 1,\n        \"samples\": [\n          33.811\n        ],\n        \"semantic_type\": \"\",\n        \"description\": \"\"\n      }\n    },\n    {\n      \"column\": \"train_steps_per_second\",\n      \"properties\": {\n        \"dtype\": \"number\",\n        \"std\": null,\n        \"min\": 2.11,\n        \"max\": 2.11,\n        \"num_unique_values\": 1,\n        \"samples\": [\n          2.11\n        ],\n        \"semantic_type\": \"\",\n        \"description\": \"\"\n      }\n    },\n    {\n      \"column\": \"total_flos\",\n      \"properties\": {\n        \"dtype\": \"number\",\n        \"std\": null,\n        \"min\": 3.0504941032144896e+16,\n        \"max\": 3.0504941032144896e+16,\n        \"num_unique_values\": 1,\n        \"samples\": [\n          3.0504941032144896e+16\n        ],\n        \"semantic_type\": \"\",\n        \"description\": \"\"\n      }\n    },\n    {\n      \"column\": \"train_loss\",\n      \"properties\": {\n        \"dtype\": \"number\",\n        \"std\": null,\n        \"min\": 0.11470991089855405,\n        \"max\": 0.11470991089855405,\n        \"num_unique_values\": 1,\n        \"samples\": [\n          0.11470991089855405\n        ],\n        \"semantic_type\": \"\",\n        \"description\": \"\"\n      }\n    }\n  ]\n}",
          "type": "dataframe"
         },
         "text/html": "\n  <div id=\"df-35379e83-1a01-496e-a4d7-48cba6392d5f\" class=\"colab-df-container\">\n    <div>\n<style scoped>\n    .dataframe tbody tr th:only-of-type {\n        vertical-align: middle;\n    }\n\n    .dataframe tbody tr th {\n        vertical-align: top;\n    }\n\n    .dataframe thead th {\n        text-align: right;\n    }\n</style>\n<table border=\"1\" class=\"dataframe\">\n  <thead>\n    <tr style=\"text-align: right;\">\n      <th></th>\n      <th>loss</th>\n      <th>step</th>\n      <th>ffn_threshold</th>\n      <th>attn_threshold</th>\n      <th>progress</th>\n      <th>eval_loss</th>\n      <th>eval_runtime</th>\n      <th>eval_samples_per_second</th>\n      <th>eval_steps_per_second</th>\n      <th>train_runtime</th>\n      <th>train_samples_per_second</th>\n      <th>train_steps_per_second</th>\n      <th>total_flos</th>\n      <th>train_loss</th>\n    </tr>\n  </thead>\n  <tbody>\n    <tr>\n      <th>0</th>\n      <td>1.6988</td>\n      <td>1</td>\n      <td>0.000000</td>\n      <td>0.000000</td>\n      <td>0.000000</td>\n      <td>NaN</td>\n      <td>NaN</td>\n      <td>NaN</td>\n      <td>NaN</td>\n      <td>NaN</td>\n      <td>NaN</td>\n      <td>NaN</td>\n      <td>NaN</td>\n      <td>NaN</td>\n    </tr>\n    <tr>\n      <th>1</th>\n      <td>0.4714</td>\n      <td>500</td>\n      <td>0.252917</td>\n      <td>0.126459</td>\n      <td>0.166778</td>\n      <td>NaN</td>\n      <td>NaN</td>\n      <td>NaN</td>\n      <td>NaN</td>\n      <td>NaN</td>\n      <td>NaN</td>\n      <td>NaN</td>\n      <td>NaN</td>\n      <td>NaN</td>\n    </tr>\n    <tr>\n      <th>2</th>\n      <td>NaN</td>\n      <td>500</td>\n      <td>0.252917</td>\n      <td>0.126459</td>\n      <td>0.166778</td>\n      <td>0.361490</td>\n      <td>4.4260</td>\n      <td>49.706</td>\n      <td>6.326</td>\n      <td>NaN</td>\n      <td>NaN</td>\n      <td>NaN</td>\n      <td>NaN</td>\n      <td>NaN</td>\n    </tr>\n    <tr>\n      <th>3</th>\n      <td>0.1581</td>\n      <td>1000</td>\n      <td>0.422667</td>\n      <td>0.211334</td>\n      <td>0.333890</td>\n      <td>NaN</td>\n      <td>NaN</td>\n      <td>NaN</td>\n      <td>NaN</td>\n      <td>NaN</td>\n      <td>NaN</td>\n      <td>NaN</td>\n      <td>NaN</td>\n      <td>NaN</td>\n    </tr>\n    <tr>\n      <th>4</th>\n      <td>NaN</td>\n      <td>1000</td>\n      <td>0.422667</td>\n      <td>0.211334</td>\n      <td>0.333890</td>\n      <td>0.461445</td>\n      <td>0.7738</td>\n      <td>284.302</td>\n      <td>36.184</td>\n      <td>NaN</td>\n      <td>NaN</td>\n      <td>NaN</td>\n      <td>NaN</td>\n      <td>NaN</td>\n    </tr>\n    <tr>\n      <th>5</th>\n      <td>0.0845</td>\n      <td>1500</td>\n      <td>0.525450</td>\n      <td>0.262725</td>\n      <td>0.501003</td>\n      <td>NaN</td>\n      <td>NaN</td>\n      <td>NaN</td>\n      <td>NaN</td>\n      <td>NaN</td>\n      <td>NaN</td>\n      <td>NaN</td>\n      <td>NaN</td>\n      <td>NaN</td>\n    </tr>\n    <tr>\n      <th>6</th>\n      <td>NaN</td>\n      <td>1500</td>\n      <td>0.525450</td>\n      <td>0.262725</td>\n      <td>0.501003</td>\n      <td>0.585594</td>\n      <td>0.8997</td>\n      <td>244.527</td>\n      <td>31.122</td>\n      <td>NaN</td>\n      <td>NaN</td>\n      <td>NaN</td>\n      <td>NaN</td>\n      <td>NaN</td>\n    </tr>\n    <tr>\n      <th>7</th>\n      <td>0.0481</td>\n      <td>2000</td>\n      <td>0.578066</td>\n      <td>0.289033</td>\n      <td>0.668115</td>\n      <td>NaN</td>\n      <td>NaN</td>\n      <td>NaN</td>\n      <td>NaN</td>\n      <td>NaN</td>\n      <td>NaN</td>\n      <td>NaN</td>\n      <td>NaN</td>\n      <td>NaN</td>\n    </tr>\n    <tr>\n      <th>8</th>\n      <td>NaN</td>\n      <td>2000</td>\n      <td>0.578066</td>\n      <td>0.289033</td>\n      <td>0.668115</td>\n      <td>0.698158</td>\n      <td>0.7849</td>\n      <td>280.302</td>\n      <td>35.675</td>\n      <td>NaN</td>\n      <td>NaN</td>\n      <td>NaN</td>\n      <td>NaN</td>\n      <td>NaN</td>\n    </tr>\n    <tr>\n      <th>9</th>\n      <td>0.0240</td>\n      <td>2500</td>\n      <td>0.597316</td>\n      <td>0.298658</td>\n      <td>0.835227</td>\n      <td>NaN</td>\n      <td>NaN</td>\n      <td>NaN</td>\n      <td>NaN</td>\n      <td>NaN</td>\n      <td>NaN</td>\n      <td>NaN</td>\n      <td>NaN</td>\n      <td>NaN</td>\n    </tr>\n    <tr>\n      <th>10</th>\n      <td>NaN</td>\n      <td>2500</td>\n      <td>0.597316</td>\n      <td>0.298658</td>\n      <td>0.835227</td>\n      <td>0.767467</td>\n      <td>0.8603</td>\n      <td>255.719</td>\n      <td>32.546</td>\n      <td>NaN</td>\n      <td>NaN</td>\n      <td>NaN</td>\n      <td>NaN</td>\n      <td>NaN</td>\n    </tr>\n    <tr>\n      <th>11</th>\n      <td>0.0120</td>\n      <td>3000</td>\n      <td>0.600000</td>\n      <td>0.300000</td>\n      <td>1.000000</td>\n      <td>NaN</td>\n      <td>NaN</td>\n      <td>NaN</td>\n      <td>NaN</td>\n      <td>NaN</td>\n      <td>NaN</td>\n      <td>NaN</td>\n      <td>NaN</td>\n      <td>NaN</td>\n    </tr>\n    <tr>\n      <th>12</th>\n      <td>NaN</td>\n      <td>3000</td>\n      <td>0.600000</td>\n      <td>0.300000</td>\n      <td>1.000000</td>\n      <td>0.798096</td>\n      <td>0.8135</td>\n      <td>270.426</td>\n      <td>34.418</td>\n      <td>NaN</td>\n      <td>NaN</td>\n      <td>NaN</td>\n      <td>NaN</td>\n      <td>NaN</td>\n    </tr>\n    <tr>\n      <th>13</th>\n      <td>0.0068</td>\n      <td>3500</td>\n      <td>0.600000</td>\n      <td>0.300000</td>\n      <td>1.000000</td>\n      <td>NaN</td>\n      <td>NaN</td>\n      <td>NaN</td>\n      <td>NaN</td>\n      <td>NaN</td>\n      <td>NaN</td>\n      <td>NaN</td>\n      <td>NaN</td>\n      <td>NaN</td>\n    </tr>\n    <tr>\n      <th>14</th>\n      <td>NaN</td>\n      <td>3500</td>\n      <td>0.600000</td>\n      <td>0.300000</td>\n      <td>1.000000</td>\n      <td>0.810244</td>\n      <td>0.8336</td>\n      <td>263.914</td>\n      <td>33.589</td>\n      <td>NaN</td>\n      <td>NaN</td>\n      <td>NaN</td>\n      <td>NaN</td>\n      <td>NaN</td>\n    </tr>\n    <tr>\n      <th>15</th>\n      <td>NaN</td>\n      <td>3520</td>\n      <td>0.600000</td>\n      <td>0.300000</td>\n      <td>1.000000</td>\n      <td>NaN</td>\n      <td>NaN</td>\n      <td>NaN</td>\n      <td>NaN</td>\n      <td>1668.5623</td>\n      <td>33.811</td>\n      <td>2.11</td>\n      <td>3.050494e+16</td>\n      <td>0.11471</td>\n    </tr>\n  </tbody>\n</table>\n</div>\n    <div class=\"colab-df-buttons\">\n\n  <div class=\"colab-df-container\">\n    <button class=\"colab-df-convert\" onclick=\"convertToInteractive('df-35379e83-1a01-496e-a4d7-48cba6392d5f')\"\n            title=\"Convert this dataframe to an interactive table.\"\n            style=\"display:none;\">\n\n  <svg xmlns=\"http://www.w3.org/2000/svg\" height=\"24px\" viewBox=\"0 -960 960 960\">\n    <path d=\"M120-120v-720h720v720H120Zm60-500h600v-160H180v160Zm220 220h160v-160H400v160Zm0 220h160v-160H400v160ZM180-400h160v-160H180v160Zm440 0h160v-160H620v160ZM180-180h160v-160H180v160Zm440 0h160v-160H620v160Z\"/>\n  </svg>\n    </button>\n\n  <style>\n    .colab-df-container {\n      display:flex;\n      gap: 12px;\n    }\n\n    .colab-df-convert {\n      background-color: #E8F0FE;\n      border: none;\n      border-radius: 50%;\n      cursor: pointer;\n      display: none;\n      fill: #1967D2;\n      height: 32px;\n      padding: 0 0 0 0;\n      width: 32px;\n    }\n\n    .colab-df-convert:hover {\n      background-color: #E2EBFA;\n      box-shadow: 0px 1px 2px rgba(60, 64, 67, 0.3), 0px 1px 3px 1px rgba(60, 64, 67, 0.15);\n      fill: #174EA6;\n    }\n\n    .colab-df-buttons div {\n      margin-bottom: 4px;\n    }\n\n    [theme=dark] .colab-df-convert {\n      background-color: #3B4455;\n      fill: #D2E3FC;\n    }\n\n    [theme=dark] .colab-df-convert:hover {\n      background-color: #434B5C;\n      box-shadow: 0px 1px 3px 1px rgba(0, 0, 0, 0.15);\n      filter: drop-shadow(0px 1px 2px rgba(0, 0, 0, 0.3));\n      fill: #FFFFFF;\n    }\n  </style>\n\n    <script>\n      const buttonEl =\n        document.querySelector('#df-35379e83-1a01-496e-a4d7-48cba6392d5f button.colab-df-convert');\n      buttonEl.style.display =\n        google.colab.kernel.accessAllowed ? 'block' : 'none';\n\n      async function convertToInteractive(key) {\n        const element = document.querySelector('#df-35379e83-1a01-496e-a4d7-48cba6392d5f');\n        const dataTable =\n          await google.colab.kernel.invokeFunction('convertToInteractive',\n                                                    [key], {});\n        if (!dataTable) return;\n\n        const docLinkHtml = 'Like what you see? Visit the ' +\n          '<a target=\"_blank\" href=https://colab.research.google.com/notebooks/data_table.ipynb>data table notebook</a>'\n          + ' to learn more about interactive tables.';\n        element.innerHTML = '';\n        dataTable['output_type'] = 'display_data';\n        await google.colab.output.renderOutput(dataTable, element);\n        const docLink = document.createElement('div');\n        docLink.innerHTML = docLinkHtml;\n        element.appendChild(docLink);\n      }\n    </script>\n  </div>\n\n\n<div id=\"df-78397377-9f5d-4bb8-98e9-e976b60ae4f5\">\n  <button class=\"colab-df-quickchart\" onclick=\"quickchart('df-78397377-9f5d-4bb8-98e9-e976b60ae4f5')\"\n            title=\"Suggest charts\"\n            style=\"display:none;\">\n\n<svg xmlns=\"http://www.w3.org/2000/svg\" height=\"24px\"viewBox=\"0 0 24 24\"\n     width=\"24px\">\n    <g>\n        <path d=\"M19 3H5c-1.1 0-2 .9-2 2v14c0 1.1.9 2 2 2h14c1.1 0 2-.9 2-2V5c0-1.1-.9-2-2-2zM9 17H7v-7h2v7zm4 0h-2V7h2v10zm4 0h-2v-4h2v4z\"/>\n    </g>\n</svg>\n  </button>\n\n<style>\n  .colab-df-quickchart {\n      --bg-color: #E8F0FE;\n      --fill-color: #1967D2;\n      --hover-bg-color: #E2EBFA;\n      --hover-fill-color: #174EA6;\n      --disabled-fill-color: #AAA;\n      --disabled-bg-color: #DDD;\n  }\n\n  [theme=dark] .colab-df-quickchart {\n      --bg-color: #3B4455;\n      --fill-color: #D2E3FC;\n      --hover-bg-color: #434B5C;\n      --hover-fill-color: #FFFFFF;\n      --disabled-bg-color: #3B4455;\n      --disabled-fill-color: #666;\n  }\n\n  .colab-df-quickchart {\n    background-color: var(--bg-color);\n    border: none;\n    border-radius: 50%;\n    cursor: pointer;\n    display: none;\n    fill: var(--fill-color);\n    height: 32px;\n    padding: 0;\n    width: 32px;\n  }\n\n  .colab-df-quickchart:hover {\n    background-color: var(--hover-bg-color);\n    box-shadow: 0 1px 2px rgba(60, 64, 67, 0.3), 0 1px 3px 1px rgba(60, 64, 67, 0.15);\n    fill: var(--button-hover-fill-color);\n  }\n\n  .colab-df-quickchart-complete:disabled,\n  .colab-df-quickchart-complete:disabled:hover {\n    background-color: var(--disabled-bg-color);\n    fill: var(--disabled-fill-color);\n    box-shadow: none;\n  }\n\n  .colab-df-spinner {\n    border: 2px solid var(--fill-color);\n    border-color: transparent;\n    border-bottom-color: var(--fill-color);\n    animation:\n      spin 1s steps(1) infinite;\n  }\n\n  @keyframes spin {\n    0% {\n      border-color: transparent;\n      border-bottom-color: var(--fill-color);\n      border-left-color: var(--fill-color);\n    }\n    20% {\n      border-color: transparent;\n      border-left-color: var(--fill-color);\n      border-top-color: var(--fill-color);\n    }\n    30% {\n      border-color: transparent;\n      border-left-color: var(--fill-color);\n      border-top-color: var(--fill-color);\n      border-right-color: var(--fill-color);\n    }\n    40% {\n      border-color: transparent;\n      border-right-color: var(--fill-color);\n      border-top-color: var(--fill-color);\n    }\n    60% {\n      border-color: transparent;\n      border-right-color: var(--fill-color);\n    }\n    80% {\n      border-color: transparent;\n      border-right-color: var(--fill-color);\n      border-bottom-color: var(--fill-color);\n    }\n    90% {\n      border-color: transparent;\n      border-bottom-color: var(--fill-color);\n    }\n  }\n</style>\n\n  <script>\n    async function quickchart(key) {\n      const quickchartButtonEl =\n        document.querySelector('#' + key + ' button');\n      quickchartButtonEl.disabled = true;  // To prevent multiple clicks.\n      quickchartButtonEl.classList.add('colab-df-spinner');\n      try {\n        const charts = await google.colab.kernel.invokeFunction(\n            'suggestCharts', [key], {});\n      } catch (error) {\n        console.error('Error during call to suggestCharts:', error);\n      }\n      quickchartButtonEl.classList.remove('colab-df-spinner');\n      quickchartButtonEl.classList.add('colab-df-quickchart-complete');\n    }\n    (() => {\n      let quickchartButtonEl =\n        document.querySelector('#df-78397377-9f5d-4bb8-98e9-e976b60ae4f5 button');\n      quickchartButtonEl.style.display =\n        google.colab.kernel.accessAllowed ? 'block' : 'none';\n    })();\n  </script>\n</div>\n\n    </div>\n  </div>\n",
         "text/plain": "      loss  step  ffn_threshold  attn_threshold  progress  eval_loss  \\\n0   1.6988     1       0.000000        0.000000  0.000000        NaN   \n1   0.4714   500       0.252917        0.126459  0.166778        NaN   \n2      NaN   500       0.252917        0.126459  0.166778   0.361490   \n3   0.1581  1000       0.422667        0.211334  0.333890        NaN   \n4      NaN  1000       0.422667        0.211334  0.333890   0.461445   \n5   0.0845  1500       0.525450        0.262725  0.501003        NaN   \n6      NaN  1500       0.525450        0.262725  0.501003   0.585594   \n7   0.0481  2000       0.578066        0.289033  0.668115        NaN   \n8      NaN  2000       0.578066        0.289033  0.668115   0.698158   \n9   0.0240  2500       0.597316        0.298658  0.835227        NaN   \n10     NaN  2500       0.597316        0.298658  0.835227   0.767467   \n11  0.0120  3000       0.600000        0.300000  1.000000        NaN   \n12     NaN  3000       0.600000        0.300000  1.000000   0.798096   \n13  0.0068  3500       0.600000        0.300000  1.000000        NaN   \n14     NaN  3500       0.600000        0.300000  1.000000   0.810244   \n15     NaN  3520       0.600000        0.300000  1.000000        NaN   \n\n    eval_runtime  eval_samples_per_second  eval_steps_per_second  \\\n0            NaN                      NaN                    NaN   \n1            NaN                      NaN                    NaN   \n2         4.4260                   49.706                  6.326   \n3            NaN                      NaN                    NaN   \n4         0.7738                  284.302                 36.184   \n5            NaN                      NaN                    NaN   \n6         0.8997                  244.527                 31.122   \n7            NaN                      NaN                    NaN   \n8         0.7849                  280.302                 35.675   \n9            NaN                      NaN                    NaN   \n10        0.8603                  255.719                 32.546   \n11           NaN                      NaN                    NaN   \n12        0.8135                  270.426                 34.418   \n13           NaN                      NaN                    NaN   \n14        0.8336                  263.914                 33.589   \n15           NaN                      NaN                    NaN   \n\n    train_runtime  train_samples_per_second  train_steps_per_second  \\\n0             NaN                       NaN                     NaN   \n1             NaN                       NaN                     NaN   \n2             NaN                       NaN                     NaN   \n3             NaN                       NaN                     NaN   \n4             NaN                       NaN                     NaN   \n5             NaN                       NaN                     NaN   \n6             NaN                       NaN                     NaN   \n7             NaN                       NaN                     NaN   \n8             NaN                       NaN                     NaN   \n9             NaN                       NaN                     NaN   \n10            NaN                       NaN                     NaN   \n11            NaN                       NaN                     NaN   \n12            NaN                       NaN                     NaN   \n13            NaN                       NaN                     NaN   \n14            NaN                       NaN                     NaN   \n15      1668.5623                    33.811                    2.11   \n\n      total_flos  train_loss  \n0            NaN         NaN  \n1            NaN         NaN  \n2            NaN         NaN  \n3            NaN         NaN  \n4            NaN         NaN  \n5            NaN         NaN  \n6            NaN         NaN  \n7            NaN         NaN  \n8            NaN         NaN  \n9            NaN         NaN  \n10           NaN         NaN  \n11           NaN         NaN  \n12           NaN         NaN  \n13           NaN         NaN  \n14           NaN         NaN  \n15  3.050494e+16     0.11471  "
        },
        "metadata": {},
        "output_type": "display_data"
       }
      ]
     }
    },
    "833ecec58d7b449da977f0936e7d6b92": {
     "model_module": "@jupyter-widgets/base",
     "model_module_version": "1.2.0",
     "model_name": "LayoutModel",
     "state": {
      "_model_module": "@jupyter-widgets/base",
      "_model_module_version": "1.2.0",
      "_model_name": "LayoutModel",
      "_view_count": null,
      "_view_module": "@jupyter-widgets/base",
      "_view_module_version": "1.2.0",
      "_view_name": "LayoutView",
      "align_content": null,
      "align_items": null,
      "align_self": null,
      "border": null,
      "bottom": null,
      "display": null,
      "flex": null,
      "flex_flow": null,
      "grid_area": null,
      "grid_auto_columns": null,
      "grid_auto_flow": null,
      "grid_auto_rows": null,
      "grid_column": null,
      "grid_gap": null,
      "grid_row": null,
      "grid_template_areas": null,
      "grid_template_columns": null,
      "grid_template_rows": null,
      "height": null,
      "justify_content": null,
      "justify_items": null,
      "left": null,
      "margin": null,
      "max_height": null,
      "max_width": null,
      "min_height": null,
      "min_width": null,
      "object_fit": null,
      "object_position": null,
      "order": null,
      "overflow": null,
      "overflow_x": null,
      "overflow_y": null,
      "padding": null,
      "right": null,
      "top": null,
      "visibility": null,
      "width": null
     }
    },
    "8bde7c8f05b941e98bd70553dcea51a7": {
     "model_module": "@jupyter-widgets/controls",
     "model_module_version": "1.5.0",
     "model_name": "FloatProgressModel",
     "state": {
      "_dom_classes": [],
      "_model_module": "@jupyter-widgets/controls",
      "_model_module_version": "1.5.0",
      "_model_name": "FloatProgressModel",
      "_view_count": null,
      "_view_module": "@jupyter-widgets/controls",
      "_view_module_version": "1.5.0",
      "_view_name": "ProgressView",
      "bar_style": "success",
      "description": "",
      "description_tooltip": null,
      "layout": "IPY_MODEL_cd6a43dd319b4dce804bb8f2ec349528",
      "max": 2204,
      "min": 0,
      "orientation": "horizontal",
      "style": "IPY_MODEL_6ae8a0f71965432caff1e1c0c9b32ae4",
      "value": 2204
     }
    },
    "a5149f97983c46bc833ebfadd8403af3": {
     "model_module": "@jupyter-widgets/base",
     "model_module_version": "1.2.0",
     "model_name": "LayoutModel",
     "state": {
      "_model_module": "@jupyter-widgets/base",
      "_model_module_version": "1.2.0",
      "_model_name": "LayoutModel",
      "_view_count": null,
      "_view_module": "@jupyter-widgets/base",
      "_view_module_version": "1.2.0",
      "_view_name": "LayoutView",
      "align_content": null,
      "align_items": null,
      "align_self": null,
      "border": null,
      "bottom": null,
      "display": null,
      "flex": null,
      "flex_flow": null,
      "grid_area": null,
      "grid_auto_columns": null,
      "grid_auto_flow": null,
      "grid_auto_rows": null,
      "grid_column": null,
      "grid_gap": null,
      "grid_row": null,
      "grid_template_areas": null,
      "grid_template_columns": null,
      "grid_template_rows": null,
      "height": null,
      "justify_content": null,
      "justify_items": null,
      "left": null,
      "margin": null,
      "max_height": null,
      "max_width": null,
      "min_height": null,
      "min_width": null,
      "object_fit": null,
      "object_position": null,
      "order": null,
      "overflow": null,
      "overflow_x": null,
      "overflow_y": null,
      "padding": null,
      "right": null,
      "top": null,
      "visibility": null,
      "width": null
     }
    },
    "bb5ac4a7ec3d4f88901a0315533a9cae": {
     "model_module": "@jupyter-widgets/base",
     "model_module_version": "1.2.0",
     "model_name": "LayoutModel",
     "state": {
      "_model_module": "@jupyter-widgets/base",
      "_model_module_version": "1.2.0",
      "_model_name": "LayoutModel",
      "_view_count": null,
      "_view_module": "@jupyter-widgets/base",
      "_view_module_version": "1.2.0",
      "_view_name": "LayoutView",
      "align_content": null,
      "align_items": null,
      "align_self": null,
      "border": null,
      "bottom": null,
      "display": null,
      "flex": null,
      "flex_flow": null,
      "grid_area": null,
      "grid_auto_columns": null,
      "grid_auto_flow": null,
      "grid_auto_rows": null,
      "grid_column": null,
      "grid_gap": null,
      "grid_row": null,
      "grid_template_areas": null,
      "grid_template_columns": null,
      "grid_template_rows": null,
      "height": null,
      "justify_content": null,
      "justify_items": null,
      "left": null,
      "margin": null,
      "max_height": null,
      "max_width": null,
      "min_height": null,
      "min_width": null,
      "object_fit": null,
      "object_position": null,
      "order": null,
      "overflow": null,
      "overflow_x": null,
      "overflow_y": null,
      "padding": null,
      "right": null,
      "top": null,
      "visibility": null,
      "width": null
     }
    },
    "c19b525ef02448dd95ee88dc7955b0dd": {
     "model_module": "@jupyter-widgets/controls",
     "model_module_version": "1.5.0",
     "model_name": "HTMLModel",
     "state": {
      "_dom_classes": [],
      "_model_module": "@jupyter-widgets/controls",
      "_model_module_version": "1.5.0",
      "_model_name": "HTMLModel",
      "_view_count": null,
      "_view_module": "@jupyter-widgets/controls",
      "_view_module_version": "1.5.0",
      "_view_name": "HTMLView",
      "description": "",
      "description_tooltip": null,
      "layout": "IPY_MODEL_ee9960fc1cd7468391dc41f783e086ea",
      "placeholder": "​",
      "style": "IPY_MODEL_66f05378e3aa472ba136e04ae542025e",
      "value": " 2204/2204 [00:01&lt;00:00, 1420.75 examples/s]"
     }
    },
    "cd6a43dd319b4dce804bb8f2ec349528": {
     "model_module": "@jupyter-widgets/base",
     "model_module_version": "1.2.0",
     "model_name": "LayoutModel",
     "state": {
      "_model_module": "@jupyter-widgets/base",
      "_model_module_version": "1.2.0",
      "_model_name": "LayoutModel",
      "_view_count": null,
      "_view_module": "@jupyter-widgets/base",
      "_view_module_version": "1.2.0",
      "_view_name": "LayoutView",
      "align_content": null,
      "align_items": null,
      "align_self": null,
      "border": null,
      "bottom": null,
      "display": null,
      "flex": null,
      "flex_flow": null,
      "grid_area": null,
      "grid_auto_columns": null,
      "grid_auto_flow": null,
      "grid_auto_rows": null,
      "grid_column": null,
      "grid_gap": null,
      "grid_row": null,
      "grid_template_areas": null,
      "grid_template_columns": null,
      "grid_template_rows": null,
      "height": null,
      "justify_content": null,
      "justify_items": null,
      "left": null,
      "margin": null,
      "max_height": null,
      "max_width": null,
      "min_height": null,
      "min_width": null,
      "object_fit": null,
      "object_position": null,
      "order": null,
      "overflow": null,
      "overflow_x": null,
      "overflow_y": null,
      "padding": null,
      "right": null,
      "top": null,
      "visibility": null,
      "width": null
     }
    },
    "d3c151b5e7774fe1b84e810d1bdd9692": {
     "model_module": "@jupyter-widgets/controls",
     "model_module_version": "1.5.0",
     "model_name": "HTMLModel",
     "state": {
      "_dom_classes": [],
      "_model_module": "@jupyter-widgets/controls",
      "_model_module_version": "1.5.0",
      "_model_name": "HTMLModel",
      "_view_count": null,
      "_view_module": "@jupyter-widgets/controls",
      "_view_module_version": "1.5.0",
      "_view_name": "HTMLView",
      "description": "",
      "description_tooltip": null,
      "layout": "IPY_MODEL_833ecec58d7b449da977f0936e7d6b92",
      "placeholder": "​",
      "style": "IPY_MODEL_6cc31c72309548acb651f0f1c7f0dac1",
      "value": "Running tokenizer on train dataset: 100%"
     }
    },
    "ee9960fc1cd7468391dc41f783e086ea": {
     "model_module": "@jupyter-widgets/base",
     "model_module_version": "1.2.0",
     "model_name": "LayoutModel",
     "state": {
      "_model_module": "@jupyter-widgets/base",
      "_model_module_version": "1.2.0",
      "_model_name": "LayoutModel",
      "_view_count": null,
      "_view_module": "@jupyter-widgets/base",
      "_view_module_version": "1.2.0",
      "_view_name": "LayoutView",
      "align_content": null,
      "align_items": null,
      "align_self": null,
      "border": null,
      "bottom": null,
      "display": null,
      "flex": null,
      "flex_flow": null,
      "grid_area": null,
      "grid_auto_columns": null,
      "grid_auto_flow": null,
      "grid_auto_rows": null,
      "grid_column": null,
      "grid_gap": null,
      "grid_row": null,
      "grid_template_areas": null,
      "grid_template_columns": null,
      "grid_template_rows": null,
      "height": null,
      "justify_content": null,
      "justify_items": null,
      "left": null,
      "margin": null,
      "max_height": null,
      "max_width": null,
      "min_height": null,
      "min_width": null,
      "object_fit": null,
      "object_position": null,
      "order": null,
      "overflow": null,
      "overflow_x": null,
      "overflow_y": null,
      "padding": null,
      "right": null,
      "top": null,
      "visibility": null,
      "width": null
     }
    }
   }
  }
 },
 "nbformat": 4,
 "nbformat_minor": 5
}
